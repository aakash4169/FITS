{
 "cells": [
  {
   "cell_type": "code",
   "execution_count": 57,
   "metadata": {},
   "outputs": [],
   "source": [
    "import pandas as pd\n",
    "import numpy as np\n",
    "import seaborn as sns\n",
    "%matplotlib inline"
   ]
  },
  {
   "cell_type": "code",
   "execution_count": 2,
   "metadata": {},
   "outputs": [
    {
     "name": "stderr",
     "output_type": "stream",
     "text": [
      "/Users/vedparanjape/anaconda3/lib/python3.6/site-packages/IPython/core/interactiveshell.py:2728: DtypeWarning: Columns (10) have mixed types. Specify dtype option on import or set low_memory=False.\n",
      "  interactivity=interactivity, compiler=compiler, result=result)\n"
     ]
    }
   ],
   "source": [
    "csv = pd.read_csv('tread_depth.csv')"
   ]
  },
  {
   "cell_type": "code",
   "execution_count": 3,
   "metadata": {},
   "outputs": [
    {
     "data": {
      "text/html": [
       "<div>\n",
       "<style scoped>\n",
       "    .dataframe tbody tr th:only-of-type {\n",
       "        vertical-align: middle;\n",
       "    }\n",
       "\n",
       "    .dataframe tbody tr th {\n",
       "        vertical-align: top;\n",
       "    }\n",
       "\n",
       "    .dataframe thead th {\n",
       "        text-align: right;\n",
       "    }\n",
       "</style>\n",
       "<table border=\"1\" class=\"dataframe\">\n",
       "  <thead>\n",
       "    <tr style=\"text-align: right;\">\n",
       "      <th></th>\n",
       "      <th>Unnamed: 0</th>\n",
       "      <th>mileage</th>\n",
       "      <th>tacho</th>\n",
       "      <th>td_min</th>\n",
       "      <th>td_mean</th>\n",
       "      <th>tisize_rim</th>\n",
       "      <th>tisize_width</th>\n",
       "      <th>tisize_ratio</th>\n",
       "      <th>numspikes_na</th>\n",
       "    </tr>\n",
       "  </thead>\n",
       "  <tbody>\n",
       "    <tr>\n",
       "      <th>count</th>\n",
       "      <td>740578.000000</td>\n",
       "      <td>7.383630e+05</td>\n",
       "      <td>6.164660e+05</td>\n",
       "      <td>740578.000000</td>\n",
       "      <td>740556.000000</td>\n",
       "      <td>740578.000000</td>\n",
       "      <td>740578.000000</td>\n",
       "      <td>740578.000000</td>\n",
       "      <td>740578.000000</td>\n",
       "    </tr>\n",
       "    <tr>\n",
       "      <th>mean</th>\n",
       "      <td>370289.500000</td>\n",
       "      <td>5.800007e+04</td>\n",
       "      <td>3.043487e+05</td>\n",
       "      <td>9.753170</td>\n",
       "      <td>10.711809</td>\n",
       "      <td>20.257400</td>\n",
       "      <td>285.225466</td>\n",
       "      <td>69.914804</td>\n",
       "      <td>0.935107</td>\n",
       "    </tr>\n",
       "    <tr>\n",
       "      <th>std</th>\n",
       "      <td>213786.598166</td>\n",
       "      <td>7.290632e+04</td>\n",
       "      <td>3.026604e+05</td>\n",
       "      <td>7.609422</td>\n",
       "      <td>7.364591</td>\n",
       "      <td>12.248833</td>\n",
       "      <td>76.951435</td>\n",
       "      <td>13.346073</td>\n",
       "      <td>0.246336</td>\n",
       "    </tr>\n",
       "    <tr>\n",
       "      <th>min</th>\n",
       "      <td>1.000000</td>\n",
       "      <td>-2.309810e+05</td>\n",
       "      <td>0.000000e+00</td>\n",
       "      <td>0.000000</td>\n",
       "      <td>-0.100000</td>\n",
       "      <td>2.000000</td>\n",
       "      <td>100.000000</td>\n",
       "      <td>30.000000</td>\n",
       "      <td>0.000000</td>\n",
       "    </tr>\n",
       "    <tr>\n",
       "      <th>25%</th>\n",
       "      <td>185145.250000</td>\n",
       "      <td>4.860000e+03</td>\n",
       "      <td>1.068210e+05</td>\n",
       "      <td>5.660000</td>\n",
       "      <td>6.800000</td>\n",
       "      <td>16.000000</td>\n",
       "      <td>225.000000</td>\n",
       "      <td>60.000000</td>\n",
       "      <td>1.000000</td>\n",
       "    </tr>\n",
       "    <tr>\n",
       "      <th>50%</th>\n",
       "      <td>370289.500000</td>\n",
       "      <td>3.174300e+04</td>\n",
       "      <td>2.287185e+05</td>\n",
       "      <td>8.500000</td>\n",
       "      <td>9.366667</td>\n",
       "      <td>22.500000</td>\n",
       "      <td>295.000000</td>\n",
       "      <td>65.000000</td>\n",
       "      <td>1.000000</td>\n",
       "    </tr>\n",
       "    <tr>\n",
       "      <th>75%</th>\n",
       "      <td>555433.750000</td>\n",
       "      <td>8.325350e+04</td>\n",
       "      <td>4.265838e+05</td>\n",
       "      <td>12.800000</td>\n",
       "      <td>13.558350</td>\n",
       "      <td>22.500000</td>\n",
       "      <td>315.000000</td>\n",
       "      <td>80.000000</td>\n",
       "      <td>1.000000</td>\n",
       "    </tr>\n",
       "    <tr>\n",
       "      <th>max</th>\n",
       "      <td>740578.000000</td>\n",
       "      <td>1.323980e+06</td>\n",
       "      <td>1.046440e+07</td>\n",
       "      <td>114.000000</td>\n",
       "      <td>114.000000</td>\n",
       "      <td>470.000000</td>\n",
       "      <td>1078.000000</td>\n",
       "      <td>305.000000</td>\n",
       "      <td>1.000000</td>\n",
       "    </tr>\n",
       "  </tbody>\n",
       "</table>\n",
       "</div>"
      ],
      "text/plain": [
       "          Unnamed: 0       mileage         tacho         td_min  \\\n",
       "count  740578.000000  7.383630e+05  6.164660e+05  740578.000000   \n",
       "mean   370289.500000  5.800007e+04  3.043487e+05       9.753170   \n",
       "std    213786.598166  7.290632e+04  3.026604e+05       7.609422   \n",
       "min         1.000000 -2.309810e+05  0.000000e+00       0.000000   \n",
       "25%    185145.250000  4.860000e+03  1.068210e+05       5.660000   \n",
       "50%    370289.500000  3.174300e+04  2.287185e+05       8.500000   \n",
       "75%    555433.750000  8.325350e+04  4.265838e+05      12.800000   \n",
       "max    740578.000000  1.323980e+06  1.046440e+07     114.000000   \n",
       "\n",
       "             td_mean     tisize_rim   tisize_width   tisize_ratio  \\\n",
       "count  740556.000000  740578.000000  740578.000000  740578.000000   \n",
       "mean       10.711809      20.257400     285.225466      69.914804   \n",
       "std         7.364591      12.248833      76.951435      13.346073   \n",
       "min        -0.100000       2.000000     100.000000      30.000000   \n",
       "25%         6.800000      16.000000     225.000000      60.000000   \n",
       "50%         9.366667      22.500000     295.000000      65.000000   \n",
       "75%        13.558350      22.500000     315.000000      80.000000   \n",
       "max       114.000000     470.000000    1078.000000     305.000000   \n",
       "\n",
       "        numspikes_na  \n",
       "count  740578.000000  \n",
       "mean        0.935107  \n",
       "std         0.246336  \n",
       "min         0.000000  \n",
       "25%         1.000000  \n",
       "50%         1.000000  \n",
       "75%         1.000000  \n",
       "max         1.000000  "
      ]
     },
     "execution_count": 3,
     "metadata": {},
     "output_type": "execute_result"
    }
   ],
   "source": [
    "csv.describe()"
   ]
  },
  {
   "cell_type": "code",
   "execution_count": 4,
   "metadata": {},
   "outputs": [
    {
     "data": {
      "text/plain": [
       "Index(['Unnamed: 0', 'unique_titd', 'tire.country_fk', 'section.section_fk',\n",
       "       'tiregroup.testplan_fk', 'mileage', 'date', 'tacho', 'td_min',\n",
       "       'td_mean', 'wheelposition', 'rimtype', 'tisize_rim', 'tisize_width',\n",
       "       'tisize_radial', 'tisize_ratio', 'numspikes_na', 'finding', 'reason'],\n",
       "      dtype='object')"
      ]
     },
     "execution_count": 4,
     "metadata": {},
     "output_type": "execute_result"
    }
   ],
   "source": [
    "csv.columns"
   ]
  },
  {
   "cell_type": "code",
   "execution_count": 76,
   "metadata": {
    "scrolled": true
   },
   "outputs": [
    {
     "data": {
      "text/plain": [
       "124112"
      ]
     },
     "execution_count": 76,
     "metadata": {},
     "output_type": "execute_result"
    }
   ],
   "source": [
    "mileage = csv['tacho']\n",
    "mileage.isnull().sum()"
   ]
  },
  {
   "cell_type": "code",
   "execution_count": 81,
   "metadata": {},
   "outputs": [
    {
     "data": {
      "text/plain": [
       "616466"
      ]
     },
     "execution_count": 81,
     "metadata": {},
     "output_type": "execute_result"
    }
   ],
   "source": [
    "nn = mileage.dropna()\n",
    "len(nn)"
   ]
  },
  {
   "cell_type": "code",
   "execution_count": 78,
   "metadata": {},
   "outputs": [
    {
     "data": {
      "text/plain": [
       "<matplotlib.axes._subplots.AxesSubplot at 0x10f4ec198>"
      ]
     },
     "execution_count": 78,
     "metadata": {},
     "output_type": "execute_result"
    },
    {
     "data": {
      "image/png": "[encoded data removed]",
      "text/plain": [
       "<matplotlib.figure.Figure at 0x10f3afa90>"
      ]
     },
     "metadata": {},
     "output_type": "display_data"
    }
   ],
   "source": [
    "sns.boxplot(x=nn)"
   ]
  },
  {
   "cell_type": "code",
   "execution_count": 84,
   "metadata": {},
   "outputs": [],
   "source": [
    "a = nn[nn > 1.0]"
   ]
  },
  {
   "cell_type": "code",
   "execution_count": 85,
   "metadata": {},
   "outputs": [
    {
     "data": {
      "text/plain": [
       "10464400.0"
      ]
     },
     "execution_count": 85,
     "metadata": {},
     "output_type": "execute_result"
    }
   ],
   "source": [
    "np.max(nn)"
   ]
  },
  {
   "cell_type": "code",
   "execution_count": 86,
   "metadata": {},
   "outputs": [
    {
     "data": {
      "text/plain": [
       "602749"
      ]
     },
     "execution_count": 86,
     "metadata": {},
     "output_type": "execute_result"
    }
   ],
   "source": [
    "len(a)"
   ]
  },
  {
   "cell_type": "code",
   "execution_count": 56,
   "metadata": {},
   "outputs": [
    {
     "data": {
      "text/plain": [
       "<matplotlib.axes._subplots.AxesSubplot at 0x10d5ac6a0>"
      ]
     },
     "execution_count": 56,
     "metadata": {},
     "output_type": "execute_result"
    },
    {
     "data": {
      "image/png": "[encoded data removed]",
      "text/plain": [
       "<matplotlib.figure.Figure at 0x10c4b3c18>"
      ]
     },
     "metadata": {},
     "output_type": "display_data"
    }
   ],
   "source": [
    "nn.hist(range=(np.min(mileage), np.max(mileage)))"
   ]
  },
  {
   "cell_type": "code",
   "execution_count": 13,
   "metadata": {},
   "outputs": [
    {
     "data": {
      "text/plain": [
       "<matplotlib.axes._subplots.AxesSubplot at 0x112c992b0>"
      ]
     },
     "execution_count": 13,
     "metadata": {},
     "output_type": "execute_result"
    },
    {
     "data": {
      "image/png": "[encoded data removed]",
      "text/plain": [
       "<matplotlib.figure.Figure at 0x112be8f98>"
      ]
     },
     "metadata": {},
     "output_type": "display_data"
    }
   ],
   "source": [
    "corr = csv.corr()\n",
    "\n",
    "# plot the heatmap\n",
    "sns.heatmap(corr, \n",
    "        xticklabels=corr.columns,\n",
    "        yticklabels=corr.columns)"
   ]
  },
  {
   "cell_type": "code",
   "execution_count": 23,
   "metadata": {},
   "outputs": [
    {
     "data": {
      "text/plain": [
       "<matplotlib.axes._subplots.AxesSubplot at 0x1299c0e10>"
      ]
     },
     "execution_count": 23,
     "metadata": {},
     "output_type": "execute_result"
    },
    {
     "data": {
      "image/png": "[encoded data removed]",
      "text/plain": [
       "<matplotlib.figure.Figure at 0x12b541fd0>"
      ]
     },
     "metadata": {},
     "output_type": "display_data"
    }
   ],
   "source": [
    "csv['td_min'].dropna().hist()"
   ]
  },
  {
   "cell_type": "code",
   "execution_count": 24,
   "metadata": {},
   "outputs": [
    {
     "data": {
      "text/plain": [
       "Unnamed: 0                    0\n",
       "unique_titd                   0\n",
       "tire.country_fk           20979\n",
       "section.section_fk            0\n",
       "tiregroup.testplan_fk         0\n",
       "mileage                    2215\n",
       "date                          0\n",
       "tacho                    124112\n",
       "td_min                        0\n",
       "td_mean                      22\n",
       "wheelposition            719374\n",
       "rimtype                  335845\n",
       "tisize_rim                    0\n",
       "tisize_width                  0\n",
       "tisize_radial                 0\n",
       "tisize_ratio                  0\n",
       "numspikes_na                  0\n",
       "finding                   39907\n",
       "reason                   674975\n",
       "dtype: int64"
      ]
     },
     "execution_count": 24,
     "metadata": {},
     "output_type": "execute_result"
    }
   ],
   "source": [
    "csv.isnull().sum()"
   ]
  },
  {
   "cell_type": "code",
   "execution_count": 25,
   "metadata": {},
   "outputs": [
    {
     "data": {
      "text/plain": [
       "Unnamed: 0                    0\n",
       "unique_titd                   0\n",
       "tire.country_fk           20979\n",
       "section.section_fk            0\n",
       "tiregroup.testplan_fk         0\n",
       "mileage                    2215\n",
       "date                          0\n",
       "tacho                    124112\n",
       "td_min                        0\n",
       "td_mean                      22\n",
       "wheelposition            719374\n",
       "rimtype                  335845\n",
       "tisize_rim                    0\n",
       "tisize_width                  0\n",
       "tisize_radial                 0\n",
       "tisize_ratio                  0\n",
       "numspikes_na                  0\n",
       "finding                   39907\n",
       "reason                   674975\n",
       "dtype: int64"
      ]
     },
     "execution_count": 25,
     "metadata": {},
     "output_type": "execute_result"
    }
   ],
   "source": [
    "csv.isnull().sum()"
   ]
  },
  {
   "cell_type": "code",
   "execution_count": null,
   "metadata": {},
   "outputs": [],
   "source": []
  }
 ],
 "metadata": {
  "kernelspec": {
   "display_name": "Python 3",
   "language": "python",
   "name": "python3"
  },
  "language_info": {
   "codemirror_mode": {
    "name": "ipython",
    "version": 3
   },
   "file_extension": ".py",
   "mimetype": "text/x-python",
   "name": "python",
   "nbconvert_exporter": "python",
   "pygments_lexer": "ipython3",
   "version": "3.6.4"
  }
 },
 "nbformat": 4,
 "nbformat_minor": 2
}
