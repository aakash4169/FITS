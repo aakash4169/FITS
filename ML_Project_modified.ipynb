{
 "cells": [
  {
   "cell_type": "markdown",
   "metadata": {},
   "source": [
    "# ML "
   ]
  },
  {
   "cell_type": "code",
   "execution_count": 1,
   "metadata": {},
   "outputs": [],
   "source": [
    "import numpy as np\n",
    "import pandas as pd\n",
    "import matplotlib.pyplot as plt\n",
    "%matplotlib inline"
   ]
  },
  {
   "cell_type": "code",
   "execution_count": 2,
   "metadata": {},
   "outputs": [],
   "source": [
    "\n",
    "import numpy as np\n",
    "import pandas as pd\n",
    "from sklearn.model_selection import train_test_split\n",
    "from sklearn.metrics import classification_report\n",
    "\n",
    "from IPython.display import SVG\n",
    "\n",
    "import seaborn as sns\n",
    "import matplotlib.pyplot as plt\n",
    "%matplotlib inline "
   ]
  },
  {
   "cell_type": "code",
   "execution_count": 3,
   "metadata": {},
   "outputs": [
    {
     "name": "stderr",
     "output_type": "stream",
     "text": [
      "/Users/vedparanjape/anaconda3/lib/python3.6/site-packages/IPython/core/interactiveshell.py:2728: DtypeWarning: Columns (9) have mixed types. Specify dtype option on import or set low_memory=False.\n",
      "  interactivity=interactivity, compiler=compiler, result=result)\n"
     ]
    }
   ],
   "source": [
    "df = pd.read_csv('Complete.csv')"
   ]
  },
  {
   "cell_type": "code",
   "execution_count": 4,
   "metadata": {},
   "outputs": [
    {
     "data": {
      "text/html": [
       "<div>\n",
       "<style scoped>\n",
       "    .dataframe tbody tr th:only-of-type {\n",
       "        vertical-align: middle;\n",
       "    }\n",
       "\n",
       "    .dataframe tbody tr th {\n",
       "        vertical-align: top;\n",
       "    }\n",
       "\n",
       "    .dataframe thead th {\n",
       "        text-align: right;\n",
       "    }\n",
       "</style>\n",
       "<table border=\"1\" class=\"dataframe\">\n",
       "  <thead>\n",
       "    <tr style=\"text-align: right;\">\n",
       "      <th></th>\n",
       "      <th>unique_titd</th>\n",
       "      <th>tire.country_fk</th>\n",
       "      <th>section.section_fk</th>\n",
       "      <th>tiregroup.testplan_fk</th>\n",
       "      <th>mileage</th>\n",
       "      <th>date</th>\n",
       "      <th>tacho</th>\n",
       "      <th>td_min</th>\n",
       "      <th>td_mean</th>\n",
       "      <th>wheelposition</th>\n",
       "      <th>...</th>\n",
       "      <th>td_mean_1</th>\n",
       "      <th>rimtype_1</th>\n",
       "      <th>tisize_rim_1</th>\n",
       "      <th>tisize_width_1</th>\n",
       "      <th>tisize_radial_1</th>\n",
       "      <th>tisize_ratio_1</th>\n",
       "      <th>numspikes_na_1</th>\n",
       "      <th>finding_1</th>\n",
       "      <th>td_min_b</th>\n",
       "      <th>td_mean_b</th>\n",
       "    </tr>\n",
       "  </thead>\n",
       "  <tbody>\n",
       "    <tr>\n",
       "      <th>0</th>\n",
       "      <td>uh02480xxxxxg3poc3bg00b10_uh02480xxxxx4mrovkfg...</td>\n",
       "      <td>kaykxxxxxxxx2rsgrh2e00n00</td>\n",
       "      <td>uh02480xxxxxg3poc3bg00a10</td>\n",
       "      <td>uh02480xxxxxjnt47iag00000</td>\n",
       "      <td>0.0</td>\n",
       "      <td>7/1/2010</td>\n",
       "      <td>NaN</td>\n",
       "      <td>15.0</td>\n",
       "      <td>15.24000</td>\n",
       "      <td>NaN</td>\n",
       "      <td>...</td>\n",
       "      <td>15.240000</td>\n",
       "      <td>Steel</td>\n",
       "      <td>22.5</td>\n",
       "      <td>315.0</td>\n",
       "      <td>R</td>\n",
       "      <td>80</td>\n",
       "      <td>1</td>\n",
       "      <td>test finished</td>\n",
       "      <td>0</td>\n",
       "      <td>0</td>\n",
       "    </tr>\n",
       "    <tr>\n",
       "      <th>1</th>\n",
       "      <td>uh02480xxxxxg3poc3bg00b10_uh06144xxxxx6o4fnpig...</td>\n",
       "      <td>kaykxxxxxxxx2rsgrh2e00n00</td>\n",
       "      <td>uh02480xxxxxg3poc3bg00a10</td>\n",
       "      <td>NaN</td>\n",
       "      <td>16937.0</td>\n",
       "      <td>1/9/2011</td>\n",
       "      <td>697268.0</td>\n",
       "      <td>13.7</td>\n",
       "      <td>NaN</td>\n",
       "      <td>NaN</td>\n",
       "      <td>...</td>\n",
       "      <td>9.366667</td>\n",
       "      <td>Steel</td>\n",
       "      <td>22.5</td>\n",
       "      <td>315.0</td>\n",
       "      <td>R</td>\n",
       "      <td>65</td>\n",
       "      <td>1</td>\n",
       "      <td>test finished</td>\n",
       "      <td>0</td>\n",
       "      <td>0</td>\n",
       "    </tr>\n",
       "    <tr>\n",
       "      <th>2</th>\n",
       "      <td>uh02480xxxxxg3poc3bg00b10_uh06144xxxxx0uslnrlg...</td>\n",
       "      <td>kaykxxxxxxxx2rsgrh2e00n00</td>\n",
       "      <td>uh02480xxxxxg3poc3bg00a10</td>\n",
       "      <td>uh02480xxxxxjnt47iag00000</td>\n",
       "      <td>NaN</td>\n",
       "      <td>3/27/2011</td>\n",
       "      <td>NaN</td>\n",
       "      <td>12.8</td>\n",
       "      <td>13.20000</td>\n",
       "      <td>NaN</td>\n",
       "      <td>...</td>\n",
       "      <td>13.200000</td>\n",
       "      <td>Steel</td>\n",
       "      <td>22.5</td>\n",
       "      <td>315.0</td>\n",
       "      <td>R</td>\n",
       "      <td>65</td>\n",
       "      <td>1</td>\n",
       "      <td>test finished</td>\n",
       "      <td>0</td>\n",
       "      <td>0</td>\n",
       "    </tr>\n",
       "    <tr>\n",
       "      <th>3</th>\n",
       "      <td>uh02480xxxxxg3poc3bg00b10_uh06144xxxxxzpqltxpg...</td>\n",
       "      <td>NaN</td>\n",
       "      <td>uh02480xxxxxg3poc3bg00a10</td>\n",
       "      <td>uh02480xxxxxjnt47iag00000</td>\n",
       "      <td>78229.0</td>\n",
       "      <td>7/10/2011</td>\n",
       "      <td>NaN</td>\n",
       "      <td>11.3</td>\n",
       "      <td>11.69500</td>\n",
       "      <td>NaN</td>\n",
       "      <td>...</td>\n",
       "      <td>11.695000</td>\n",
       "      <td>Steel</td>\n",
       "      <td>22.5</td>\n",
       "      <td>315.0</td>\n",
       "      <td>R</td>\n",
       "      <td>80</td>\n",
       "      <td>1</td>\n",
       "      <td>test finished</td>\n",
       "      <td>0</td>\n",
       "      <td>0</td>\n",
       "    </tr>\n",
       "    <tr>\n",
       "      <th>4</th>\n",
       "      <td>uh02480xxxxxg3poc3bg00b10_uh06144xxxxx62epzusg...</td>\n",
       "      <td>NaN</td>\n",
       "      <td>uh02480xxxxxg3poc3bg00a10</td>\n",
       "      <td>uh02480xxxxxjnt47iag00000</td>\n",
       "      <td>104422.0</td>\n",
       "      <td>9/21/2011</td>\n",
       "      <td>784753.0</td>\n",
       "      <td>10.3</td>\n",
       "      <td>10.66875</td>\n",
       "      <td>NaN</td>\n",
       "      <td>...</td>\n",
       "      <td>10.668750</td>\n",
       "      <td>Steel</td>\n",
       "      <td>22.5</td>\n",
       "      <td>315.0</td>\n",
       "      <td>R</td>\n",
       "      <td>80</td>\n",
       "      <td>1</td>\n",
       "      <td>test finished</td>\n",
       "      <td>0</td>\n",
       "      <td>0</td>\n",
       "    </tr>\n",
       "  </tbody>\n",
       "</table>\n",
       "<p>5 rows × 32 columns</p>\n",
       "</div>"
      ],
      "text/plain": [
       "                                         unique_titd  \\\n",
       "0  uh02480xxxxxg3poc3bg00b10_uh02480xxxxx4mrovkfg...   \n",
       "1  uh02480xxxxxg3poc3bg00b10_uh06144xxxxx6o4fnpig...   \n",
       "2  uh02480xxxxxg3poc3bg00b10_uh06144xxxxx0uslnrlg...   \n",
       "3  uh02480xxxxxg3poc3bg00b10_uh06144xxxxxzpqltxpg...   \n",
       "4  uh02480xxxxxg3poc3bg00b10_uh06144xxxxx62epzusg...   \n",
       "\n",
       "             tire.country_fk         section.section_fk  \\\n",
       "0  kaykxxxxxxxx2rsgrh2e00n00  uh02480xxxxxg3poc3bg00a10   \n",
       "1  kaykxxxxxxxx2rsgrh2e00n00  uh02480xxxxxg3poc3bg00a10   \n",
       "2  kaykxxxxxxxx2rsgrh2e00n00  uh02480xxxxxg3poc3bg00a10   \n",
       "3                        NaN  uh02480xxxxxg3poc3bg00a10   \n",
       "4                        NaN  uh02480xxxxxg3poc3bg00a10   \n",
       "\n",
       "       tiregroup.testplan_fk   mileage       date     tacho  td_min   td_mean  \\\n",
       "0  uh02480xxxxxjnt47iag00000       0.0   7/1/2010       NaN    15.0  15.24000   \n",
       "1                        NaN   16937.0   1/9/2011  697268.0    13.7       NaN   \n",
       "2  uh02480xxxxxjnt47iag00000       NaN  3/27/2011       NaN    12.8  13.20000   \n",
       "3  uh02480xxxxxjnt47iag00000   78229.0  7/10/2011       NaN    11.3  11.69500   \n",
       "4  uh02480xxxxxjnt47iag00000  104422.0  9/21/2011  784753.0    10.3  10.66875   \n",
       "\n",
       "  wheelposition    ...      td_mean_1  rimtype_1  tisize_rim_1 tisize_width_1  \\\n",
       "0           NaN    ...      15.240000      Steel          22.5          315.0   \n",
       "1           NaN    ...       9.366667      Steel          22.5          315.0   \n",
       "2           NaN    ...      13.200000      Steel          22.5          315.0   \n",
       "3           NaN    ...      11.695000      Steel          22.5          315.0   \n",
       "4           NaN    ...      10.668750      Steel          22.5          315.0   \n",
       "\n",
       "   tisize_radial_1  tisize_ratio_1 numspikes_na_1      finding_1 td_min_b  \\\n",
       "0                R              80              1  test finished        0   \n",
       "1                R              65              1  test finished        0   \n",
       "2                R              65              1  test finished        0   \n",
       "3                R              80              1  test finished        0   \n",
       "4                R              80              1  test finished        0   \n",
       "\n",
       "   td_mean_b  \n",
       "0          0  \n",
       "1          0  \n",
       "2          0  \n",
       "3          0  \n",
       "4          0  \n",
       "\n",
       "[5 rows x 32 columns]"
      ]
     },
     "execution_count": 4,
     "metadata": {},
     "output_type": "execute_result"
    }
   ],
   "source": [
    "df.head()"
   ]
  },
  {
   "cell_type": "code",
   "execution_count": 5,
   "metadata": {},
   "outputs": [
    {
     "data": {
      "text/plain": [
       "Index(['unique_titd', 'tire.country_fk', 'section.section_fk',\n",
       "       'tiregroup.testplan_fk', 'mileage', 'date', 'tacho', 'td_min',\n",
       "       'td_mean', 'wheelposition', 'rimtype', 'tisize_rim', 'tisize_width',\n",
       "       'tisize_radial', 'tisize_ratio', 'numspikes_na', 'finding', 'reason',\n",
       "       'wheelposition_1', 'mileage_1', 'tacho_1', 'td_min_1', 'td_mean_1',\n",
       "       'rimtype_1', 'tisize_rim_1', 'tisize_width_1', 'tisize_radial_1',\n",
       "       'tisize_ratio_1', 'numspikes_na_1', 'finding_1', 'td_min_b',\n",
       "       'td_mean_b'],\n",
       "      dtype='object')"
      ]
     },
     "execution_count": 5,
     "metadata": {},
     "output_type": "execute_result"
    }
   ],
   "source": [
    "df.columns"
   ]
  },
  {
   "cell_type": "code",
   "execution_count": 6,
   "metadata": {},
   "outputs": [
    {
     "data": {
      "text/html": [
       "<div>\n",
       "<style scoped>\n",
       "    .dataframe tbody tr th:only-of-type {\n",
       "        vertical-align: middle;\n",
       "    }\n",
       "\n",
       "    .dataframe tbody tr th {\n",
       "        vertical-align: top;\n",
       "    }\n",
       "\n",
       "    .dataframe thead th {\n",
       "        text-align: right;\n",
       "    }\n",
       "</style>\n",
       "<table border=\"1\" class=\"dataframe\">\n",
       "  <thead>\n",
       "    <tr style=\"text-align: right;\">\n",
       "      <th></th>\n",
       "      <th>mileage</th>\n",
       "      <th>tacho</th>\n",
       "      <th>td_min</th>\n",
       "      <th>td_mean</th>\n",
       "      <th>tisize_rim</th>\n",
       "      <th>tisize_width</th>\n",
       "      <th>tisize_ratio</th>\n",
       "      <th>numspikes_na</th>\n",
       "      <th>mileage_1</th>\n",
       "      <th>tacho_1</th>\n",
       "      <th>td_min_1</th>\n",
       "      <th>td_mean_1</th>\n",
       "      <th>tisize_rim_1</th>\n",
       "      <th>tisize_width_1</th>\n",
       "      <th>tisize_ratio_1</th>\n",
       "      <th>numspikes_na_1</th>\n",
       "      <th>td_min_b</th>\n",
       "      <th>td_mean_b</th>\n",
       "    </tr>\n",
       "  </thead>\n",
       "  <tbody>\n",
       "    <tr>\n",
       "      <th>count</th>\n",
       "      <td>6.641920e+05</td>\n",
       "      <td>5.547240e+05</td>\n",
       "      <td>666556.000000</td>\n",
       "      <td>666210.000000</td>\n",
       "      <td>666285.000000</td>\n",
       "      <td>666833.000000</td>\n",
       "      <td>666497.000000</td>\n",
       "      <td>666400.000000</td>\n",
       "      <td>7.405780e+05</td>\n",
       "      <td>7.405780e+05</td>\n",
       "      <td>740578.000000</td>\n",
       "      <td>740578.000000</td>\n",
       "      <td>740578.000000</td>\n",
       "      <td>740578.000000</td>\n",
       "      <td>740578.000000</td>\n",
       "      <td>740578.000000</td>\n",
       "      <td>740578.000000</td>\n",
       "      <td>740578.000000</td>\n",
       "    </tr>\n",
       "    <tr>\n",
       "      <th>mean</th>\n",
       "      <td>5.801917e+04</td>\n",
       "      <td>3.043679e+05</td>\n",
       "      <td>9.750815</td>\n",
       "      <td>10.713031</td>\n",
       "      <td>20.250947</td>\n",
       "      <td>285.188112</td>\n",
       "      <td>69.925273</td>\n",
       "      <td>0.934970</td>\n",
       "      <td>5.530967e+04</td>\n",
       "      <td>2.853887e+05</td>\n",
       "      <td>9.625794</td>\n",
       "      <td>10.577831</td>\n",
       "      <td>20.476567</td>\n",
       "      <td>286.165156</td>\n",
       "      <td>69.432592</td>\n",
       "      <td>0.941484</td>\n",
       "      <td>0.033073</td>\n",
       "      <td>0.003681</td>\n",
       "    </tr>\n",
       "    <tr>\n",
       "      <th>std</th>\n",
       "      <td>7.293494e+04</td>\n",
       "      <td>3.032992e+05</td>\n",
       "      <td>7.599536</td>\n",
       "      <td>7.352813</td>\n",
       "      <td>12.156476</td>\n",
       "      <td>76.952616</td>\n",
       "      <td>13.345511</td>\n",
       "      <td>0.246579</td>\n",
       "      <td>6.953176e+04</td>\n",
       "      <td>2.645369e+05</td>\n",
       "      <td>7.219500</td>\n",
       "      <td>6.985597</td>\n",
       "      <td>11.550390</td>\n",
       "      <td>73.079867</td>\n",
       "      <td>12.746397</td>\n",
       "      <td>0.234718</td>\n",
       "      <td>0.178827</td>\n",
       "      <td>0.060559</td>\n",
       "    </tr>\n",
       "    <tr>\n",
       "      <th>min</th>\n",
       "      <td>-2.309810e+05</td>\n",
       "      <td>0.000000e+00</td>\n",
       "      <td>0.000000</td>\n",
       "      <td>-0.100000</td>\n",
       "      <td>2.000000</td>\n",
       "      <td>100.000000</td>\n",
       "      <td>30.000000</td>\n",
       "      <td>0.000000</td>\n",
       "      <td>-2.309810e+05</td>\n",
       "      <td>0.000000e+00</td>\n",
       "      <td>0.000000</td>\n",
       "      <td>-0.100000</td>\n",
       "      <td>2.000000</td>\n",
       "      <td>100.000000</td>\n",
       "      <td>30.000000</td>\n",
       "      <td>0.000000</td>\n",
       "      <td>0.000000</td>\n",
       "      <td>0.000000</td>\n",
       "    </tr>\n",
       "    <tr>\n",
       "      <th>25%</th>\n",
       "      <td>4.888000e+03</td>\n",
       "      <td>1.068600e+05</td>\n",
       "      <td>5.660000</td>\n",
       "      <td>6.802000</td>\n",
       "      <td>16.000000</td>\n",
       "      <td>225.000000</td>\n",
       "      <td>60.000000</td>\n",
       "      <td>1.000000</td>\n",
       "      <td>8.245000e+03</td>\n",
       "      <td>1.437462e+05</td>\n",
       "      <td>5.980000</td>\n",
       "      <td>7.073334</td>\n",
       "      <td>16.000000</td>\n",
       "      <td>225.000000</td>\n",
       "      <td>60.000000</td>\n",
       "      <td>1.000000</td>\n",
       "      <td>0.000000</td>\n",
       "      <td>0.000000</td>\n",
       "    </tr>\n",
       "    <tr>\n",
       "      <th>50%</th>\n",
       "      <td>3.175000e+04</td>\n",
       "      <td>2.287410e+05</td>\n",
       "      <td>8.500000</td>\n",
       "      <td>9.366667</td>\n",
       "      <td>22.500000</td>\n",
       "      <td>295.000000</td>\n",
       "      <td>65.000000</td>\n",
       "      <td>1.000000</td>\n",
       "      <td>3.175000e+04</td>\n",
       "      <td>2.287410e+05</td>\n",
       "      <td>8.500000</td>\n",
       "      <td>9.366667</td>\n",
       "      <td>22.500000</td>\n",
       "      <td>295.000000</td>\n",
       "      <td>65.000000</td>\n",
       "      <td>1.000000</td>\n",
       "      <td>0.000000</td>\n",
       "      <td>0.000000</td>\n",
       "    </tr>\n",
       "    <tr>\n",
       "      <th>75%</th>\n",
       "      <td>8.325575e+04</td>\n",
       "      <td>4.264660e+05</td>\n",
       "      <td>12.800000</td>\n",
       "      <td>13.565000</td>\n",
       "      <td>22.500000</td>\n",
       "      <td>315.000000</td>\n",
       "      <td>80.000000</td>\n",
       "      <td>1.000000</td>\n",
       "      <td>7.452700e+04</td>\n",
       "      <td>3.458170e+05</td>\n",
       "      <td>12.220000</td>\n",
       "      <td>13.065350</td>\n",
       "      <td>22.500000</td>\n",
       "      <td>315.000000</td>\n",
       "      <td>80.000000</td>\n",
       "      <td>1.000000</td>\n",
       "      <td>0.000000</td>\n",
       "      <td>0.000000</td>\n",
       "    </tr>\n",
       "    <tr>\n",
       "      <th>max</th>\n",
       "      <td>1.323980e+06</td>\n",
       "      <td>1.046440e+07</td>\n",
       "      <td>114.000000</td>\n",
       "      <td>114.000000</td>\n",
       "      <td>470.000000</td>\n",
       "      <td>1078.000000</td>\n",
       "      <td>305.000000</td>\n",
       "      <td>1.000000</td>\n",
       "      <td>1.323980e+06</td>\n",
       "      <td>1.046440e+07</td>\n",
       "      <td>114.000000</td>\n",
       "      <td>114.000000</td>\n",
       "      <td>470.000000</td>\n",
       "      <td>1078.000000</td>\n",
       "      <td>305.000000</td>\n",
       "      <td>1.000000</td>\n",
       "      <td>1.000000</td>\n",
       "      <td>1.000000</td>\n",
       "    </tr>\n",
       "  </tbody>\n",
       "</table>\n",
       "</div>"
      ],
      "text/plain": [
       "            mileage         tacho         td_min        td_mean  \\\n",
       "count  6.641920e+05  5.547240e+05  666556.000000  666210.000000   \n",
       "mean   5.801917e+04  3.043679e+05       9.750815      10.713031   \n",
       "std    7.293494e+04  3.032992e+05       7.599536       7.352813   \n",
       "min   -2.309810e+05  0.000000e+00       0.000000      -0.100000   \n",
       "25%    4.888000e+03  1.068600e+05       5.660000       6.802000   \n",
       "50%    3.175000e+04  2.287410e+05       8.500000       9.366667   \n",
       "75%    8.325575e+04  4.264660e+05      12.800000      13.565000   \n",
       "max    1.323980e+06  1.046440e+07     114.000000     114.000000   \n",
       "\n",
       "          tisize_rim   tisize_width   tisize_ratio   numspikes_na  \\\n",
       "count  666285.000000  666833.000000  666497.000000  666400.000000   \n",
       "mean       20.250947     285.188112      69.925273       0.934970   \n",
       "std        12.156476      76.952616      13.345511       0.246579   \n",
       "min         2.000000     100.000000      30.000000       0.000000   \n",
       "25%        16.000000     225.000000      60.000000       1.000000   \n",
       "50%        22.500000     295.000000      65.000000       1.000000   \n",
       "75%        22.500000     315.000000      80.000000       1.000000   \n",
       "max       470.000000    1078.000000     305.000000       1.000000   \n",
       "\n",
       "          mileage_1       tacho_1       td_min_1      td_mean_1  \\\n",
       "count  7.405780e+05  7.405780e+05  740578.000000  740578.000000   \n",
       "mean   5.530967e+04  2.853887e+05       9.625794      10.577831   \n",
       "std    6.953176e+04  2.645369e+05       7.219500       6.985597   \n",
       "min   -2.309810e+05  0.000000e+00       0.000000      -0.100000   \n",
       "25%    8.245000e+03  1.437462e+05       5.980000       7.073334   \n",
       "50%    3.175000e+04  2.287410e+05       8.500000       9.366667   \n",
       "75%    7.452700e+04  3.458170e+05      12.220000      13.065350   \n",
       "max    1.323980e+06  1.046440e+07     114.000000     114.000000   \n",
       "\n",
       "        tisize_rim_1  tisize_width_1  tisize_ratio_1  numspikes_na_1  \\\n",
       "count  740578.000000   740578.000000   740578.000000   740578.000000   \n",
       "mean       20.476567      286.165156       69.432592        0.941484   \n",
       "std        11.550390       73.079867       12.746397        0.234718   \n",
       "min         2.000000      100.000000       30.000000        0.000000   \n",
       "25%        16.000000      225.000000       60.000000        1.000000   \n",
       "50%        22.500000      295.000000       65.000000        1.000000   \n",
       "75%        22.500000      315.000000       80.000000        1.000000   \n",
       "max       470.000000     1078.000000      305.000000        1.000000   \n",
       "\n",
       "            td_min_b      td_mean_b  \n",
       "count  740578.000000  740578.000000  \n",
       "mean        0.033073       0.003681  \n",
       "std         0.178827       0.060559  \n",
       "min         0.000000       0.000000  \n",
       "25%         0.000000       0.000000  \n",
       "50%         0.000000       0.000000  \n",
       "75%         0.000000       0.000000  \n",
       "max         1.000000       1.000000  "
      ]
     },
     "execution_count": 6,
     "metadata": {},
     "output_type": "execute_result"
    }
   ],
   "source": [
    "df.describe()"
   ]
  },
  {
   "cell_type": "code",
   "execution_count": 4,
   "metadata": {},
   "outputs": [],
   "source": [
    "df=df.rename(index=str, columns={\"tire.country_fk\": \"country\",})\n",
    "df=df.rename(index=str, columns={\"section.section_fk\": \"section\",})"
   ]
  },
  {
   "cell_type": "code",
   "execution_count": 5,
   "metadata": {},
   "outputs": [],
   "source": [
    "df.country=df.country.astype('category')\n",
    "df.country=df['country'].cat.codes\n",
    "df.section=df.section.astype('category')\n",
    "df.section=df['section'].cat.codes\n",
    "df.wheelposition=df.wheelposition.astype('category')\n",
    "df.wheelposition=df['wheelposition'].cat.codes\n",
    "df.rimtype=df.rimtype.astype('category')\n",
    "df.rimtype=df['rimtype'].cat.codes\n",
    "df.tisize_radial=df.tisize_radial.astype('category')\n",
    "df.tisize_radial=df['tisize_radial'].cat.codes\n",
    "df.finding=df.finding.astype('category')\n",
    "df.finding=df['finding'].cat.codes"
   ]
  },
  {
   "cell_type": "code",
   "execution_count": 6,
   "metadata": {},
   "outputs": [
    {
     "data": {
      "text/plain": [
       "<bound method NDFrame.describe of                                               unique_titd  country  section  \\\n",
       "0       uh02480xxxxxg3poc3bg00b10_uh02480xxxxx4mrovkfg...       23   115713   \n",
       "1       uh02480xxxxxg3poc3bg00b10_uh06144xxxxx6o4fnpig...       23   115713   \n",
       "2       uh02480xxxxxg3poc3bg00b10_uh06144xxxxx0uslnrlg...       23   115713   \n",
       "3       uh02480xxxxxg3poc3bg00b10_uh06144xxxxxzpqltxpg...       -1   115713   \n",
       "4       uh02480xxxxxg3poc3bg00b10_uh06144xxxxx62epzusg...       -1   115713   \n",
       "5       uh02480xxxxxg3poc3bg00910_uh02480xxxxxe8jpvkfg...       23   115711   \n",
       "6       uh02480xxxxxg3poc3bg00910_uh06144xxxxxhxu3emfg...       23   115711   \n",
       "7       uh02480xxxxxg3poc3bg00910_uh06144xxxxxxngs4tlg...       23   115711   \n",
       "8       uh02480xxxxxg3poc3bg00910_uh06144xxxxxgf04v9tg...       23   115711   \n",
       "9       uh02480xxxxxg3poc3bg00510_uh02480xxxxxe8jpvkfg...       23   115707   \n",
       "10      uh02480xxxxxg3poc3bg00510_uh06144xxxxx26w0lnfg...       23   115707   \n",
       "11      uh02480xxxxxg3poc3bg00510_uh06144xxxxxjw55dhig...       23   115707   \n",
       "12      uh02480xxxxxg3poc3bg00510_uh06144xxxxx0kihitpg...       23   115707   \n",
       "13      uh02480xxxxxg3poc3bg00510_uh06144xxxxxvx206tlg...       23   115707   \n",
       "14      uh02480xxxxxg3poc3bg00510_uh06144xxxxxxbu7lysg...       23   115707   \n",
       "15      uh02480xxxxxg3poc3bg00310_uh02480xxxxxe8jpvkfg...       23   115705   \n",
       "16      uh02480xxxxxg3poc3bg00310_uh06144xxxxxt6za7pfg...       23   115705   \n",
       "17      uh02480xxxxxg3poc3bg00310_uh02480xxxxxilkp5hig...       23       -1   \n",
       "18                                                    NaN       23   115705   \n",
       "19      uh02480xxxxxg3poc3bg00310_uh06144xxxxx75jro9tg...       23   115705   \n",
       "20      uh02480xxxxxg3poc3bg00310_uh06144xxxxxafrh6psg...       23   115705   \n",
       "21      uh02480xxxxxg3poc3bg00110_uh02480xxxxxe8jpvkfg...       -1   115703   \n",
       "22      uh02480xxxxxg3poc3bg00110_uh06144xxxxxw3b84ctg...       23   115703   \n",
       "23      uh02480xxxxxg3poc3bg00z00_uh02480xxxxxhogovkfg...       23   115733   \n",
       "24      uh02480xxxxxg3poc3bg00z00_uh06144xxxxx0wo8npig...       23   115733   \n",
       "25      uh02480xxxxxg3poc3bg00z00_uh06144xxxxx52oonrlg...       23   115733   \n",
       "26      uh02480xxxxxg3poc3bg00z00_uh06144xxxxx65ovtxpg...       23   115733   \n",
       "27                                                    NaN       -1   115733   \n",
       "28      uh02480xxxxxg3poc3bg00v00_uh02480xxxxxe8jpvkfg...       23       -1   \n",
       "29      uh02480xxxxxg3poc3bg00v00_uh06144xxxxx7pvmjpig...       23   115731   \n",
       "...                                                   ...      ...      ...   \n",
       "740548  uh01875xxxxxuik8rcji00100_schulzaxxxxxuhnvziri...        0   106117   \n",
       "740549  uh01875xxxxxuik8rcji00100_schulzaxxxxxwu1iowui...        0   106117   \n",
       "740550  uh01875xxxxxuik8rcji00100_schulzaxxxxxehzgabzi...        0   106117   \n",
       "740551                                                NaN        0   106117   \n",
       "740552  uh01875xxxxxuik8rcji00100_uh04697xxxxxfgy96v9j...        0   106117   \n",
       "740553                                                NaN        0   106117   \n",
       "740554                                                NaN        0       -1   \n",
       "740555  uh01875xxxxxuik8rcji00100_uh04697xxxxxzczprvnj...        0   106117   \n",
       "740556  muelleralans9z772g1j00d00_uh04697xxxxx2vkumo1j...        0    61588   \n",
       "740557  muelleralans9z772g1j00d00_uh05052xxxxxr8ng2bej...        0    61588   \n",
       "740558  muelleralans9z772g1j00d00_uh05052xxxxxx8wzyk9j...        0    61588   \n",
       "740559  muelleralans9z772g1j00d00_schulzaxxxxxdtt0cz5j...       -1    61588   \n",
       "740560  muelleralans9z772g1j00d00_uh05052xxxxxi7a33xhj...        0    61588   \n",
       "740561  muelleralans9z772g1j00d00_uh05052xxxxxzq5i6tlj...        0    61588   \n",
       "740562  muelleralans9z772g1j00d00_uib05391xxxxbopz3pqj...       -1    61588   \n",
       "740563  muelleralans6cb1ehhj00300_hakanssonsxxa6ljohhj...       22    61225   \n",
       "740564  muelleralans6cb1ehhj00300_ux01433xxxxxc2tnogjj...       22    61225   \n",
       "740565  muelleralans6cb1ehhj00300_ux01433xxxxxifnkqakj...       22    61225   \n",
       "740566  muelleralans6cb1ehhj00300_ux01433xxxxxljcppelj...       22    61225   \n",
       "740567  ledermannmxxdnc9eanj00l20_uh04697xxxxx6hwu3dnj...        0    59665   \n",
       "740568  muelleralanswd85gurj00720_ux02642xxxxxx8puc0sj...       -1    64601   \n",
       "740569  ledermannmxxdnc9eanj00r30_uh04697xxxxx6hwu3dnj...        0    59676   \n",
       "740570                                                NaN        0    59676   \n",
       "740571  ledermannmxxdnc9eanj00r30_ux02642xxxxxx1bpf2pj...       -1    59676   \n",
       "740572  ledermannmxxdnc9eanj00r30_ux02642xxxxxt6vrgtpj...        0       -1   \n",
       "740573  ledermannmxxdnc9eanj00r30_uh04697xxxxxcikd49rj...        0    59676   \n",
       "740574  ledermannmxxdnc9eanj00r30_uh04697xxxxxxxo9kurj...        0    59676   \n",
       "740575  ledermannmxxtnc9eanj00100_uh04697xxxxx6hwu3dnj...        0    59989   \n",
       "740576  uh00877xxxxx5jrbp1mj00710_uh00877xxxxx2empp1mj...       24    75463   \n",
       "740577  uh00877xxxxx5jrbp1mj00710_ux00264xxxxx4pgc90sj...       24    75463   \n",
       "\n",
       "            tiregroup.testplan_fk   mileage        date     tacho   td_min  \\\n",
       "0       uh02480xxxxxjnt47iag00000       0.0    7/1/2010       NaN  15.0000   \n",
       "1                             NaN   16937.0    1/9/2011  697268.0  13.7000   \n",
       "2       uh02480xxxxxjnt47iag00000       NaN   3/27/2011       NaN  12.8000   \n",
       "3       uh02480xxxxxjnt47iag00000   78229.0   7/10/2011       NaN  11.3000   \n",
       "4       uh02480xxxxxjnt47iag00000  104422.0   9/21/2011  784753.0  10.3000   \n",
       "5                             NaN       0.0    7/1/2010       NaN  15.0720   \n",
       "6       uh02480xxxxxjnt47iag00000    1700.0         NaN  557720.0  14.6000   \n",
       "7       uh02480xxxxxjnt47iag00000       NaN   3/28/2011  596721.0  12.9000   \n",
       "8       uh02480xxxxxjnt47iag00000   82309.0   9/26/2011  638329.0  10.6000   \n",
       "9       uh02480xxxxxjnt47iag00000       0.0    7/1/2010       NaN  15.0720   \n",
       "10      uh02480xxxxxjnt47iag00000       NaN  10/24/2010  466078.0  14.5000   \n",
       "11      uh02480xxxxxjnt47iag00000   30843.0    1/3/2011  485120.0  14.0000   \n",
       "12      uh02480xxxxxjnt47iag00000       NaN    7/7/2011  549818.0  11.8000   \n",
       "13      uh02480xxxxxjnt47iag00000       NaN         NaN  511604.0  12.8000   \n",
       "14                            NaN       NaN   8/29/2011  560744.0  10.5000   \n",
       "15      uh02480xxxxxjnt47iag00000       0.0    7/1/2010       NaN  15.0720   \n",
       "16      uh02480xxxxxjnt47iag00000   17414.0  10/25/2010  273645.0  13.9000   \n",
       "17      uh02480xxxxxjnt47iag00000   37887.0    1/3/2011  294118.0  12.5000   \n",
       "18      uh02480xxxxxjnt47iag00000   50916.0   3/21/2011  307147.0      NaN   \n",
       "19      uh02480xxxxxjnt47iag00000   97369.0         NaN  353600.0   7.2000   \n",
       "20      uh02480xxxxxjnt47iag00000   89787.0         NaN  346018.0   7.5000   \n",
       "21      uh02480xxxxxjnt47iag00000       0.0    7/1/2010       NaN  15.0720   \n",
       "22      uh02480xxxxxjnt47iag00000  103500.0   9/25/2011  358500.0   6.1000   \n",
       "23      uh02480xxxxxjnt47iag00000       0.0    7/1/2010       NaN  15.1000   \n",
       "24      uh02480xxxxxjnt47iag00000   16937.0    1/9/2011  697268.0  13.8000   \n",
       "25      uh02480xxxxxjnt47iag00000   39463.0   3/27/2011       NaN  12.7000   \n",
       "26      uh02480xxxxxjnt47iag00000   78229.0   7/10/2011  758560.0  10.5000   \n",
       "27      uh02480xxxxxjnt47iag00000  104422.0         NaN  784753.0   9.9000   \n",
       "28      uh02480xxxxxjnt47iag00000       0.0    7/1/2010       NaN  15.0720   \n",
       "29      uh02480xxxxxjnt47iag00000   24388.0         NaN  513708.0  14.4000   \n",
       "...                           ...       ...         ...       ...      ...   \n",
       "740548  uh01875xxxxxrqq174ji00000       NaN    8/6/2016  403751.0  10.1000   \n",
       "740549  uh01875xxxxxrqq174ji00000  187804.0         NaN  467274.0   9.8000   \n",
       "740550  uh01875xxxxxrqq174ji00000  260131.0         NaN       NaN   9.0000   \n",
       "740551  uh01875xxxxxrqq174ji00000  230129.0   1/15/2017  509599.0   9.2000   \n",
       "740552  uh01875xxxxxrqq174ji00000  322951.0  11/11/2017  602421.0   9.1000   \n",
       "740553  uh01875xxxxxrqq174ji00000  295736.0    5/6/2017  575206.0   9.1000   \n",
       "740554  uh01875xxxxxrqq174ji00000       NaN  12/11/2016  496144.0   9.2000   \n",
       "740555  uh01875xxxxxrqq174ji00000  488880.0  10/25/2018       NaN   8.7000   \n",
       "740556                        NaN       0.0   4/19/2017       NaN  12.2867   \n",
       "740557  muelleralansxv772g1j00000   68780.0    3/3/2018  269657.0   8.4000   \n",
       "740558  muelleralansxv772g1j00000   44372.0   11/4/2017  245249.0   9.3000   \n",
       "740559  muelleralansxv772g1j00000   25875.0    8/5/2017  226752.0  10.1000   \n",
       "740560                        NaN   91747.0    6/2/2018       NaN   6.7000   \n",
       "740561  muelleralansxv772g1j00000  118705.0    9/8/2018       NaN   5.2000   \n",
       "740562                        NaN  145987.0    1/6/2019  346864.0   3.5000   \n",
       "740563  muelleralansh9b1ehhj00000       0.0   5/22/2018       NaN   5.3830   \n",
       "740564  muelleralansh9b1ehhj00000    7722.0   7/11/2018  284061.0   4.2100   \n",
       "740565  muelleralansh9b1ehhj00000       NaN    8/1/2018  291225.0   3.8500   \n",
       "740566  muelleralansh9b1ehhj00000   21666.0   8/29/2018  298005.0   1.9000   \n",
       "740567  ledermannmxxdmji9ggj00000       0.0  10/17/2018       NaN   7.8600   \n",
       "740568  muelleralanskb85gurj00000       0.0   2/11/2019       NaN  12.7000   \n",
       "740569                        NaN       0.0  10/17/2018       NaN   7.8600   \n",
       "740570  ledermannmxxdmji9ggj00000   10077.0         NaN  166563.0      NaN   \n",
       "740571  ledermannmxxdmji9ggj00000   21562.0  11/29/2018  178048.0   5.6000   \n",
       "740572  ledermannmxxdmji9ggj00000   29680.0  12/18/2018  186166.0   4.8000   \n",
       "740573  ledermannmxxdmji9ggj00000   44731.0   1/23/2019  201217.0   4.0000   \n",
       "740574                        NaN   51036.0    2/7/2019  207522.0   4.0000   \n",
       "740575  ledermannmxxdmji9ggj00000       0.0  10/17/2018       NaN   7.8600   \n",
       "740576  uh00877xxxxxnzk570mj00000       0.0   9/14/2018       NaN  14.6750   \n",
       "740577  uh00877xxxxxnzk570mj00000   42675.0   2/11/2019       NaN  12.5000   \n",
       "\n",
       "          td_mean  wheelposition    ...      td_mean_1  rimtype_1  \\\n",
       "0       15.240000             -1    ...      15.240000      Steel   \n",
       "1             NaN             -1    ...       9.366667      Steel   \n",
       "2       13.200000             -1    ...      13.200000      Steel   \n",
       "3       11.695000             -1    ...      11.695000      Steel   \n",
       "4       10.668750             -1    ...      10.668750      Steel   \n",
       "5       15.230000             -1    ...      15.230000      Steel   \n",
       "6       14.983325             -1    ...      14.983325      Steel   \n",
       "7       13.360000             -1    ...      13.360000      Steel   \n",
       "8       11.175000             -1    ...      11.175000      Steel   \n",
       "9       15.230000             -1    ...      15.230000      Steel   \n",
       "10      14.758350             -1    ...      14.758350      Steel   \n",
       "11      14.193750             -1    ...      14.193750      Steel   \n",
       "12      12.125000             -1    ...      12.125000      Steel   \n",
       "13      13.230000             -1    ...      13.230000      Steel   \n",
       "14      10.825000             -1    ...      10.825000      Steel   \n",
       "15      15.230000             -1    ...      15.230000      Steel   \n",
       "16      14.225025             -1    ...      14.225025      Steel   \n",
       "17      13.037500             -1    ...      13.037500      Steel   \n",
       "18            NaN             -1    ...       9.366667      Steel   \n",
       "19       8.235000             -1    ...       8.235000      Steel   \n",
       "20       8.843750             -1    ...       8.843750      Steel   \n",
       "21      15.230000             -1    ...      15.230000      Steel   \n",
       "22       8.255000             -1    ...       8.255000      Steel   \n",
       "23            NaN             -1    ...       9.366667      Steel   \n",
       "24      13.924975             -1    ...      13.924975      Steel   \n",
       "25      13.090000             -1    ...      13.090000      Steel   \n",
       "26            NaN             -1    ...       9.366667      Steel   \n",
       "27      10.275000             -1    ...      10.275000      Steel   \n",
       "28      15.230000             -1    ...      15.230000      Steel   \n",
       "29      14.500000             -1    ...      14.500000      Steel   \n",
       "...           ...            ...    ...            ...        ...   \n",
       "740548  10.458350             -1    ...      10.458350      Steel   \n",
       "740549  10.191670             -1    ...      10.191670      Steel   \n",
       "740550   9.533333             -1    ...       9.533333      Steel   \n",
       "740551   9.708332             -1    ...       9.708332      Steel   \n",
       "740552   9.666668             -1    ...       9.666668      Steel   \n",
       "740553   9.475000             -1    ...       9.475000      Steel   \n",
       "740554   9.825017             -1    ...       9.825017      Steel   \n",
       "740555   9.356250             -1    ...       9.356250      Steel   \n",
       "740556  12.408320             -1    ...      12.408320      Steel   \n",
       "740557   9.483335             -1    ...       9.483335      Steel   \n",
       "740558  10.066650             -1    ...      10.066650      Steel   \n",
       "740559  10.856250             -1    ...      10.856250      Steel   \n",
       "740560   8.416500             -1    ...       8.416500      Steel   \n",
       "740561   7.350000             -1    ...       7.350000      Steel   \n",
       "740562   6.381250             -1    ...       6.381250      Steel   \n",
       "740563   6.072833             -1    ...       6.072833      Alloy   \n",
       "740564   5.476667             -1    ...       5.476667      Alloy   \n",
       "740565   4.961112             -1    ...       4.961112      Alloy   \n",
       "740566        NaN             -1    ...       9.366667      Alloy   \n",
       "740567   8.387083              3    ...       8.387083      Alloy   \n",
       "740568  12.880000             -1    ...      12.880000      Steel   \n",
       "740569   8.387083             -1    ...       8.387083      Steel   \n",
       "740570   7.361110             -1    ...       7.361110      Alloy   \n",
       "740571   6.483335             -1    ...       6.483335      Alloy   \n",
       "740572   5.555555             -1    ...       5.555555      Alloy   \n",
       "740573   4.783332             -1    ...       4.783332      Alloy   \n",
       "740574   4.305555             -1    ...       4.305555      Alloy   \n",
       "740575   8.387083             -1    ...       8.387083      Alloy   \n",
       "740576  14.946000              3    ...      14.946000      Steel   \n",
       "740577  13.240000              3    ...      13.240000      Steel   \n",
       "\n",
       "        tisize_rim_1  tisize_width_1  tisize_radial_1  tisize_ratio_1  \\\n",
       "0               22.5           315.0                R              80   \n",
       "1               22.5           315.0                R              65   \n",
       "2               22.5           315.0                R              65   \n",
       "3               22.5           315.0                R              80   \n",
       "4               22.5           315.0                R              80   \n",
       "5               22.5           315.0                R              65   \n",
       "6               22.5           315.0                R              80   \n",
       "7               22.5           315.0                R              80   \n",
       "8               22.5           315.0                R              80   \n",
       "9               22.5           315.0                R              65   \n",
       "10              22.5           315.0                R              80   \n",
       "11              22.5           315.0                R              65   \n",
       "12              22.5           315.0                R              80   \n",
       "13              22.5           315.0                R              80   \n",
       "14              22.5           315.0                R              80   \n",
       "15              22.5           295.0                R              80   \n",
       "16              22.5           295.0                R              80   \n",
       "17              22.5           315.0                R              80   \n",
       "18              22.5           315.0                R              80   \n",
       "19              22.5           315.0                R              80   \n",
       "20              22.5           295.0                R              80   \n",
       "21              22.5           315.0                R              80   \n",
       "22              22.5           315.0                R              80   \n",
       "23              22.5           315.0                R              80   \n",
       "24              22.5           315.0                R              80   \n",
       "25              22.5           315.0                R              65   \n",
       "26              22.5           315.0                R              80   \n",
       "27              22.5           315.0                R              80   \n",
       "28              22.5           295.0                R              80   \n",
       "29              22.5           315.0                R              80   \n",
       "...              ...             ...              ...             ...   \n",
       "740548          19.5           385.0                R              55   \n",
       "740549          22.5           385.0                R              55   \n",
       "740550          19.5           385.0                R              55   \n",
       "740551          19.5           385.0                R              55   \n",
       "740552          22.5           385.0                R              55   \n",
       "740553          19.5           385.0                R              55   \n",
       "740554          22.5           385.0                R              55   \n",
       "740555          22.5           385.0                R              65   \n",
       "740556          22.5           315.0                R              70   \n",
       "740557          22.5           315.0                R              70   \n",
       "740558          22.5           315.0                R              70   \n",
       "740559          22.5           315.0                R              70   \n",
       "740560          22.5           315.0                R              70   \n",
       "740561          22.5           315.0                R              70   \n",
       "740562          22.5           315.0                R              70   \n",
       "740563          16.0           205.0                R              60   \n",
       "740564          16.0           205.0                R              60   \n",
       "740565          16.0           205.0                R              60   \n",
       "740566          16.0           205.0                R              60   \n",
       "740567          16.0           205.0                R              60   \n",
       "740568          22.5           355.0                R              65   \n",
       "740569          16.0           295.0                R              60   \n",
       "740570          16.0           205.0                R              60   \n",
       "740571          16.0           205.0                R              60   \n",
       "740572          16.0           205.0                R              60   \n",
       "740573          16.0           205.0                R              60   \n",
       "740574          16.0           205.0                R              60   \n",
       "740575          22.5           205.0                R              60   \n",
       "740576          22.5           295.0                R              65   \n",
       "740577          22.5           385.0                R              65   \n",
       "\n",
       "        numspikes_na_1         finding_1 td_min_b  td_mean_b  \n",
       "0                    1     test finished        0          0  \n",
       "1                    1     test finished        0          0  \n",
       "2                    1     test finished        0          0  \n",
       "3                    1     test finished        0          0  \n",
       "4                    1     test finished        0          0  \n",
       "5                    1         due to IW        0          0  \n",
       "6                    1         due to IW        0          0  \n",
       "7                    1         due to IW        0          0  \n",
       "8                    1         due to IW        0          0  \n",
       "9                    1         due to IW        0          0  \n",
       "10                   1         due to IW        0          0  \n",
       "11                   1         due to IW        0          0  \n",
       "12                   1     test finished        0          0  \n",
       "13                   1         due to IW        0          0  \n",
       "14                   1         due to IW        0          0  \n",
       "15                   1         due to IW        0          0  \n",
       "16                   1         due to IW        0          0  \n",
       "17                   1         due to IW        0          0  \n",
       "18                   1         due to IW        0          0  \n",
       "19                   1         due to IW        0          0  \n",
       "20                   1     test finished        0          0  \n",
       "21                   1  sidewall finding        0          0  \n",
       "22                   1  sidewall finding        0          0  \n",
       "23                   1     test finished        0          0  \n",
       "24                   1     test finished        0          0  \n",
       "25                   1     test finished        0          0  \n",
       "26                   1     test finished        0          0  \n",
       "27                   1     test finished        0          0  \n",
       "28                   1         due to IW        0          0  \n",
       "29                   1         due to IW        0          0  \n",
       "...                ...               ...      ...        ...  \n",
       "740548               1     test finished        0          0  \n",
       "740549               1     test finished        0          0  \n",
       "740550               1     test finished        0          0  \n",
       "740551               1     test finished        0          0  \n",
       "740552               1     test finished        0          0  \n",
       "740553               1     test finished        0          0  \n",
       "740554               1     test finished        0          0  \n",
       "740555               1     test finished        0          0  \n",
       "740556               1         due to IW        0          0  \n",
       "740557               1         due to IW        0          0  \n",
       "740558               1     test finished        0          0  \n",
       "740559               1         due to IW        0          0  \n",
       "740560               1         due to IW        0          0  \n",
       "740561               1         due to IW        0          0  \n",
       "740562               1         due to IW        0          0  \n",
       "740563               1     test finished        0          0  \n",
       "740564               1     test finished        0          0  \n",
       "740565               1     test finished        0          0  \n",
       "740566               1     test finished        0          0  \n",
       "740567               1     test finished        0          0  \n",
       "740568               1     test finished        0          0  \n",
       "740569               1         due to IW        0          0  \n",
       "740570               1         due to IW        0          0  \n",
       "740571               1         due to IW        0          0  \n",
       "740572               1         due to IW        0          0  \n",
       "740573               1         due to IW        0          0  \n",
       "740574               1         due to IW        0          0  \n",
       "740575               1     test finished        0          0  \n",
       "740576               1     test finished        0          0  \n",
       "740577               1     test finished        0          0  \n",
       "\n",
       "[740578 rows x 32 columns]>"
      ]
     },
     "execution_count": 6,
     "metadata": {},
     "output_type": "execute_result"
    }
   ],
   "source": [
    "df.describe"
   ]
  },
  {
   "cell_type": "code",
   "execution_count": 7,
   "metadata": {},
   "outputs": [],
   "source": [
    "df = df.drop(columns=['country','section','tiregroup.testplan_fk', 'mileage', 'date', 'tacho', 'td_min',\n",
    "       'td_mean', 'wheelposition', 'rimtype', 'tisize_rim', 'tisize_width',\n",
    "       'tisize_radial', 'tisize_ratio', 'numspikes_na', 'finding', 'reason','td_min_b',\n",
    "       'td_mean_b'])"
   ]
  },
  {
   "cell_type": "code",
   "execution_count": 8,
   "metadata": {},
   "outputs": [
    {
     "data": {
      "text/plain": [
       "Index(['unique_titd', 'wheelposition_1', 'mileage_1', 'tacho_1', 'td_min_1',\n",
       "       'td_mean_1', 'rimtype_1', 'tisize_rim_1', 'tisize_width_1',\n",
       "       'tisize_radial_1', 'tisize_ratio_1', 'numspikes_na_1', 'finding_1'],\n",
       "      dtype='object')"
      ]
     },
     "execution_count": 8,
     "metadata": {},
     "output_type": "execute_result"
    }
   ],
   "source": [
    "df.columns"
   ]
  },
  {
   "cell_type": "code",
   "execution_count": 9,
   "metadata": {},
   "outputs": [
    {
     "data": {
      "text/plain": [
       "test finished                                      355341\n",
       "worn                                               101282\n",
       "due to IW                                           53746\n",
       "as a partner                                        42852\n",
       "cancelled                                           30644\n",
       "tire lost                                           26392\n",
       "tread damage                                        25418\n",
       "worn (from the customers point of view)             19369\n",
       "tread endurance                                     14585\n",
       "tread finding (chipping and chunking/mini cuts)     14385\n",
       "sidewall damage                                      9957\n",
       "as set/axle worn                                     7778\n",
       "reason unknown, tire must be analyzed                4902\n",
       "sidewall finding                                     4305\n",
       "due to the time of the year (autumn, winter)         3443\n",
       "Vehicle sold                                         3065\n",
       "unknown                                              2717\n",
       "bead finding                                         2530\n",
       "Due to mechanical vehicle problems                   2333\n",
       "innerliner finding                                   2104\n",
       "tire damaged, reason unknown                         1960\n",
       "due to handling                                      1736\n",
       "due to the time of the year (spring)                 1655\n",
       "bead damage                                          1566\n",
       "belt finding                                          939\n",
       "innerliner damage                                     927\n",
       "incorrect result                                      925\n",
       "due to vibration                                      850\n",
       "belt damage                                           679\n",
       "Sidewall worn (city bus w/ indicator)                 564\n",
       "                                                    ...  \n",
       "(SW-05) Runflat Damage                                 25\n",
       "(SH-07) Belt Edge Separation                           22\n",
       "(SW-12) Bulge/Blister                                  21\n",
       "(SW-13) Separation                                     17\n",
       "(BD-03) Deformed Bead                                  13\n",
       "(SW-03) Impact Break                                   12\n",
       "(IN-06) Damaged (Underinflation)                       10\n",
       "(TR-03) Crack                                          10\n",
       "(SW-02) Puncture/Cut(Not To Interior)                  10\n",
       "(GN-10) Other (Explain in comments)                    10\n",
       "(TR-13) Open Splice                                     8\n",
       "(SW-09) Cord Fatigue/Zipper                             7\n",
       "(TR-04) Chipping/Chunking                               6\n",
       "(TR-07) Spin Cut Damage                                 6\n",
       "(SH-01) Puncture/Cut(To Interior)                       6\n",
       "(GN-08) Tire Destroyed                                  5\n",
       "(BD-06) Broken Bead                                     4\n",
       "(SH-02) Puncture/Cut(Not To Interior)                   3\n",
       "(IN-05) Damaged (Foreign Object)                        3\n",
       "(TR-10) Worn Too Far                                    3\n",
       "(BD-02) Mount/Dismount Damage                           3\n",
       "(BD-07) Chafer Edge Separation                          2\n",
       "(BD-04) Burned Bead                                     2\n",
       "(GN-09) Flat Spot                                       2\n",
       "(SH-08) Other (Explain In Comments)                     2\n",
       "(IN-09) Separation (From Innerliner)                    2\n",
       "(SW-14) Cut Separation                                  1\n",
       "(TR-15) Belt Leaving Belt                               1\n",
       "(IN-02) Diagonal Cracking                               1\n",
       "(IN-03) Circumferential Cracking                        1\n",
       "Name: finding_1, Length: 72, dtype: int64"
      ]
     },
     "execution_count": 9,
     "metadata": {},
     "output_type": "execute_result"
    }
   ],
   "source": [
    "df['finding_1'].value_counts()"
   ]
  },
  {
   "cell_type": "code",
   "execution_count": 10,
   "metadata": {},
   "outputs": [],
   "source": [
    "df = df.drop(columns=['unique_titd'])"
   ]
  },
  {
   "cell_type": "code",
   "execution_count": 11,
   "metadata": {},
   "outputs": [],
   "source": [
    "df.wheelposition_1=df.wheelposition_1.astype('category')\n",
    "df.wheelposition_1=df['wheelposition_1'].cat.codes\n",
    "df.rimtype_1=df.rimtype_1.astype('category')\n",
    "df.rimtype_1=df['rimtype_1'].cat.codes\n",
    "df.tisize_radial_1=df.tisize_radial_1.astype('category')\n",
    "df.tisize_radial_1=df['tisize_radial_1'].cat.codes\n",
    "# df.finding_1=df.finding_1.astype('category')\n",
    "# df.finding_1=df['finding_1'].cat.codes"
   ]
  },
  {
   "cell_type": "code",
   "execution_count": 12,
   "metadata": {},
   "outputs": [
    {
     "name": "stdout",
     "output_type": "stream",
     "text": [
      "<class 'pandas.core.frame.DataFrame'>\n",
      "Index: 740578 entries, 0 to 740577\n",
      "Data columns (total 12 columns):\n",
      "wheelposition_1    740578 non-null int8\n",
      "mileage_1          740578 non-null float64\n",
      "tacho_1            740578 non-null float64\n",
      "td_min_1           740578 non-null float64\n",
      "td_mean_1          740578 non-null float64\n",
      "rimtype_1          740578 non-null int8\n",
      "tisize_rim_1       740578 non-null float64\n",
      "tisize_width_1     740578 non-null float64\n",
      "tisize_radial_1    740578 non-null int8\n",
      "tisize_ratio_1     740578 non-null int64\n",
      "numspikes_na_1     740578 non-null int64\n",
      "finding_1          740578 non-null object\n",
      "dtypes: float64(6), int64(2), int8(3), object(1)\n",
      "memory usage: 58.6+ MB\n"
     ]
    }
   ],
   "source": [
    "df.info()"
   ]
  },
  {
   "cell_type": "code",
   "execution_count": 13,
   "metadata": {},
   "outputs": [
    {
     "data": {
      "text/html": [
       "<div>\n",
       "<style scoped>\n",
       "    .dataframe tbody tr th:only-of-type {\n",
       "        vertical-align: middle;\n",
       "    }\n",
       "\n",
       "    .dataframe tbody tr th {\n",
       "        vertical-align: top;\n",
       "    }\n",
       "\n",
       "    .dataframe thead th {\n",
       "        text-align: right;\n",
       "    }\n",
       "</style>\n",
       "<table border=\"1\" class=\"dataframe\">\n",
       "  <thead>\n",
       "    <tr style=\"text-align: right;\">\n",
       "      <th></th>\n",
       "      <th>wheelposition_1</th>\n",
       "      <th>mileage_1</th>\n",
       "      <th>tacho_1</th>\n",
       "      <th>td_min_1</th>\n",
       "      <th>td_mean_1</th>\n",
       "      <th>rimtype_1</th>\n",
       "      <th>tisize_rim_1</th>\n",
       "      <th>tisize_width_1</th>\n",
       "      <th>tisize_radial_1</th>\n",
       "      <th>tisize_ratio_1</th>\n",
       "      <th>numspikes_na_1</th>\n",
       "      <th>finding_1</th>\n",
       "    </tr>\n",
       "  </thead>\n",
       "  <tbody>\n",
       "    <tr>\n",
       "      <th>0</th>\n",
       "      <td>0</td>\n",
       "      <td>0.0</td>\n",
       "      <td>228741.0</td>\n",
       "      <td>15.0</td>\n",
       "      <td>15.240000</td>\n",
       "      <td>4</td>\n",
       "      <td>22.5</td>\n",
       "      <td>315.0</td>\n",
       "      <td>1</td>\n",
       "      <td>80</td>\n",
       "      <td>1</td>\n",
       "      <td>test finished</td>\n",
       "    </tr>\n",
       "    <tr>\n",
       "      <th>1</th>\n",
       "      <td>0</td>\n",
       "      <td>16937.0</td>\n",
       "      <td>697268.0</td>\n",
       "      <td>13.7</td>\n",
       "      <td>9.366667</td>\n",
       "      <td>4</td>\n",
       "      <td>22.5</td>\n",
       "      <td>315.0</td>\n",
       "      <td>1</td>\n",
       "      <td>65</td>\n",
       "      <td>1</td>\n",
       "      <td>test finished</td>\n",
       "    </tr>\n",
       "    <tr>\n",
       "      <th>2</th>\n",
       "      <td>0</td>\n",
       "      <td>31750.0</td>\n",
       "      <td>228741.0</td>\n",
       "      <td>12.8</td>\n",
       "      <td>13.200000</td>\n",
       "      <td>4</td>\n",
       "      <td>22.5</td>\n",
       "      <td>315.0</td>\n",
       "      <td>1</td>\n",
       "      <td>65</td>\n",
       "      <td>1</td>\n",
       "      <td>test finished</td>\n",
       "    </tr>\n",
       "    <tr>\n",
       "      <th>3</th>\n",
       "      <td>0</td>\n",
       "      <td>78229.0</td>\n",
       "      <td>228741.0</td>\n",
       "      <td>11.3</td>\n",
       "      <td>11.695000</td>\n",
       "      <td>4</td>\n",
       "      <td>22.5</td>\n",
       "      <td>315.0</td>\n",
       "      <td>1</td>\n",
       "      <td>80</td>\n",
       "      <td>1</td>\n",
       "      <td>test finished</td>\n",
       "    </tr>\n",
       "    <tr>\n",
       "      <th>4</th>\n",
       "      <td>0</td>\n",
       "      <td>104422.0</td>\n",
       "      <td>784753.0</td>\n",
       "      <td>10.3</td>\n",
       "      <td>10.668750</td>\n",
       "      <td>4</td>\n",
       "      <td>22.5</td>\n",
       "      <td>315.0</td>\n",
       "      <td>1</td>\n",
       "      <td>80</td>\n",
       "      <td>1</td>\n",
       "      <td>test finished</td>\n",
       "    </tr>\n",
       "  </tbody>\n",
       "</table>\n",
       "</div>"
      ],
      "text/plain": [
       "   wheelposition_1  mileage_1   tacho_1  td_min_1  td_mean_1  rimtype_1  \\\n",
       "0                0        0.0  228741.0      15.0  15.240000          4   \n",
       "1                0    16937.0  697268.0      13.7   9.366667          4   \n",
       "2                0    31750.0  228741.0      12.8  13.200000          4   \n",
       "3                0    78229.0  228741.0      11.3  11.695000          4   \n",
       "4                0   104422.0  784753.0      10.3  10.668750          4   \n",
       "\n",
       "   tisize_rim_1  tisize_width_1  tisize_radial_1  tisize_ratio_1  \\\n",
       "0          22.5           315.0                1              80   \n",
       "1          22.5           315.0                1              65   \n",
       "2          22.5           315.0                1              65   \n",
       "3          22.5           315.0                1              80   \n",
       "4          22.5           315.0                1              80   \n",
       "\n",
       "   numspikes_na_1      finding_1  \n",
       "0               1  test finished  \n",
       "1               1  test finished  \n",
       "2               1  test finished  \n",
       "3               1  test finished  \n",
       "4               1  test finished  "
      ]
     },
     "execution_count": 13,
     "metadata": {},
     "output_type": "execute_result"
    }
   ],
   "source": [
    "df.head()"
   ]
  },
  {
   "cell_type": "code",
   "execution_count": 14,
   "metadata": {},
   "outputs": [
    {
     "data": {
      "text/plain": [
       "Index(['wheelposition_1', 'mileage_1', 'tacho_1', 'td_min_1', 'td_mean_1',\n",
       "       'rimtype_1', 'tisize_rim_1', 'tisize_width_1', 'tisize_radial_1',\n",
       "       'tisize_ratio_1', 'numspikes_na_1', 'finding_1'],\n",
       "      dtype='object')"
      ]
     },
     "execution_count": 14,
     "metadata": {},
     "output_type": "execute_result"
    }
   ],
   "source": [
    "df.columns"
   ]
  },
  {
   "cell_type": "code",
   "execution_count": 15,
   "metadata": {},
   "outputs": [],
   "source": [
    "features = df[['wheelposition_1', 'mileage_1', 'tacho_1', 'td_min_1', 'td_mean_1',\n",
    "       'rimtype_1', 'tisize_rim_1', 'tisize_width_1', 'tisize_radial_1',\n",
    "       'tisize_ratio_1', 'numspikes_na_1']]\n",
    "target = df[['finding_1']]"
   ]
  },
  {
   "cell_type": "code",
   "execution_count": 16,
   "metadata": {},
   "outputs": [
    {
     "data": {
      "text/html": [
       "<div>\n",
       "<style scoped>\n",
       "    .dataframe tbody tr th:only-of-type {\n",
       "        vertical-align: middle;\n",
       "    }\n",
       "\n",
       "    .dataframe tbody tr th {\n",
       "        vertical-align: top;\n",
       "    }\n",
       "\n",
       "    .dataframe thead th {\n",
       "        text-align: right;\n",
       "    }\n",
       "</style>\n",
       "<table border=\"1\" class=\"dataframe\">\n",
       "  <thead>\n",
       "    <tr style=\"text-align: right;\">\n",
       "      <th></th>\n",
       "      <th>finding_1</th>\n",
       "    </tr>\n",
       "  </thead>\n",
       "  <tbody>\n",
       "    <tr>\n",
       "      <th>0</th>\n",
       "      <td>test finished</td>\n",
       "    </tr>\n",
       "    <tr>\n",
       "      <th>1</th>\n",
       "      <td>test finished</td>\n",
       "    </tr>\n",
       "    <tr>\n",
       "      <th>2</th>\n",
       "      <td>test finished</td>\n",
       "    </tr>\n",
       "    <tr>\n",
       "      <th>3</th>\n",
       "      <td>test finished</td>\n",
       "    </tr>\n",
       "    <tr>\n",
       "      <th>4</th>\n",
       "      <td>test finished</td>\n",
       "    </tr>\n",
       "  </tbody>\n",
       "</table>\n",
       "</div>"
      ],
      "text/plain": [
       "       finding_1\n",
       "0  test finished\n",
       "1  test finished\n",
       "2  test finished\n",
       "3  test finished\n",
       "4  test finished"
      ]
     },
     "execution_count": 16,
     "metadata": {},
     "output_type": "execute_result"
    }
   ],
   "source": [
    "target.head()"
   ]
  },
  {
   "cell_type": "code",
   "execution_count": 17,
   "metadata": {},
   "outputs": [],
   "source": [
    "from sklearn.model_selection import train_test_split\n",
    "# Split in the train and test dataset\n",
    "X_train, X_test, T_train, T_test = train_test_split(features, target, test_size=0.2, random_state=1)"
   ]
  },
  {
   "cell_type": "code",
   "execution_count": 18,
   "metadata": {},
   "outputs": [],
   "source": [
    "from sklearn.neighbors import KNeighborsClassifier"
   ]
  },
  {
   "cell_type": "code",
   "execution_count": 19,
   "metadata": {},
   "outputs": [],
   "source": [
    "from sklearn import metrics"
   ]
  },
  {
   "cell_type": "code",
   "execution_count": 23,
   "metadata": {},
   "outputs": [
    {
     "name": "stderr",
     "output_type": "stream",
     "text": [
      "C:\\ProgramData\\Anaconda3\\lib\\site-packages\\ipykernel_launcher.py:6: DataConversionWarning: A column-vector y was passed when a 1d array was expected. Please change the shape of y to (n_samples, ), for example using ravel().\n",
      "  \n",
      "C:\\ProgramData\\Anaconda3\\lib\\site-packages\\ipykernel_launcher.py:6: DataConversionWarning: A column-vector y was passed when a 1d array was expected. Please change the shape of y to (n_samples, ), for example using ravel().\n",
      "  \n"
     ]
    },
    {
     "data": {
      "image/png": "[encoded data removed]",
      "text/plain": [
       "<Figure size 432x288 with 1 Axes>"
      ]
     },
     "metadata": {
      "needs_background": "light"
     },
     "output_type": "display_data"
    }
   ],
   "source": [
    "#increase range for eg 1 to 10\n",
    "k_range = list(range(2,4))\n",
    "scores = []\n",
    "for k in k_range:\n",
    "    knn = KNeighborsClassifier(n_neighbors=k)\n",
    "    knn.fit(X_train, T_train)\n",
    "    y_pred = knn.predict(X_test)\n",
    "    scores.append(metrics.accuracy_score(T_test, y_pred))\n",
    "    \n",
    "plt.plot(k_range, scores)\n",
    "plt.xlabel('Value of k for KNN')\n",
    "plt.ylabel('Accuracy Score')\n",
    "plt.title('Accuracy Scores for Values of k of k-Nearest-Neighbors')\n",
    "plt.show()"
   ]
  },
  {
   "cell_type": "code",
   "execution_count": 37,
   "metadata": {},
   "outputs": [
    {
     "name": "stderr",
     "output_type": "stream",
     "text": [
      "C:\\ProgramData\\Anaconda3\\lib\\site-packages\\ipykernel_launcher.py:3: DataConversionWarning: A column-vector y was passed when a 1d array was expected. Please change the shape of y to (n_samples, ), for example using ravel().\n",
      "  This is separate from the ipykernel package so we can avoid doing imports until\n"
     ]
    }
   ],
   "source": [
    "# can increase neighbours\n",
    "knn = KNeighborsClassifier(n_neighbors=3)\n",
    "knn.fit(X_train, T_train)\n",
    "y_pred = knn.predict(X_test)\n",
    "scores.append(metrics.accuracy_score(T_test, y_pred))"
   ]
  },
  {
   "cell_type": "code",
   "execution_count": 25,
   "metadata": {},
   "outputs": [
    {
     "data": {
      "text/plain": [
       "[0.5015055767101461, 0.49330254665262363, 0.49330254665262363]"
      ]
     },
     "execution_count": 25,
     "metadata": {},
     "output_type": "execute_result"
    }
   ],
   "source": [
    "scores"
   ]
  },
  {
   "cell_type": "code",
   "execution_count": 26,
   "metadata": {},
   "outputs": [],
   "source": [
    "from sklearn.neural_network import MLPClassifier"
   ]
  },
  {
   "cell_type": "code",
   "execution_count": 41,
   "metadata": {},
   "outputs": [],
   "source": [
    "# alpha-learning rate problem\n",
    "universal_model = MLPClassifier(hidden_layer_sizes=(11,50,50), max_iter=50, alpha=0.000000000000001,\n",
    "                     solver='lbfgs', verbose=10,  random_state=21)"
   ]
  },
  {
   "cell_type": "code",
   "execution_count": 42,
   "metadata": {},
   "outputs": [
    {
     "name": "stderr",
     "output_type": "stream",
     "text": [
      "C:\\ProgramData\\Anaconda3\\lib\\site-packages\\sklearn\\neural_network\\multilayer_perceptron.py:916: DataConversionWarning: A column-vector y was passed when a 1d array was expected. Please change the shape of y to (n_samples, ), for example using ravel().\n",
      "  y = column_or_1d(y, warn=True)\n"
     ]
    }
   ],
   "source": [
    "universal_model.fit(X_train, T_train)\n",
    "y_pred = universal_model.predict(X_test)"
   ]
  },
  {
   "cell_type": "code",
   "execution_count": 20,
   "metadata": {},
   "outputs": [],
   "source": [
    "from sklearn.metrics import confusion_matrix\n",
    "from sklearn.metrics import accuracy_score"
   ]
  },
  {
   "cell_type": "code",
   "execution_count": 21,
   "metadata": {},
   "outputs": [
    {
     "ename": "ValueError",
     "evalue": "Classification metrics can't handle a mix of continuous-multioutput and multiclass targets",
     "output_type": "error",
     "traceback": [
      "\u001b[0;31m---------------------------------------------------------------------------\u001b[0m",
      "\u001b[0;31mValueError\u001b[0m                                Traceback (most recent call last)",
      "\u001b[0;32m<ipython-input-21-954be28f0bfe>\u001b[0m in \u001b[0;36m<module>\u001b[0;34m()\u001b[0m\n\u001b[1;32m      1\u001b[0m \u001b[0;34m\u001b[0m\u001b[0m\n\u001b[0;32m----> 2\u001b[0;31m \u001b[0maccuracy_score\u001b[0m\u001b[0;34m(\u001b[0m\u001b[0mX_train\u001b[0m\u001b[0;34m,\u001b[0m \u001b[0mT_train\u001b[0m\u001b[0;34m)\u001b[0m\u001b[0;34m\u001b[0m\u001b[0m\n\u001b[0m\u001b[1;32m      3\u001b[0m \u001b[0;34m\u001b[0m\u001b[0m\n",
      "\u001b[0;32m~/anaconda3/lib/python3.6/site-packages/sklearn/metrics/classification.py\u001b[0m in \u001b[0;36maccuracy_score\u001b[0;34m(y_true, y_pred, normalize, sample_weight)\u001b[0m\n\u001b[1;32m    174\u001b[0m \u001b[0;34m\u001b[0m\u001b[0m\n\u001b[1;32m    175\u001b[0m     \u001b[0;31m# Compute accuracy for each possible representation\u001b[0m\u001b[0;34m\u001b[0m\u001b[0;34m\u001b[0m\u001b[0m\n\u001b[0;32m--> 176\u001b[0;31m     \u001b[0my_type\u001b[0m\u001b[0;34m,\u001b[0m \u001b[0my_true\u001b[0m\u001b[0;34m,\u001b[0m \u001b[0my_pred\u001b[0m \u001b[0;34m=\u001b[0m \u001b[0m_check_targets\u001b[0m\u001b[0;34m(\u001b[0m\u001b[0my_true\u001b[0m\u001b[0;34m,\u001b[0m \u001b[0my_pred\u001b[0m\u001b[0;34m)\u001b[0m\u001b[0;34m\u001b[0m\u001b[0m\n\u001b[0m\u001b[1;32m    177\u001b[0m     \u001b[0;32mif\u001b[0m \u001b[0my_type\u001b[0m\u001b[0;34m.\u001b[0m\u001b[0mstartswith\u001b[0m\u001b[0;34m(\u001b[0m\u001b[0;34m'multilabel'\u001b[0m\u001b[0;34m)\u001b[0m\u001b[0;34m:\u001b[0m\u001b[0;34m\u001b[0m\u001b[0m\n\u001b[1;32m    178\u001b[0m         \u001b[0mdiffering_labels\u001b[0m \u001b[0;34m=\u001b[0m \u001b[0mcount_nonzero\u001b[0m\u001b[0;34m(\u001b[0m\u001b[0my_true\u001b[0m \u001b[0;34m-\u001b[0m \u001b[0my_pred\u001b[0m\u001b[0;34m,\u001b[0m \u001b[0maxis\u001b[0m\u001b[0;34m=\u001b[0m\u001b[0;36m1\u001b[0m\u001b[0;34m)\u001b[0m\u001b[0;34m\u001b[0m\u001b[0m\n",
      "\u001b[0;32m~/anaconda3/lib/python3.6/site-packages/sklearn/metrics/classification.py\u001b[0m in \u001b[0;36m_check_targets\u001b[0;34m(y_true, y_pred)\u001b[0m\n\u001b[1;32m     79\u001b[0m     \u001b[0;32mif\u001b[0m \u001b[0mlen\u001b[0m\u001b[0;34m(\u001b[0m\u001b[0my_type\u001b[0m\u001b[0;34m)\u001b[0m \u001b[0;34m>\u001b[0m \u001b[0;36m1\u001b[0m\u001b[0;34m:\u001b[0m\u001b[0;34m\u001b[0m\u001b[0m\n\u001b[1;32m     80\u001b[0m         raise ValueError(\"Classification metrics can't handle a mix of {0} \"\n\u001b[0;32m---> 81\u001b[0;31m                          \"and {1} targets\".format(type_true, type_pred))\n\u001b[0m\u001b[1;32m     82\u001b[0m \u001b[0;34m\u001b[0m\u001b[0m\n\u001b[1;32m     83\u001b[0m     \u001b[0;31m# We can't have more than one value on y_type => The set is no more needed\u001b[0m\u001b[0;34m\u001b[0m\u001b[0;34m\u001b[0m\u001b[0m\n",
      "\u001b[0;31mValueError\u001b[0m: Classification metrics can't handle a mix of continuous-multioutput and multiclass targets"
     ]
    }
   ],
   "source": [
    "\n",
    "accuracy_score(X_train, T_train)\n",
    "\n"
   ]
  },
  {
   "cell_type": "code",
   "execution_count": 48,
   "metadata": {},
   "outputs": [
    {
     "ename": "ValueError",
     "evalue": "Classification metrics can't handle a mix of multiclass and continuous-multioutput targets",
     "output_type": "error",
     "traceback": [
      "\u001b[1;31m---------------------------------------------------------------------------\u001b[0m",
      "\u001b[1;31mValueError\u001b[0m                                Traceback (most recent call last)",
      "\u001b[1;32m<ipython-input-48-fb51dc4cc616>\u001b[0m in \u001b[0;36m<module>\u001b[1;34m\u001b[0m\n\u001b[1;32m----> 1\u001b[1;33m \u001b[0mcm\u001b[0m \u001b[1;33m=\u001b[0m \u001b[0mconfusion_matrix\u001b[0m\u001b[1;33m(\u001b[0m\u001b[0mT_train\u001b[0m\u001b[1;33m,\u001b[0m \u001b[0mX_train\u001b[0m\u001b[1;33m)\u001b[0m\u001b[1;33m\u001b[0m\u001b[1;33m\u001b[0m\u001b[0m\n\u001b[0m\u001b[0;32m      2\u001b[0m \u001b[0mcm\u001b[0m\u001b[1;33m\u001b[0m\u001b[1;33m\u001b[0m\u001b[0m\n",
      "\u001b[1;32mC:\\ProgramData\\Anaconda3\\lib\\site-packages\\sklearn\\metrics\\classification.py\u001b[0m in \u001b[0;36mconfusion_matrix\u001b[1;34m(y_true, y_pred, labels, sample_weight)\u001b[0m\n\u001b[0;32m    251\u001b[0m \u001b[1;33m\u001b[0m\u001b[0m\n\u001b[0;32m    252\u001b[0m     \"\"\"\n\u001b[1;32m--> 253\u001b[1;33m     \u001b[0my_type\u001b[0m\u001b[1;33m,\u001b[0m \u001b[0my_true\u001b[0m\u001b[1;33m,\u001b[0m \u001b[0my_pred\u001b[0m \u001b[1;33m=\u001b[0m \u001b[0m_check_targets\u001b[0m\u001b[1;33m(\u001b[0m\u001b[0my_true\u001b[0m\u001b[1;33m,\u001b[0m \u001b[0my_pred\u001b[0m\u001b[1;33m)\u001b[0m\u001b[1;33m\u001b[0m\u001b[1;33m\u001b[0m\u001b[0m\n\u001b[0m\u001b[0;32m    254\u001b[0m     \u001b[1;32mif\u001b[0m \u001b[0my_type\u001b[0m \u001b[1;32mnot\u001b[0m \u001b[1;32min\u001b[0m \u001b[1;33m(\u001b[0m\u001b[1;34m\"binary\"\u001b[0m\u001b[1;33m,\u001b[0m \u001b[1;34m\"multiclass\"\u001b[0m\u001b[1;33m)\u001b[0m\u001b[1;33m:\u001b[0m\u001b[1;33m\u001b[0m\u001b[1;33m\u001b[0m\u001b[0m\n\u001b[0;32m    255\u001b[0m         \u001b[1;32mraise\u001b[0m \u001b[0mValueError\u001b[0m\u001b[1;33m(\u001b[0m\u001b[1;34m\"%s is not supported\"\u001b[0m \u001b[1;33m%\u001b[0m \u001b[0my_type\u001b[0m\u001b[1;33m)\u001b[0m\u001b[1;33m\u001b[0m\u001b[1;33m\u001b[0m\u001b[0m\n",
      "\u001b[1;32mC:\\ProgramData\\Anaconda3\\lib\\site-packages\\sklearn\\metrics\\classification.py\u001b[0m in \u001b[0;36m_check_targets\u001b[1;34m(y_true, y_pred)\u001b[0m\n\u001b[0;32m     79\u001b[0m     \u001b[1;32mif\u001b[0m \u001b[0mlen\u001b[0m\u001b[1;33m(\u001b[0m\u001b[0my_type\u001b[0m\u001b[1;33m)\u001b[0m \u001b[1;33m>\u001b[0m \u001b[1;36m1\u001b[0m\u001b[1;33m:\u001b[0m\u001b[1;33m\u001b[0m\u001b[1;33m\u001b[0m\u001b[0m\n\u001b[0;32m     80\u001b[0m         raise ValueError(\"Classification metrics can't handle a mix of {0} \"\n\u001b[1;32m---> 81\u001b[1;33m                          \"and {1} targets\".format(type_true, type_pred))\n\u001b[0m\u001b[0;32m     82\u001b[0m \u001b[1;33m\u001b[0m\u001b[0m\n\u001b[0;32m     83\u001b[0m     \u001b[1;31m# We can't have more than one value on y_type => The set is no more needed\u001b[0m\u001b[1;33m\u001b[0m\u001b[1;33m\u001b[0m\u001b[1;33m\u001b[0m\u001b[0m\n",
      "\u001b[1;31mValueError\u001b[0m: Classification metrics can't handle a mix of multiclass and continuous-multioutput targets"
     ]
    }
   ],
   "source": [
    "cm = confusion_matrix(T_train, X_train)\n",
    "cm"
   ]
  },
  {
   "cell_type": "code",
   "execution_count": 36,
   "metadata": {},
   "outputs": [
    {
     "ename": "NameError",
     "evalue": "name 'cm' is not defined",
     "output_type": "error",
     "traceback": [
      "\u001b[1;31m---------------------------------------------------------------------------\u001b[0m",
      "\u001b[1;31mNameError\u001b[0m                                 Traceback (most recent call last)",
      "\u001b[1;32m<ipython-input-36-fb3122474901>\u001b[0m in \u001b[0;36m<module>\u001b[1;34m\u001b[0m\n\u001b[1;32m----> 1\u001b[1;33m \u001b[0msns\u001b[0m\u001b[1;33m.\u001b[0m\u001b[0mheatmap\u001b[0m\u001b[1;33m(\u001b[0m\u001b[0mcm\u001b[0m\u001b[1;33m,\u001b[0m \u001b[0mcenter\u001b[0m\u001b[1;33m=\u001b[0m\u001b[1;32mTrue\u001b[0m\u001b[1;33m)\u001b[0m\u001b[1;33m\u001b[0m\u001b[1;33m\u001b[0m\u001b[0m\n\u001b[0m\u001b[0;32m      2\u001b[0m \u001b[0mplt\u001b[0m\u001b[1;33m.\u001b[0m\u001b[0mshow\u001b[0m\u001b[1;33m(\u001b[0m\u001b[1;33m)\u001b[0m\u001b[1;33m\u001b[0m\u001b[1;33m\u001b[0m\u001b[0m\n",
      "\u001b[1;31mNameError\u001b[0m: name 'cm' is not defined"
     ]
    }
   ],
   "source": [
    "sns.heatmap(cm, center=True)\n",
    "plt.show()"
   ]
  },
  {
   "cell_type": "markdown",
   "metadata": {},
   "source": [
    "# Clustering"
   ]
  },
  {
   "cell_type": "code",
   "execution_count": 22,
   "metadata": {},
   "outputs": [],
   "source": [
    "from sklearn.cluster import KMeans"
   ]
  },
  {
   "cell_type": "code",
   "execution_count": 27,
   "metadata": {},
   "outputs": [],
   "source": [
    "# can increase number of clusters\n",
    "kmeans = KMeans(n_clusters=6, random_state=0)\n",
    "clusters = kmeans.fit_predict(X_train)"
   ]
  },
  {
   "cell_type": "code",
   "execution_count": 28,
   "metadata": {},
   "outputs": [
    {
     "data": {
      "text/plain": [
       "array([[7.99769850e-02, 9.33876216e+04, 4.35979650e+05, 8.61153186e+00,\n",
       "        9.77787092e+00, 3.63551686e+00, 2.10944048e+01, 3.00593634e+02,\n",
       "        9.99880583e-01, 7.02886640e+01, 9.68604121e-01],\n",
       "       [1.56127965e-01, 4.00735904e+04, 7.45356330e+04, 8.74442429e+00,\n",
       "        9.72466037e+00, 3.56336577e+00, 1.99560389e+01, 2.74209782e+02,\n",
       "        9.95020034e-01, 6.87242002e+01, 9.44285442e-01],\n",
       "       [2.77555756e-16, 7.22804444e+04, 9.77900713e+06, 8.99157407e+00,\n",
       "        1.01368364e+01, 4.00000000e+00, 2.22037037e+01, 3.13375000e+02,\n",
       "        1.00000000e+00, 8.30555556e+01, 1.00000000e+00],\n",
       "       [7.15747664e-02, 9.83140272e+04, 7.16827783e+05, 9.22953971e+00,\n",
       "        1.03679953e+01, 3.70067076e+00, 2.19182017e+01, 3.13299491e+02,\n",
       "        1.00000000e+00, 7.14510507e+01, 9.89948730e-01],\n",
       "       [1.87330100e-01, 4.04723531e+04, 2.31536735e+05, 1.05708181e+01,\n",
       "        1.13875039e+01, 3.51306621e+00, 2.01952868e+01, 2.82001549e+02,\n",
       "        9.94584657e-01, 6.90060019e+01, 9.19635448e-01],\n",
       "       [2.94810818e-01, 1.16478924e+05, 1.13216588e+06, 8.99726631e+00,\n",
       "        1.02261344e+01, 3.59068645e+00, 2.23681053e+01, 3.11776035e+02,\n",
       "        9.99858025e-01, 7.33236317e+01, 9.94817917e-01]])"
      ]
     },
     "execution_count": 28,
     "metadata": {},
     "output_type": "execute_result"
    }
   ],
   "source": [
    "kmeans.cluster_centers_"
   ]
  },
  {
   "cell_type": "code",
   "execution_count": 29,
   "metadata": {},
   "outputs": [],
   "source": [
    "labels = kmeans.predict(X_test)\n",
    "centroids = kmeans.cluster_centers_"
   ]
  },
  {
   "cell_type": "code",
   "execution_count": 34,
   "metadata": {},
   "outputs": [
    {
     "data": {
      "image/png": "[encoded data removed]",
      "text/plain": [
       "<matplotlib.figure.Figure at 0x11e460d68>"
      ]
     },
     "metadata": {},
     "output_type": "display_data"
    }
   ],
   "source": []
  },
  {
   "cell_type": "code",
   "execution_count": null,
   "metadata": {},
   "outputs": [],
   "source": [
    "sse = {}\n",
    "for k in range(1, 30):\n",
    "    kmeans = KMeans(n_clusters=k, max_iter=1000).fit(X_train)\n",
    "    data = kmeans.labels_\n",
    "    #print(data[\"clusters\"])\n",
    "    sse[k] = kmeans.inertia_ # Inertia: Sum of distances of samples to their closest cluster center\n",
    "plt.figure()\n",
    "plt.plot(list(sse.keys()), list(sse.values()))\n",
    "plt.xlabel(\"Number of cluster\")\n",
    "plt.ylabel(\"SSE\")\n",
    "plt.show()"
   ]
  },
  {
   "cell_type": "code",
   "execution_count": 60,
   "metadata": {},
   "outputs": [],
   "source": [
    "from sklearn.decomposition import PCA\n",
    "\n",
    "pca = PCA(n_components=2)\n",
    "pca_result = pca.fit_transform(X_test.values)\n"
   ]
  },
  {
   "cell_type": "code",
   "execution_count": 61,
   "metadata": {},
   "outputs": [
    {
     "data": {
      "text/plain": [
       "array([0.94124757, 0.05875236])"
      ]
     },
     "execution_count": 61,
     "metadata": {},
     "output_type": "execute_result"
    }
   ],
   "source": [
    "pca.explained_variance_ratio_"
   ]
  },
  {
   "cell_type": "code",
   "execution_count": 40,
   "metadata": {},
   "outputs": [
    {
     "data": {
      "text/plain": [
       "array([[ -59595.54266083],\n",
       "       [-177734.70159343],\n",
       "       [-212505.68107749],\n",
       "       ...,\n",
       "       [-278814.24276861],\n",
       "       [-144486.06519104],\n",
       "       [ -56089.93947965]])"
      ]
     },
     "execution_count": 40,
     "metadata": {},
     "output_type": "execute_result"
    }
   ],
   "source": [
    "pca_result"
   ]
  },
  {
   "cell_type": "code",
   "execution_count": 41,
   "metadata": {},
   "outputs": [
    {
     "data": {
      "image/png": "[encoded data removed]",
      "text/plain": [
       "<matplotlib.figure.Figure at 0x1168785f8>"
      ]
     },
     "metadata": {},
     "output_type": "display_data"
    }
   ],
   "source": [
    "fig = plt.figure(figsize=(5, 5))\n",
    "colmap = {1: 'r', 2: 'g', 3: 'b',4:'cyan',5:'black',6:'purple'}\n",
    "colors = map(lambda x: colmap[x+1], labels)\n",
    "colors=list(colors)\n",
    "plt.scatter(pca_result, labels, color=colors, alpha=0.5, edgecolor='k')\n",
    "# for idx, centroid in enumerate(centroids):\n",
    "#     plt.scatter(*centroid, color=colors[idx+1])\n",
    "# plt.xlim(0, 80)\n",
    "# plt.ylim(0, 10)\n",
    "plt.show()\n"
   ]
  },
  {
   "cell_type": "code",
   "execution_count": 57,
   "metadata": {},
   "outputs": [
    {
     "data": {
      "text/plain": [
       "array([[ -59595.54266083,  -29302.10599444],\n",
       "       [-177734.70159343,   61820.67855486],\n",
       "       [-212505.68107749,   -8253.09913568],\n",
       "       ...,\n",
       "       [-278814.24276861,  -25364.80410951],\n",
       "       [-144486.06519104,  -38745.94854026],\n",
       "       [ -56089.93947965,  -24446.43031399]])"
      ]
     },
     "execution_count": 57,
     "metadata": {},
     "output_type": "execute_result"
    }
   ],
   "source": [
    "from sklearn.decomposition import PCA\n",
    "\n",
    "pca = PCA(n_components=2)\n",
    "pca_result_train = pca.fit_transform(X_test\n",
    "                                     .values)\n",
    "\n",
    "pca_result_train.shape\n",
    "pca_result_train0 = pca_result_train"
   ]
  },
  {
   "cell_type": "code",
   "execution_count": 62,
   "metadata": {},
   "outputs": [
    {
     "data": {
      "image/png": "[encoded data removed]",
      "text/plain": [
       "<matplotlib.figure.Figure at 0x11cd4d5f8>"
      ]
     },
     "metadata": {},
     "output_type": "display_data"
    },
    {
     "data": {
      "text/plain": [
       "<matplotlib.figure.Figure at 0x120204438>"
      ]
     },
     "metadata": {},
     "output_type": "display_data"
    }
   ],
   "source": [
    "fig = plt.figure(figsize=(10, 10))\n",
    "colmap = {1: 'r', 2: 'g', 3: 'b',4:'cyan',5:'black',6:'purple'}\n",
    "colors = map(lambda x: colmap[x+1], labels)\n",
    "colors=list(colors)\n",
    "plt.scatter(pca_result_train[:,0],pca_result_train[:,1] ,color=colors,alpha=0.5, edgecolor='k')\n",
    "# for idx, centroid in enumerate(centroids):\n",
    "#     plt.scatter(*centroid, color=colors[idx+1])\n",
    "# plt.xlim(0, 80)\n",
    "# plt.ylim(0, 10)\n",
    "plt.show()\n",
    "plt.savefig('filename.jpg')"
   ]
  },
  {
   "cell_type": "code",
   "execution_count": null,
   "metadata": {},
   "outputs": [],
   "source": []
  }
 ],
 "metadata": {
  "kernelspec": {
   "display_name": "Python 3",
   "language": "python",
   "name": "python3"
  },
  "language_info": {
   "codemirror_mode": {
    "name": "ipython",
    "version": 3
   },
   "file_extension": ".py",
   "mimetype": "text/x-python",
   "name": "python",
   "nbconvert_exporter": "python",
   "pygments_lexer": "ipython3",
   "version": "3.6.4"
  }
 },
 "nbformat": 4,
 "nbformat_minor": 2
}
