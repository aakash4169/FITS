{
 "cells": [
  {
   "cell_type": "code",
   "execution_count": 1,
   "metadata": {},
   "outputs": [
    {
     "name": "stderr",
     "output_type": "stream",
     "text": [
      "/Users/vedparanjape/anaconda3/lib/python3.6/site-packages/statsmodels/compat/pandas.py:56: FutureWarning: The pandas.core.datetools module is deprecated and will be removed in a future version. Please use the pandas.tseries module instead.\n",
      "  from pandas.core import datetools\n"
     ]
    }
   ],
   "source": [
    "import pandas as pd\n",
    "from patsy import dmatrices\n",
    "import statsmodels.api as sm \n",
    "from sklearn import datasets\n",
    "from sklearn.datasets import load_breast_cancer\n",
    "import numpy as np"
   ]
  },
  {
   "cell_type": "code",
   "execution_count": 2,
   "metadata": {},
   "outputs": [],
   "source": [
    "def concat_bias(dataframee):\n",
    "    bias = np.ones((len(dataframee),1))\n",
    "#     dataframee = pd.concat([bias,dataframee], axis=1,ignore_index=True)\n",
    "    dataframee.insert(0, 'bias', bias)\n",
    "    return dataframee"
   ]
  },
  {
   "cell_type": "code",
   "execution_count": 3,
   "metadata": {},
   "outputs": [
    {
     "name": "stderr",
     "output_type": "stream",
     "text": [
      "/Users/vedparanjape/anaconda3/lib/python3.6/site-packages/IPython/core/interactiveshell.py:2728: DtypeWarning: Columns (9,17) have mixed types. Specify dtype option on import or set low_memory=False.\n",
      "  interactivity=interactivity, compiler=compiler, result=result)\n"
     ]
    }
   ],
   "source": [
    "df = pd.read_csv('result.csv')"
   ]
  },
  {
   "cell_type": "code",
   "execution_count": 4,
   "metadata": {},
   "outputs": [
    {
     "data": {
      "text/html": [
       "<div>\n",
       "<style scoped>\n",
       "    .dataframe tbody tr th:only-of-type {\n",
       "        vertical-align: middle;\n",
       "    }\n",
       "\n",
       "    .dataframe tbody tr th {\n",
       "        vertical-align: top;\n",
       "    }\n",
       "\n",
       "    .dataframe thead th {\n",
       "        text-align: right;\n",
       "    }\n",
       "</style>\n",
       "<table border=\"1\" class=\"dataframe\">\n",
       "  <thead>\n",
       "    <tr style=\"text-align: right;\">\n",
       "      <th></th>\n",
       "      <th>unique_titd</th>\n",
       "      <th>tire.country_fk</th>\n",
       "      <th>section.section_fk</th>\n",
       "      <th>tiregroup.testplan_fk</th>\n",
       "      <th>mileage</th>\n",
       "      <th>date</th>\n",
       "      <th>tacho</th>\n",
       "      <th>td_min</th>\n",
       "      <th>td_mean</th>\n",
       "      <th>wheelposition</th>\n",
       "      <th>...</th>\n",
       "      <th>finding_1_(BD-06) Broken Bead</th>\n",
       "      <th>finding_1_(TR-13) Open Splice</th>\n",
       "      <th>finding_1_(TR-14) Tread Leaving Belt</th>\n",
       "      <th>finding_1_(TR-10) Worn Too Far</th>\n",
       "      <th>finding_1_(BD-03) Deformed Bead</th>\n",
       "      <th>finding_1_(TR-15) Belt Leaving Belt</th>\n",
       "      <th>finding_1_(IN-03) Circumferential Cracking</th>\n",
       "      <th>finding_1_(IN-02) Diagonal Cracking</th>\n",
       "      <th>finding_1_(IN-05) Damaged (Foreign Object)</th>\n",
       "      <th>finding_1_(BD-07) Chafer Edge Separation</th>\n",
       "    </tr>\n",
       "  </thead>\n",
       "  <tbody>\n",
       "    <tr>\n",
       "      <th>0</th>\n",
       "      <td>uh02480xxxxxg3poc3bg00b10_uh02480xxxxx4mrovkfg...</td>\n",
       "      <td>kaykxxxxxxxx2rsgrh2e00n00</td>\n",
       "      <td>uh02480xxxxxg3poc3bg00a10</td>\n",
       "      <td>uh02480xxxxxjnt47iag00000</td>\n",
       "      <td>0.0</td>\n",
       "      <td>7/1/2010</td>\n",
       "      <td>NaN</td>\n",
       "      <td>15.0</td>\n",
       "      <td>15.24000</td>\n",
       "      <td>NaN</td>\n",
       "      <td>...</td>\n",
       "      <td>0</td>\n",
       "      <td>0</td>\n",
       "      <td>0</td>\n",
       "      <td>0</td>\n",
       "      <td>0</td>\n",
       "      <td>0</td>\n",
       "      <td>0</td>\n",
       "      <td>0</td>\n",
       "      <td>0</td>\n",
       "      <td>0</td>\n",
       "    </tr>\n",
       "    <tr>\n",
       "      <th>1</th>\n",
       "      <td>uh02480xxxxxg3poc3bg00b10_uh06144xxxxx6o4fnpig...</td>\n",
       "      <td>kaykxxxxxxxx2rsgrh2e00n00</td>\n",
       "      <td>uh02480xxxxxg3poc3bg00a10</td>\n",
       "      <td>NaN</td>\n",
       "      <td>16937.0</td>\n",
       "      <td>1/9/2011</td>\n",
       "      <td>697268.0</td>\n",
       "      <td>13.7</td>\n",
       "      <td>NaN</td>\n",
       "      <td>NaN</td>\n",
       "      <td>...</td>\n",
       "      <td>0</td>\n",
       "      <td>0</td>\n",
       "      <td>0</td>\n",
       "      <td>0</td>\n",
       "      <td>0</td>\n",
       "      <td>0</td>\n",
       "      <td>0</td>\n",
       "      <td>0</td>\n",
       "      <td>0</td>\n",
       "      <td>0</td>\n",
       "    </tr>\n",
       "    <tr>\n",
       "      <th>2</th>\n",
       "      <td>uh02480xxxxxg3poc3bg00b10_uh06144xxxxx0uslnrlg...</td>\n",
       "      <td>kaykxxxxxxxx2rsgrh2e00n00</td>\n",
       "      <td>uh02480xxxxxg3poc3bg00a10</td>\n",
       "      <td>uh02480xxxxxjnt47iag00000</td>\n",
       "      <td>NaN</td>\n",
       "      <td>3/27/2011</td>\n",
       "      <td>NaN</td>\n",
       "      <td>12.8</td>\n",
       "      <td>13.20000</td>\n",
       "      <td>NaN</td>\n",
       "      <td>...</td>\n",
       "      <td>0</td>\n",
       "      <td>0</td>\n",
       "      <td>0</td>\n",
       "      <td>0</td>\n",
       "      <td>0</td>\n",
       "      <td>0</td>\n",
       "      <td>0</td>\n",
       "      <td>0</td>\n",
       "      <td>0</td>\n",
       "      <td>0</td>\n",
       "    </tr>\n",
       "    <tr>\n",
       "      <th>3</th>\n",
       "      <td>uh02480xxxxxg3poc3bg00b10_uh06144xxxxxzpqltxpg...</td>\n",
       "      <td>NaN</td>\n",
       "      <td>uh02480xxxxxg3poc3bg00a10</td>\n",
       "      <td>uh02480xxxxxjnt47iag00000</td>\n",
       "      <td>78229.0</td>\n",
       "      <td>7/10/2011</td>\n",
       "      <td>NaN</td>\n",
       "      <td>11.3</td>\n",
       "      <td>11.69500</td>\n",
       "      <td>NaN</td>\n",
       "      <td>...</td>\n",
       "      <td>0</td>\n",
       "      <td>0</td>\n",
       "      <td>0</td>\n",
       "      <td>0</td>\n",
       "      <td>0</td>\n",
       "      <td>0</td>\n",
       "      <td>0</td>\n",
       "      <td>0</td>\n",
       "      <td>0</td>\n",
       "      <td>0</td>\n",
       "    </tr>\n",
       "    <tr>\n",
       "      <th>4</th>\n",
       "      <td>uh02480xxxxxg3poc3bg00b10_uh06144xxxxx62epzusg...</td>\n",
       "      <td>NaN</td>\n",
       "      <td>uh02480xxxxxg3poc3bg00a10</td>\n",
       "      <td>uh02480xxxxxjnt47iag00000</td>\n",
       "      <td>104422.0</td>\n",
       "      <td>9/21/2011</td>\n",
       "      <td>784753.0</td>\n",
       "      <td>10.3</td>\n",
       "      <td>10.66875</td>\n",
       "      <td>NaN</td>\n",
       "      <td>...</td>\n",
       "      <td>0</td>\n",
       "      <td>0</td>\n",
       "      <td>0</td>\n",
       "      <td>0</td>\n",
       "      <td>0</td>\n",
       "      <td>0</td>\n",
       "      <td>0</td>\n",
       "      <td>0</td>\n",
       "      <td>0</td>\n",
       "      <td>0</td>\n",
       "    </tr>\n",
       "  </tbody>\n",
       "</table>\n",
       "<p>5 rows × 104 columns</p>\n",
       "</div>"
      ],
      "text/plain": [
       "                                         unique_titd  \\\n",
       "0  uh02480xxxxxg3poc3bg00b10_uh02480xxxxx4mrovkfg...   \n",
       "1  uh02480xxxxxg3poc3bg00b10_uh06144xxxxx6o4fnpig...   \n",
       "2  uh02480xxxxxg3poc3bg00b10_uh06144xxxxx0uslnrlg...   \n",
       "3  uh02480xxxxxg3poc3bg00b10_uh06144xxxxxzpqltxpg...   \n",
       "4  uh02480xxxxxg3poc3bg00b10_uh06144xxxxx62epzusg...   \n",
       "\n",
       "             tire.country_fk         section.section_fk  \\\n",
       "0  kaykxxxxxxxx2rsgrh2e00n00  uh02480xxxxxg3poc3bg00a10   \n",
       "1  kaykxxxxxxxx2rsgrh2e00n00  uh02480xxxxxg3poc3bg00a10   \n",
       "2  kaykxxxxxxxx2rsgrh2e00n00  uh02480xxxxxg3poc3bg00a10   \n",
       "3                        NaN  uh02480xxxxxg3poc3bg00a10   \n",
       "4                        NaN  uh02480xxxxxg3poc3bg00a10   \n",
       "\n",
       "       tiregroup.testplan_fk   mileage       date     tacho  td_min   td_mean  \\\n",
       "0  uh02480xxxxxjnt47iag00000       0.0   7/1/2010       NaN    15.0  15.24000   \n",
       "1                        NaN   16937.0   1/9/2011  697268.0    13.7       NaN   \n",
       "2  uh02480xxxxxjnt47iag00000       NaN  3/27/2011       NaN    12.8  13.20000   \n",
       "3  uh02480xxxxxjnt47iag00000   78229.0  7/10/2011       NaN    11.3  11.69500   \n",
       "4  uh02480xxxxxjnt47iag00000  104422.0  9/21/2011  784753.0    10.3  10.66875   \n",
       "\n",
       "  wheelposition                    ...                     \\\n",
       "0           NaN                    ...                      \n",
       "1           NaN                    ...                      \n",
       "2           NaN                    ...                      \n",
       "3           NaN                    ...                      \n",
       "4           NaN                    ...                      \n",
       "\n",
       "  finding_1_(BD-06) Broken Bead  finding_1_(TR-13) Open Splice  \\\n",
       "0                             0                              0   \n",
       "1                             0                              0   \n",
       "2                             0                              0   \n",
       "3                             0                              0   \n",
       "4                             0                              0   \n",
       "\n",
       "   finding_1_(TR-14) Tread Leaving Belt finding_1_(TR-10) Worn Too Far  \\\n",
       "0                                     0                              0   \n",
       "1                                     0                              0   \n",
       "2                                     0                              0   \n",
       "3                                     0                              0   \n",
       "4                                     0                              0   \n",
       "\n",
       "   finding_1_(BD-03) Deformed Bead  finding_1_(TR-15) Belt Leaving Belt  \\\n",
       "0                                0                                    0   \n",
       "1                                0                                    0   \n",
       "2                                0                                    0   \n",
       "3                                0                                    0   \n",
       "4                                0                                    0   \n",
       "\n",
       "  finding_1_(IN-03) Circumferential Cracking  \\\n",
       "0                                          0   \n",
       "1                                          0   \n",
       "2                                          0   \n",
       "3                                          0   \n",
       "4                                          0   \n",
       "\n",
       "  finding_1_(IN-02) Diagonal Cracking  \\\n",
       "0                                   0   \n",
       "1                                   0   \n",
       "2                                   0   \n",
       "3                                   0   \n",
       "4                                   0   \n",
       "\n",
       "  finding_1_(IN-05) Damaged (Foreign Object)  \\\n",
       "0                                          0   \n",
       "1                                          0   \n",
       "2                                          0   \n",
       "3                                          0   \n",
       "4                                          0   \n",
       "\n",
       "   finding_1_(BD-07) Chafer Edge Separation  \n",
       "0                                         0  \n",
       "1                                         0  \n",
       "2                                         0  \n",
       "3                                         0  \n",
       "4                                         0  \n",
       "\n",
       "[5 rows x 104 columns]"
      ]
     },
     "execution_count": 4,
     "metadata": {},
     "output_type": "execute_result"
    }
   ],
   "source": [
    "df.head()"
   ]
  },
  {
   "cell_type": "code",
   "execution_count": 5,
   "metadata": {},
   "outputs": [
    {
     "data": {
      "text/html": [
       "<div>\n",
       "<style scoped>\n",
       "    .dataframe tbody tr th:only-of-type {\n",
       "        vertical-align: middle;\n",
       "    }\n",
       "\n",
       "    .dataframe tbody tr th {\n",
       "        vertical-align: top;\n",
       "    }\n",
       "\n",
       "    .dataframe thead th {\n",
       "        text-align: right;\n",
       "    }\n",
       "</style>\n",
       "<table border=\"1\" class=\"dataframe\">\n",
       "  <thead>\n",
       "    <tr style=\"text-align: right;\">\n",
       "      <th></th>\n",
       "      <th>mileage</th>\n",
       "      <th>date</th>\n",
       "      <th>tacho</th>\n",
       "      <th>td_min</th>\n",
       "      <th>td_mean</th>\n",
       "      <th>wheelposition</th>\n",
       "      <th>rimtype</th>\n",
       "      <th>tisize_rim</th>\n",
       "      <th>tisize_width</th>\n",
       "      <th>tisize_radial</th>\n",
       "      <th>...</th>\n",
       "      <th>finding_1_(BD-06) Broken Bead</th>\n",
       "      <th>finding_1_(TR-13) Open Splice</th>\n",
       "      <th>finding_1_(TR-14) Tread Leaving Belt</th>\n",
       "      <th>finding_1_(TR-10) Worn Too Far</th>\n",
       "      <th>finding_1_(BD-03) Deformed Bead</th>\n",
       "      <th>finding_1_(TR-15) Belt Leaving Belt</th>\n",
       "      <th>finding_1_(IN-03) Circumferential Cracking</th>\n",
       "      <th>finding_1_(IN-02) Diagonal Cracking</th>\n",
       "      <th>finding_1_(IN-05) Damaged (Foreign Object)</th>\n",
       "      <th>finding_1_(BD-07) Chafer Edge Separation</th>\n",
       "    </tr>\n",
       "  </thead>\n",
       "  <tbody>\n",
       "    <tr>\n",
       "      <th>0</th>\n",
       "      <td>0.0</td>\n",
       "      <td>7/1/2010</td>\n",
       "      <td>NaN</td>\n",
       "      <td>15.0</td>\n",
       "      <td>15.24000</td>\n",
       "      <td>NaN</td>\n",
       "      <td>Steel</td>\n",
       "      <td>22.5</td>\n",
       "      <td>315.0</td>\n",
       "      <td>R</td>\n",
       "      <td>...</td>\n",
       "      <td>0</td>\n",
       "      <td>0</td>\n",
       "      <td>0</td>\n",
       "      <td>0</td>\n",
       "      <td>0</td>\n",
       "      <td>0</td>\n",
       "      <td>0</td>\n",
       "      <td>0</td>\n",
       "      <td>0</td>\n",
       "      <td>0</td>\n",
       "    </tr>\n",
       "    <tr>\n",
       "      <th>1</th>\n",
       "      <td>16937.0</td>\n",
       "      <td>1/9/2011</td>\n",
       "      <td>697268.0</td>\n",
       "      <td>13.7</td>\n",
       "      <td>NaN</td>\n",
       "      <td>NaN</td>\n",
       "      <td>Steel</td>\n",
       "      <td>22.5</td>\n",
       "      <td>315.0</td>\n",
       "      <td>R</td>\n",
       "      <td>...</td>\n",
       "      <td>0</td>\n",
       "      <td>0</td>\n",
       "      <td>0</td>\n",
       "      <td>0</td>\n",
       "      <td>0</td>\n",
       "      <td>0</td>\n",
       "      <td>0</td>\n",
       "      <td>0</td>\n",
       "      <td>0</td>\n",
       "      <td>0</td>\n",
       "    </tr>\n",
       "    <tr>\n",
       "      <th>2</th>\n",
       "      <td>NaN</td>\n",
       "      <td>3/27/2011</td>\n",
       "      <td>NaN</td>\n",
       "      <td>12.8</td>\n",
       "      <td>13.20000</td>\n",
       "      <td>NaN</td>\n",
       "      <td>Steel</td>\n",
       "      <td>22.5</td>\n",
       "      <td>315.0</td>\n",
       "      <td>R</td>\n",
       "      <td>...</td>\n",
       "      <td>0</td>\n",
       "      <td>0</td>\n",
       "      <td>0</td>\n",
       "      <td>0</td>\n",
       "      <td>0</td>\n",
       "      <td>0</td>\n",
       "      <td>0</td>\n",
       "      <td>0</td>\n",
       "      <td>0</td>\n",
       "      <td>0</td>\n",
       "    </tr>\n",
       "    <tr>\n",
       "      <th>3</th>\n",
       "      <td>78229.0</td>\n",
       "      <td>7/10/2011</td>\n",
       "      <td>NaN</td>\n",
       "      <td>11.3</td>\n",
       "      <td>11.69500</td>\n",
       "      <td>NaN</td>\n",
       "      <td>Steel</td>\n",
       "      <td>22.5</td>\n",
       "      <td>315.0</td>\n",
       "      <td>R</td>\n",
       "      <td>...</td>\n",
       "      <td>0</td>\n",
       "      <td>0</td>\n",
       "      <td>0</td>\n",
       "      <td>0</td>\n",
       "      <td>0</td>\n",
       "      <td>0</td>\n",
       "      <td>0</td>\n",
       "      <td>0</td>\n",
       "      <td>0</td>\n",
       "      <td>0</td>\n",
       "    </tr>\n",
       "    <tr>\n",
       "      <th>4</th>\n",
       "      <td>104422.0</td>\n",
       "      <td>9/21/2011</td>\n",
       "      <td>784753.0</td>\n",
       "      <td>10.3</td>\n",
       "      <td>10.66875</td>\n",
       "      <td>NaN</td>\n",
       "      <td>NaN</td>\n",
       "      <td>22.5</td>\n",
       "      <td>315.0</td>\n",
       "      <td>R</td>\n",
       "      <td>...</td>\n",
       "      <td>0</td>\n",
       "      <td>0</td>\n",
       "      <td>0</td>\n",
       "      <td>0</td>\n",
       "      <td>0</td>\n",
       "      <td>0</td>\n",
       "      <td>0</td>\n",
       "      <td>0</td>\n",
       "      <td>0</td>\n",
       "      <td>0</td>\n",
       "    </tr>\n",
       "  </tbody>\n",
       "</table>\n",
       "<p>5 rows × 100 columns</p>\n",
       "</div>"
      ],
      "text/plain": [
       "    mileage       date     tacho  td_min   td_mean wheelposition rimtype  \\\n",
       "0       0.0   7/1/2010       NaN    15.0  15.24000           NaN   Steel   \n",
       "1   16937.0   1/9/2011  697268.0    13.7       NaN           NaN   Steel   \n",
       "2       NaN  3/27/2011       NaN    12.8  13.20000           NaN   Steel   \n",
       "3   78229.0  7/10/2011       NaN    11.3  11.69500           NaN   Steel   \n",
       "4  104422.0  9/21/2011  784753.0    10.3  10.66875           NaN     NaN   \n",
       "\n",
       "   tisize_rim  tisize_width tisize_radial  \\\n",
       "0        22.5         315.0             R   \n",
       "1        22.5         315.0             R   \n",
       "2        22.5         315.0             R   \n",
       "3        22.5         315.0             R   \n",
       "4        22.5         315.0             R   \n",
       "\n",
       "                    ...                     finding_1_(BD-06) Broken Bead  \\\n",
       "0                   ...                                                 0   \n",
       "1                   ...                                                 0   \n",
       "2                   ...                                                 0   \n",
       "3                   ...                                                 0   \n",
       "4                   ...                                                 0   \n",
       "\n",
       "   finding_1_(TR-13) Open Splice finding_1_(TR-14) Tread Leaving Belt  \\\n",
       "0                              0                                    0   \n",
       "1                              0                                    0   \n",
       "2                              0                                    0   \n",
       "3                              0                                    0   \n",
       "4                              0                                    0   \n",
       "\n",
       "  finding_1_(TR-10) Worn Too Far finding_1_(BD-03) Deformed Bead  \\\n",
       "0                              0                               0   \n",
       "1                              0                               0   \n",
       "2                              0                               0   \n",
       "3                              0                               0   \n",
       "4                              0                               0   \n",
       "\n",
       "   finding_1_(TR-15) Belt Leaving Belt  \\\n",
       "0                                    0   \n",
       "1                                    0   \n",
       "2                                    0   \n",
       "3                                    0   \n",
       "4                                    0   \n",
       "\n",
       "   finding_1_(IN-03) Circumferential Cracking  \\\n",
       "0                                           0   \n",
       "1                                           0   \n",
       "2                                           0   \n",
       "3                                           0   \n",
       "4                                           0   \n",
       "\n",
       "   finding_1_(IN-02) Diagonal Cracking  \\\n",
       "0                                    0   \n",
       "1                                    0   \n",
       "2                                    0   \n",
       "3                                    0   \n",
       "4                                    0   \n",
       "\n",
       "   finding_1_(IN-05) Damaged (Foreign Object)  \\\n",
       "0                                           0   \n",
       "1                                           0   \n",
       "2                                           0   \n",
       "3                                           0   \n",
       "4                                           0   \n",
       "\n",
       "  finding_1_(BD-07) Chafer Edge Separation  \n",
       "0                                        0  \n",
       "1                                        0  \n",
       "2                                        0  \n",
       "3                                        0  \n",
       "4                                        0  \n",
       "\n",
       "[5 rows x 100 columns]"
      ]
     },
     "execution_count": 5,
     "metadata": {},
     "output_type": "execute_result"
    }
   ],
   "source": [
    "df = df.drop(['unique_titd', 'tire.country_fk', 'section.section_fk',\n",
    "       'tiregroup.testplan_fk'],axis=1)\n",
    "df.head()"
   ]
  },
  {
   "cell_type": "code",
   "execution_count": 6,
   "metadata": {},
   "outputs": [
    {
     "data": {
      "text/plain": [
       "Index(['mileage', 'date', 'tacho', 'td_min', 'td_mean', 'wheelposition',\n",
       "       'rimtype', 'tisize_rim', 'tisize_width', 'tisize_radial',\n",
       "       'tisize_ratio', 'numspikes_na', 'finding', 'reason', 'wheelposition_1',\n",
       "       'mileage_1', 'tacho_1', 'td_min_1', 'td_mean_1', 'rimtype_1',\n",
       "       'tisize_rim_1', 'tisize_width_1', 'tisize_radial_1', 'tisize_ratio_1',\n",
       "       'numspikes_na_1', 'finding_1', 'td_min_b', 'td_mean_b',\n",
       "       'finding_1_test finished', 'finding_1_due to IW',\n",
       "       'finding_1_sidewall finding', 'finding_1_cancelled',\n",
       "       'finding_1_as a partner',\n",
       "       'finding_1_Due to mechanical vehicle problems', 'finding_1_tire lost',\n",
       "       'finding_1_worn', 'finding_1_tread damage',\n",
       "       'finding_1_innerliner damage',\n",
       "       'finding_1_worn (from the customers point of view)',\n",
       "       'finding_1_as set/axle worn', 'finding_1_sidewall damage',\n",
       "       'finding_1_tread endurance', 'finding_1_bead finding',\n",
       "       'finding_1_belt finding', 'finding_1_unknown',\n",
       "       'finding_1_due to vibration', 'finding_1_bead damage',\n",
       "       'finding_1_reason unknown, tire must be analyzed',\n",
       "       'finding_1_innerliner finding',\n",
       "       'finding_1_due to the time of the year (autumn, winter)',\n",
       "       'finding_1_tire damaged, reason unknown',\n",
       "       'finding_1_tread finding (chipping and chunking/mini cuts)',\n",
       "       'finding_1_due to handling', 'finding_1_belt damage',\n",
       "       'finding_1_incorrect result', 'finding_1_body ply finding',\n",
       "       'finding_1_Vehicle sold',\n",
       "       'finding_1_due to the time of the year (spring)',\n",
       "       'finding_1_Sidewall worn (city bus w/ indicator)',\n",
       "       'finding_1_(IN-08) Strained carcass cords', 'finding_1_(TR-03) Crack',\n",
       "       'finding_1_(IN-06) Damaged (Underinflation)',\n",
       "       'finding_1_(TR-04) Chipping/Chunking',\n",
       "       'finding_1_(SW-01) Puncture/Cut(To Interior)',\n",
       "       'finding_1_(TR-09) Irregular Wear', 'finding_1_(TR-11) Worn Out',\n",
       "       'finding_1_(GN-08) Tire Destroyed',\n",
       "       'finding_1_(SW-02) Puncture/Cut(Not To Interior)',\n",
       "       'finding_1_(SW-12) Bulge/Blister',\n",
       "       'finding_1_(TR-01) Puncture/Cut (To Interior)',\n",
       "       'finding_1_(SH-07) Belt Edge Separation',\n",
       "       'finding_1_(BD-04) Burned Bead', 'finding_1_(TR-12) Rib/Lug Tearing',\n",
       "       'finding_1_(TR-07) Spin Cut Damage', 'finding_1_(TR-06) Impact Break',\n",
       "       'finding_1_(TR-02) Puncture/Cut (Not To Interior)',\n",
       "       'finding_1_(SW-03) Impact Break',\n",
       "       'finding_1_(BD-12) Other (Explain In Comments)',\n",
       "       'finding_1_(TR-17) Other (Explain in comments)',\n",
       "       'finding_1_(SH-02) Puncture/Cut(Not To Interior)',\n",
       "       'finding_1_(GN-10) Other (Explain in comments)',\n",
       "       'finding_1_(BD-02) Mount/Dismount Damage',\n",
       "       'finding_1_(SH-08) Other (Explain In Comments)',\n",
       "       'finding_1_(SW-14) Cut Separation',\n",
       "       'finding_1_(SW-09) Cord Fatigue/Zipper',\n",
       "       'finding_1_(IN-09) Separation (From Innerliner)',\n",
       "       'finding_1_(SH-01) Puncture/Cut(To Interior)',\n",
       "       'finding_1_(SW-05) Runflat Damage', 'finding_1_(GN-09) Flat Spot',\n",
       "       'finding_1_(SW-13) Separation', 'finding_1_(BD-06) Broken Bead',\n",
       "       'finding_1_(TR-13) Open Splice', 'finding_1_(TR-14) Tread Leaving Belt',\n",
       "       'finding_1_(TR-10) Worn Too Far', 'finding_1_(BD-03) Deformed Bead',\n",
       "       'finding_1_(TR-15) Belt Leaving Belt',\n",
       "       'finding_1_(IN-03) Circumferential Cracking',\n",
       "       'finding_1_(IN-02) Diagonal Cracking',\n",
       "       'finding_1_(IN-05) Damaged (Foreign Object)',\n",
       "       'finding_1_(BD-07) Chafer Edge Separation'],\n",
       "      dtype='object')"
      ]
     },
     "execution_count": 6,
     "metadata": {},
     "output_type": "execute_result"
    }
   ],
   "source": [
    "df.columns"
   ]
  },
  {
   "cell_type": "code",
   "execution_count": 7,
   "metadata": {},
   "outputs": [],
   "source": [
    "train_cols = [\n",
    "       'mileage_1', 'tacho_1', 'td_min_1', 'td_mean_1',\n",
    "       'tisize_rim_1', 'tisize_width_1', 'tisize_ratio_1',\n",
    "       'numspikes_na_1', 'td_min_b', 'td_mean_b',\n",
    "       'finding_1_test finished', 'finding_1_due to IW',\n",
    "       'finding_1_sidewall finding', 'finding_1_cancelled',\n",
    "       'finding_1_as a partner',\n",
    "       'finding_1_Due to mechanical vehicle problems', 'finding_1_tire lost',\n",
    "       'finding_1_worn', 'finding_1_tread damage',\n",
    "       'finding_1_innerliner damage',\n",
    "       'finding_1_worn (from the customers point of view)',\n",
    "       'finding_1_as set/axle worn', 'finding_1_sidewall damage',\n",
    "       'finding_1_tread endurance', 'finding_1_bead finding',\n",
    "       'finding_1_belt finding', 'finding_1_unknown',\n",
    "       'finding_1_due to vibration', 'finding_1_bead damage',\n",
    "       'finding_1_reason unknown, tire must be analyzed',\n",
    "       'finding_1_innerliner finding',\n",
    "       'finding_1_due to the time of the year (autumn, winter)',\n",
    "       'finding_1_tire damaged, reason unknown',\n",
    "       'finding_1_tread finding (chipping and chunking/mini cuts)',\n",
    "       'finding_1_due to handling', 'finding_1_belt damage',\n",
    "       'finding_1_incorrect result', 'finding_1_body ply finding',\n",
    "       'finding_1_Vehicle sold',\n",
    "       'finding_1_due to the time of the year (spring)',\n",
    "       'finding_1_Sidewall worn (city bus w/ indicator)',\n",
    "       'finding_1_(IN-08) Strained carcass cords', 'finding_1_(TR-03) Crack',\n",
    "       'finding_1_(IN-06) Damaged (Underinflation)',\n",
    "       'finding_1_(TR-04) Chipping/Chunking',\n",
    "       'finding_1_(SW-01) Puncture/Cut(To Interior)',\n",
    "       'finding_1_(TR-09) Irregular Wear', 'finding_1_(TR-11) Worn Out',\n",
    "       'finding_1_(GN-08) Tire Destroyed',\n",
    "       'finding_1_(SW-02) Puncture/Cut(Not To Interior)',\n",
    "       'finding_1_(SW-12) Bulge/Blister',\n",
    "       'finding_1_(TR-01) Puncture/Cut (To Interior)',\n",
    "       'finding_1_(SH-07) Belt Edge Separation',\n",
    "       'finding_1_(BD-04) Burned Bead', 'finding_1_(TR-12) Rib/Lug Tearing',\n",
    "       'finding_1_(TR-07) Spin Cut Damage', 'finding_1_(TR-06) Impact Break',\n",
    "       'finding_1_(TR-02) Puncture/Cut (Not To Interior)',\n",
    "       'finding_1_(SW-03) Impact Break',\n",
    "       'finding_1_(BD-12) Other (Explain In Comments)',\n",
    "       'finding_1_(TR-17) Other (Explain in comments)',\n",
    "       'finding_1_(SH-02) Puncture/Cut(Not To Interior)',\n",
    "       'finding_1_(GN-10) Other (Explain in comments)',\n",
    "       'finding_1_(BD-02) Mount/Dismount Damage',\n",
    "       'finding_1_(SH-08) Other (Explain In Comments)',\n",
    "       'finding_1_(SW-14) Cut Separation',\n",
    "       'finding_1_(SW-09) Cord Fatigue/Zipper',\n",
    "       'finding_1_(IN-09) Separation (From Innerliner)',\n",
    "       'finding_1_(SH-01) Puncture/Cut(To Interior)',\n",
    "       'finding_1_(SW-05) Runflat Damage', 'finding_1_(GN-09) Flat Spot',\n",
    "       'finding_1_(SW-13) Separation', 'finding_1_(BD-06) Broken Bead',\n",
    "       'finding_1_(TR-13) Open Splice', 'finding_1_(TR-14) Tread Leaving Belt',\n",
    "       'finding_1_(TR-10) Worn Too Far', 'finding_1_(BD-03) Deformed Bead',\n",
    "       'finding_1_(TR-15) Belt Leaving Belt',\n",
    "       'finding_1_(IN-03) Circumferential Cracking',\n",
    "       'finding_1_(IN-02) Diagonal Cracking',\n",
    "       'finding_1_(IN-05) Damaged (Foreign Object)',\n",
    "       'finding_1_(BD-07) Chafer Edge Separation','td_min_b']\n",
    "\n",
    "#'tisize_radial_1'\n",
    "#'rimtype_1'\n",
    "#'wheelposition_1'\n",
    "data= df[train_cols]\n",
    "labels = df['td_min_b']"
   ]
  },
  {
   "cell_type": "code",
   "execution_count": 8,
   "metadata": {},
   "outputs": [
    {
     "data": {
      "text/plain": [
       "83"
      ]
     },
     "execution_count": 8,
     "metadata": {},
     "output_type": "execute_result"
    }
   ],
   "source": [
    "len(data.columns)\n",
    "# labels.head()"
   ]
  },
  {
   "cell_type": "code",
   "execution_count": 9,
   "metadata": {},
   "outputs": [],
   "source": [
    "# logit = sm.Logit(labels,data)"
   ]
  },
  {
   "cell_type": "code",
   "execution_count": 10,
   "metadata": {},
   "outputs": [],
   "source": [
    "# result = logit.fit()"
   ]
  },
  {
   "cell_type": "code",
   "execution_count": 11,
   "metadata": {},
   "outputs": [],
   "source": [
    "from sklearn.linear_model import LogisticRegression\n",
    "from sklearn.model_selection import train_test_split"
   ]
  },
  {
   "cell_type": "code",
   "execution_count": 12,
   "metadata": {},
   "outputs": [],
   "source": [
    "X_train, X_test, y_train, y_test = train_test_split(data, labels, test_size=0.3, random_state=0)\n",
    "# X_train = concat_bias(X_train)\n",
    "\n",
    "X_train.to_csv('train_data.csv',index=False)\n",
    "# y_train.to_csv('train_labels.csv',index=False)"
   ]
  },
  {
   "cell_type": "code",
   "execution_count": 18,
   "metadata": {},
   "outputs": [
    {
     "data": {
      "text/plain": [
       "['target']"
      ]
     },
     "execution_count": 18,
     "metadata": {},
     "output_type": "execute_result"
    }
   ],
   "source": [
    "y_train.columns = ['target']\n",
    "y_train.columns"
   ]
  },
  {
   "cell_type": "code",
   "execution_count": 114,
   "metadata": {},
   "outputs": [],
   "source": [
    "from sklearn.linear_model import LogisticRegression\n",
    "logreg = LogisticRegression()"
   ]
  },
  {
   "cell_type": "code",
   "execution_count": 19,
   "metadata": {},
   "outputs": [
    {
     "data": {
      "text/html": [
       "<div>\n",
       "<style scoped>\n",
       "    .dataframe tbody tr th:only-of-type {\n",
       "        vertical-align: middle;\n",
       "    }\n",
       "\n",
       "    .dataframe tbody tr th {\n",
       "        vertical-align: top;\n",
       "    }\n",
       "\n",
       "    .dataframe thead th {\n",
       "        text-align: right;\n",
       "    }\n",
       "</style>\n",
       "<table border=\"1\" class=\"dataframe\">\n",
       "  <thead>\n",
       "    <tr style=\"text-align: right;\">\n",
       "      <th></th>\n",
       "      <th>bias</th>\n",
       "      <th>mileage_1</th>\n",
       "      <th>tacho_1</th>\n",
       "      <th>td_min_1</th>\n",
       "      <th>td_mean_1</th>\n",
       "      <th>tisize_rim_1</th>\n",
       "      <th>tisize_width_1</th>\n",
       "      <th>tisize_ratio_1</th>\n",
       "      <th>numspikes_na_1</th>\n",
       "      <th>td_min_b</th>\n",
       "      <th>...</th>\n",
       "      <th>finding_1_(BD-06) Broken Bead</th>\n",
       "      <th>finding_1_(TR-13) Open Splice</th>\n",
       "      <th>finding_1_(TR-14) Tread Leaving Belt</th>\n",
       "      <th>finding_1_(TR-10) Worn Too Far</th>\n",
       "      <th>finding_1_(BD-03) Deformed Bead</th>\n",
       "      <th>finding_1_(TR-15) Belt Leaving Belt</th>\n",
       "      <th>finding_1_(IN-03) Circumferential Cracking</th>\n",
       "      <th>finding_1_(IN-02) Diagonal Cracking</th>\n",
       "      <th>finding_1_(IN-05) Damaged (Foreign Object)</th>\n",
       "      <th>finding_1_(BD-07) Chafer Edge Separation</th>\n",
       "    </tr>\n",
       "  </thead>\n",
       "  <tbody>\n",
       "    <tr>\n",
       "      <th>622678</th>\n",
       "      <td>1.0</td>\n",
       "      <td>0.0</td>\n",
       "      <td>228741.0</td>\n",
       "      <td>13.7267</td>\n",
       "      <td>13.868350</td>\n",
       "      <td>22.5</td>\n",
       "      <td>295.00</td>\n",
       "      <td>80</td>\n",
       "      <td>1</td>\n",
       "      <td>0</td>\n",
       "      <td>...</td>\n",
       "      <td>0</td>\n",
       "      <td>0</td>\n",
       "      <td>0</td>\n",
       "      <td>0</td>\n",
       "      <td>0</td>\n",
       "      <td>0</td>\n",
       "      <td>0</td>\n",
       "      <td>0</td>\n",
       "      <td>0</td>\n",
       "      <td>0</td>\n",
       "    </tr>\n",
       "    <tr>\n",
       "      <th>92106</th>\n",
       "      <td>1.0</td>\n",
       "      <td>160331.0</td>\n",
       "      <td>547891.0</td>\n",
       "      <td>7.7000</td>\n",
       "      <td>9.030400</td>\n",
       "      <td>22.5</td>\n",
       "      <td>295.00</td>\n",
       "      <td>80</td>\n",
       "      <td>1</td>\n",
       "      <td>0</td>\n",
       "      <td>...</td>\n",
       "      <td>0</td>\n",
       "      <td>0</td>\n",
       "      <td>0</td>\n",
       "      <td>0</td>\n",
       "      <td>0</td>\n",
       "      <td>0</td>\n",
       "      <td>0</td>\n",
       "      <td>0</td>\n",
       "      <td>0</td>\n",
       "      <td>0</td>\n",
       "    </tr>\n",
       "    <tr>\n",
       "      <th>7276</th>\n",
       "      <td>1.0</td>\n",
       "      <td>15738.0</td>\n",
       "      <td>107129.0</td>\n",
       "      <td>4.6300</td>\n",
       "      <td>5.430833</td>\n",
       "      <td>16.0</td>\n",
       "      <td>205.00</td>\n",
       "      <td>55</td>\n",
       "      <td>1</td>\n",
       "      <td>0</td>\n",
       "      <td>...</td>\n",
       "      <td>0</td>\n",
       "      <td>0</td>\n",
       "      <td>0</td>\n",
       "      <td>0</td>\n",
       "      <td>0</td>\n",
       "      <td>0</td>\n",
       "      <td>0</td>\n",
       "      <td>0</td>\n",
       "      <td>0</td>\n",
       "      <td>0</td>\n",
       "    </tr>\n",
       "    <tr>\n",
       "      <th>675049</th>\n",
       "      <td>1.0</td>\n",
       "      <td>0.0</td>\n",
       "      <td>228741.0</td>\n",
       "      <td>8.5000</td>\n",
       "      <td>104.780000</td>\n",
       "      <td>29.0</td>\n",
       "      <td>722.75</td>\n",
       "      <td>100</td>\n",
       "      <td>1</td>\n",
       "      <td>0</td>\n",
       "      <td>...</td>\n",
       "      <td>0</td>\n",
       "      <td>0</td>\n",
       "      <td>0</td>\n",
       "      <td>0</td>\n",
       "      <td>0</td>\n",
       "      <td>0</td>\n",
       "      <td>0</td>\n",
       "      <td>0</td>\n",
       "      <td>0</td>\n",
       "      <td>0</td>\n",
       "    </tr>\n",
       "    <tr>\n",
       "      <th>613216</th>\n",
       "      <td>1.0</td>\n",
       "      <td>5763.0</td>\n",
       "      <td>28191.0</td>\n",
       "      <td>7.2700</td>\n",
       "      <td>7.578000</td>\n",
       "      <td>16.0</td>\n",
       "      <td>205.00</td>\n",
       "      <td>55</td>\n",
       "      <td>1</td>\n",
       "      <td>0</td>\n",
       "      <td>...</td>\n",
       "      <td>0</td>\n",
       "      <td>0</td>\n",
       "      <td>0</td>\n",
       "      <td>0</td>\n",
       "      <td>0</td>\n",
       "      <td>0</td>\n",
       "      <td>0</td>\n",
       "      <td>0</td>\n",
       "      <td>0</td>\n",
       "      <td>0</td>\n",
       "    </tr>\n",
       "  </tbody>\n",
       "</table>\n",
       "<p>5 rows × 83 columns</p>\n",
       "</div>"
      ],
      "text/plain": [
       "        bias  mileage_1   tacho_1  td_min_1   td_mean_1  tisize_rim_1  \\\n",
       "622678   1.0        0.0  228741.0   13.7267   13.868350          22.5   \n",
       "92106    1.0   160331.0  547891.0    7.7000    9.030400          22.5   \n",
       "7276     1.0    15738.0  107129.0    4.6300    5.430833          16.0   \n",
       "675049   1.0        0.0  228741.0    8.5000  104.780000          29.0   \n",
       "613216   1.0     5763.0   28191.0    7.2700    7.578000          16.0   \n",
       "\n",
       "        tisize_width_1  tisize_ratio_1  numspikes_na_1  td_min_b  \\\n",
       "622678          295.00              80               1         0   \n",
       "92106           295.00              80               1         0   \n",
       "7276            205.00              55               1         0   \n",
       "675049          722.75             100               1         0   \n",
       "613216          205.00              55               1         0   \n",
       "\n",
       "                          ...                     \\\n",
       "622678                    ...                      \n",
       "92106                     ...                      \n",
       "7276                      ...                      \n",
       "675049                    ...                      \n",
       "613216                    ...                      \n",
       "\n",
       "        finding_1_(BD-06) Broken Bead  finding_1_(TR-13) Open Splice  \\\n",
       "622678                              0                              0   \n",
       "92106                               0                              0   \n",
       "7276                                0                              0   \n",
       "675049                              0                              0   \n",
       "613216                              0                              0   \n",
       "\n",
       "        finding_1_(TR-14) Tread Leaving Belt  finding_1_(TR-10) Worn Too Far  \\\n",
       "622678                                     0                               0   \n",
       "92106                                      0                               0   \n",
       "7276                                       0                               0   \n",
       "675049                                     0                               0   \n",
       "613216                                     0                               0   \n",
       "\n",
       "        finding_1_(BD-03) Deformed Bead  finding_1_(TR-15) Belt Leaving Belt  \\\n",
       "622678                                0                                    0   \n",
       "92106                                 0                                    0   \n",
       "7276                                  0                                    0   \n",
       "675049                                0                                    0   \n",
       "613216                                0                                    0   \n",
       "\n",
       "        finding_1_(IN-03) Circumferential Cracking  \\\n",
       "622678                                           0   \n",
       "92106                                            0   \n",
       "7276                                             0   \n",
       "675049                                           0   \n",
       "613216                                           0   \n",
       "\n",
       "        finding_1_(IN-02) Diagonal Cracking  \\\n",
       "622678                                    0   \n",
       "92106                                     0   \n",
       "7276                                      0   \n",
       "675049                                    0   \n",
       "613216                                    0   \n",
       "\n",
       "        finding_1_(IN-05) Damaged (Foreign Object)  \\\n",
       "622678                                           0   \n",
       "92106                                            0   \n",
       "7276                                             0   \n",
       "675049                                           0   \n",
       "613216                                           0   \n",
       "\n",
       "        finding_1_(BD-07) Chafer Edge Separation  \n",
       "622678                                         0  \n",
       "92106                                          0  \n",
       "7276                                           0  \n",
       "675049                                         0  \n",
       "613216                                         0  \n",
       "\n",
       "[5 rows x 83 columns]"
      ]
     },
     "execution_count": 19,
     "metadata": {},
     "output_type": "execute_result"
    }
   ],
   "source": [
    "X_train.head()"
   ]
  },
  {
   "cell_type": "code",
   "execution_count": 115,
   "metadata": {},
   "outputs": [
    {
     "data": {
      "text/plain": [
       "LogisticRegression(C=1.0, class_weight=None, dual=False, fit_intercept=True,\n",
       "          intercept_scaling=1, max_iter=100, multi_class='ovr', n_jobs=1,\n",
       "          penalty='l2', random_state=None, solver='liblinear', tol=0.0001,\n",
       "          verbose=0, warm_start=False)"
      ]
     },
     "execution_count": 115,
     "metadata": {},
     "output_type": "execute_result"
    }
   ],
   "source": [
    "logreg.fit(X_train,y_train)"
   ]
  },
  {
   "cell_type": "code",
   "execution_count": 116,
   "metadata": {},
   "outputs": [
    {
     "data": {
      "text/plain": [
       "(1, 83)"
      ]
     },
     "execution_count": 116,
     "metadata": {},
     "output_type": "execute_result"
    }
   ],
   "source": [
    "np.exp(logreg.coef_).shape"
   ]
  },
  {
   "cell_type": "code",
   "execution_count": 117,
   "metadata": {},
   "outputs": [
    {
     "data": {
      "text/plain": [
       "array([[0.99987305, 1.00000709, 0.99999954, 0.99350557, 0.99622581,\n",
       "        0.99855059, 0.98886608, 0.99284303, 0.99994482, 1.00075204,\n",
       "        1.00007383, 0.99980117, 1.0000259 , 0.99999578, 1.00002894,\n",
       "        0.99998094, 1.00000324, 0.99999541, 1.00009578, 0.99999177,\n",
       "        0.99999927, 0.9999939 , 0.99999187, 0.99999351, 0.99999176,\n",
       "        0.99999841, 1.00000003, 0.99999873, 0.9999995 , 0.99999978,\n",
       "        0.99999969, 0.99999673, 1.00000158, 0.9999995 , 0.9999968 ,\n",
       "        0.99999884, 0.99999972, 1.00000053, 0.99999991, 0.99999657,\n",
       "        0.99999703, 0.99999941, 0.99999998, 1.        , 1.        ,\n",
       "        1.        , 1.00000003, 0.99999997, 1.00000154, 0.99999999,\n",
       "        1.        , 1.        , 0.9999998 , 1.        , 1.        ,\n",
       "        0.99999997, 1.        , 1.        , 0.99999996, 0.99999998,\n",
       "        0.99999997, 0.99999988, 1.        , 1.        , 1.        ,\n",
       "        1.        , 1.        , 1.        , 1.        , 1.        ,\n",
       "        1.        , 1.        , 1.        , 1.        , 1.        ,\n",
       "        1.        , 1.00000005, 1.        , 1.        , 1.        ,\n",
       "        1.        , 1.        , 1.        ]])"
      ]
     },
     "execution_count": 117,
     "metadata": {},
     "output_type": "execute_result"
    }
   ],
   "source": [
    "np.exp(logreg.coef_)"
   ]
  },
  {
   "cell_type": "code",
   "execution_count": 70,
   "metadata": {},
   "outputs": [],
   "source": [
    "y_pred = logreg.predict(X_test)"
   ]
  },
  {
   "cell_type": "code",
   "execution_count": 79,
   "metadata": {},
   "outputs": [
    {
     "data": {
      "text/plain": [
       "0.9665667449836615"
      ]
     },
     "execution_count": 79,
     "metadata": {},
     "output_type": "execute_result"
    }
   ],
   "source": [
    "from sklearn.metrics import accuracy_score\n",
    "accuracy_score(y_test, y_pred)"
   ]
  },
  {
   "cell_type": "code",
   "execution_count": 77,
   "metadata": {},
   "outputs": [
    {
     "name": "stdout",
     "output_type": "stream",
     "text": [
      "Average precision-recall score: 0.03\n"
     ]
    }
   ],
   "source": [
    "from sklearn.metrics import average_precision_score\n",
    "# from sklearn.metrics import average_recall_score\n",
    "average_precision = average_precision_score(y_test, y_pred)\n",
    "# average_recall = average_recall_score(y_test, y_pred)\n",
    "\n",
    "print('Average precision-recall score: {0:0.2f}'.format(\n",
    "      average_precision))\n",
    "\n"
   ]
  },
  {
   "cell_type": "code",
   "execution_count": 75,
   "metadata": {},
   "outputs": [
    {
     "data": {
      "text/plain": [
       "Text(0.5,1,'2-class Precision-Recall curve: AP=0.08')"
      ]
     },
     "execution_count": 75,
     "metadata": {},
     "output_type": "execute_result"
    },
    {
     "data": {
      "image/png": "[encoded data removed]",
      "text/plain": [
       "<matplotlib.figure.Figure at 0x1ce7ebda20>"
      ]
     },
     "metadata": {},
     "output_type": "display_data"
    }
   ],
   "source": [
    "from sklearn.metrics import precision_recall_curve\n",
    "import matplotlib.pyplot as plt\n",
    "from sklearn.utils.fixes import signature\n",
    "\n",
    "precision, recall, _ = precision_recall_curve(y_test, y_pred)\n",
    "\n",
    "# In matplotlib < 1.5, plt.fill_between does not have a 'step' argument\n",
    "step_kwargs = ({'step': 'post'}\n",
    "               if 'step' in signature(plt.fill_between).parameters\n",
    "               else {})\n",
    "plt.step(recall, precision, color='b', alpha=0.2,\n",
    "         where='post')\n",
    "plt.fill_between(recall, precision, alpha=0.2, color='b', **step_kwargs)\n",
    "\n",
    "plt.xlabel('Recall')\n",
    "plt.ylabel('Precision')\n",
    "plt.ylim([0.0, 1.05])\n",
    "plt.xlim([0.0, 1.0])\n",
    "plt.title('2-class Precision-Recall curve: AP={0:0.2f}'.format(\n",
    "          average_precision))"
   ]
  },
  {
   "cell_type": "code",
   "execution_count": 74,
   "metadata": {},
   "outputs": [
    {
     "data": {
      "text/plain": [
       "array([[214744,     63],\n",
       "       [  7365,      2]])"
      ]
     },
     "execution_count": 74,
     "metadata": {},
     "output_type": "execute_result"
    }
   ],
   "source": [
    "from sklearn.metrics import confusion_matrix\n",
    "\n",
    "confusion_matrix(y_test, y_pred)"
   ]
  },
  {
   "cell_type": "code",
   "execution_count": 84,
   "metadata": {},
   "outputs": [
    {
     "ename": "TypeError",
     "evalue": "only integer scalar arrays can be converted to a scalar index",
     "output_type": "error",
     "traceback": [
      "\u001b[0;31m---------------------------------------------------------------------------\u001b[0m",
      "\u001b[0;31mTypeError\u001b[0m                                 Traceback (most recent call last)",
      "\u001b[0;32m<ipython-input-84-6e128ff26143>\u001b[0m in \u001b[0;36m<module>\u001b[0;34m()\u001b[0m\n\u001b[1;32m     59\u001b[0m \u001b[0;31m# Plot non-normalized confusion matrix\u001b[0m\u001b[0;34m\u001b[0m\u001b[0;34m\u001b[0m\u001b[0m\n\u001b[1;32m     60\u001b[0m plot_confusion_matrix(y_test, y_pred, classes=[0,1],\n\u001b[0;32m---> 61\u001b[0;31m                       title='Confusion matrix, without normalization')\n\u001b[0m",
      "\u001b[0;32m<ipython-input-84-6e128ff26143>\u001b[0m in \u001b[0;36mplot_confusion_matrix\u001b[0;34m(y_true, y_pred, classes, normalize, title, cmap)\u001b[0m\n\u001b[1;32m     18\u001b[0m     \u001b[0mcm\u001b[0m \u001b[0;34m=\u001b[0m \u001b[0mconfusion_matrix\u001b[0m\u001b[0;34m(\u001b[0m\u001b[0my_true\u001b[0m\u001b[0;34m,\u001b[0m \u001b[0my_pred\u001b[0m\u001b[0;34m)\u001b[0m\u001b[0;34m\u001b[0m\u001b[0m\n\u001b[1;32m     19\u001b[0m     \u001b[0;31m# Only use the labels that appear in the data\u001b[0m\u001b[0;34m\u001b[0m\u001b[0;34m\u001b[0m\u001b[0m\n\u001b[0;32m---> 20\u001b[0;31m     \u001b[0mclasses\u001b[0m \u001b[0;34m=\u001b[0m \u001b[0mclasses\u001b[0m\u001b[0;34m[\u001b[0m\u001b[0munique_labels\u001b[0m\u001b[0;34m(\u001b[0m\u001b[0my_true\u001b[0m\u001b[0;34m,\u001b[0m \u001b[0my_pred\u001b[0m\u001b[0;34m)\u001b[0m\u001b[0;34m]\u001b[0m\u001b[0;34m\u001b[0m\u001b[0m\n\u001b[0m\u001b[1;32m     21\u001b[0m     \u001b[0;32mif\u001b[0m \u001b[0mnormalize\u001b[0m\u001b[0;34m:\u001b[0m\u001b[0;34m\u001b[0m\u001b[0m\n\u001b[1;32m     22\u001b[0m         \u001b[0mcm\u001b[0m \u001b[0;34m=\u001b[0m \u001b[0mcm\u001b[0m\u001b[0;34m.\u001b[0m\u001b[0mastype\u001b[0m\u001b[0;34m(\u001b[0m\u001b[0;34m'float'\u001b[0m\u001b[0;34m)\u001b[0m \u001b[0;34m/\u001b[0m \u001b[0mcm\u001b[0m\u001b[0;34m.\u001b[0m\u001b[0msum\u001b[0m\u001b[0;34m(\u001b[0m\u001b[0maxis\u001b[0m\u001b[0;34m=\u001b[0m\u001b[0;36m1\u001b[0m\u001b[0;34m)\u001b[0m\u001b[0;34m[\u001b[0m\u001b[0;34m:\u001b[0m\u001b[0;34m,\u001b[0m \u001b[0mnp\u001b[0m\u001b[0;34m.\u001b[0m\u001b[0mnewaxis\u001b[0m\u001b[0;34m]\u001b[0m\u001b[0;34m\u001b[0m\u001b[0m\n",
      "\u001b[0;31mTypeError\u001b[0m: only integer scalar arrays can be converted to a scalar index"
     ]
    }
   ],
   "source": [
    "from sklearn.utils.multiclass import unique_labels\n",
    "import matplotlib.pyplot as plt\n",
    "def plot_confusion_matrix(y_true, y_pred, classes,\n",
    "                          normalize=False,\n",
    "                          title=None,\n",
    "                          cmap=plt.cm.Blues):\n",
    "    \"\"\"\n",
    "    This function prints and plots the confusion matrix.\n",
    "    Normalization can be applied by setting `normalize=True`.\n",
    "    \"\"\"\n",
    "    if not title:\n",
    "        if normalize:\n",
    "            title = 'Normalized confusion matrix'\n",
    "        else:\n",
    "            title = 'Confusion matrix, without normalization'\n",
    "\n",
    "    # Compute confusion matrix\n",
    "    cm = confusion_matrix(y_true, y_pred)\n",
    "    # Only use the labels that appear in the data\n",
    "    classes = classes[unique_labels(y_true, y_pred)]\n",
    "    if normalize:\n",
    "        cm = cm.astype('float') / cm.sum(axis=1)[:, np.newaxis]\n",
    "        print(\"Normalized confusion matrix\")\n",
    "    else:\n",
    "        print('Confusion matrix, without normalization')\n",
    "\n",
    "    print(cm)\n",
    "\n",
    "    fig, ax = plt.subplots()\n",
    "    im = ax.imshow(cm, interpolation='nearest', cmap=cmap)\n",
    "    ax.figure.colorbar(im, ax=ax)\n",
    "    # We want to show all ticks...\n",
    "    ax.set(xticks=np.arange(cm.shape[1]),\n",
    "           yticks=np.arange(cm.shape[0]),\n",
    "           # ... and label them with the respective list entries\n",
    "           xticklabels=classes, yticklabels=classes,\n",
    "           title=title,\n",
    "           ylabel='True label',\n",
    "           xlabel='Predicted label')\n",
    "\n",
    "    # Rotate the tick labels and set their alignment.\n",
    "    plt.setp(ax.get_xticklabels(), rotation=45, ha=\"right\",\n",
    "             rotation_mode=\"anchor\")\n",
    "\n",
    "    # Loop over data dimensions and create text annotations.\n",
    "    fmt = '.2f' if normalize else 'd'\n",
    "    thresh = cm.max() / 2.\n",
    "    for i in range(cm.shape[0]):\n",
    "        for j in range(cm.shape[1]):\n",
    "            ax.text(j, i, format(cm[i, j], fmt),\n",
    "                    ha=\"center\", va=\"center\",\n",
    "                    color=\"white\" if cm[i, j] > thresh else \"black\")\n",
    "    fig.tight_layout()\n",
    "    return ax\n",
    "\n",
    "\n",
    "np.set_printoptions(precision=2)\n",
    "\n",
    "# Plot non-normalized confusion matrix\n",
    "plot_confusion_matrix(y_test, y_pred, classes=[0,1],\n",
    "                      title='Confusion matrix, without normalization')\n"
   ]
  },
  {
   "cell_type": "code",
   "execution_count": 86,
   "metadata": {},
   "outputs": [],
   "source": [
    "from sklearn.ensemble import RandomForestClassifier\n",
    "clf = RandomForestClassifier(n_estimators=100, max_depth=2,\n",
    "                         random_state=0)\n",
    "\n"
   ]
  },
  {
   "cell_type": "code",
   "execution_count": 87,
   "metadata": {},
   "outputs": [
    {
     "data": {
      "text/plain": [
       "RandomForestClassifier(bootstrap=True, class_weight=None, criterion='gini',\n",
       "            max_depth=2, max_features='auto', max_leaf_nodes=None,\n",
       "            min_impurity_decrease=0.0, min_impurity_split=None,\n",
       "            min_samples_leaf=1, min_samples_split=2,\n",
       "            min_weight_fraction_leaf=0.0, n_estimators=100, n_jobs=1,\n",
       "            oob_score=False, random_state=0, verbose=0, warm_start=False)"
      ]
     },
     "execution_count": 87,
     "metadata": {},
     "output_type": "execute_result"
    }
   ],
   "source": [
    "clf.fit(X_train, y_train)"
   ]
  },
  {
   "cell_type": "code",
   "execution_count": 88,
   "metadata": {},
   "outputs": [],
   "source": [
    "y_pred_rf = clf.predict(X_test)"
   ]
  },
  {
   "cell_type": "code",
   "execution_count": 89,
   "metadata": {},
   "outputs": [
    {
     "data": {
      "text/plain": [
       "0.9724630244763114"
      ]
     },
     "execution_count": 89,
     "metadata": {},
     "output_type": "execute_result"
    }
   ],
   "source": [
    "from sklearn.metrics import accuracy_score\n",
    "accuracy_score(y_test, y_pred_rf)"
   ]
  },
  {
   "cell_type": "code",
   "execution_count": 90,
   "metadata": {},
   "outputs": [
    {
     "data": {
      "text/plain": [
       "Text(0.5,1,'2-class Precision-Recall curve: AP=0.03')"
      ]
     },
     "execution_count": 90,
     "metadata": {},
     "output_type": "execute_result"
    },
    {
     "data": {
      "image/png": "[encoded data removed]",
      "text/plain": [
       "<matplotlib.figure.Figure at 0x1ce968bcc0>"
      ]
     },
     "metadata": {},
     "output_type": "display_data"
    }
   ],
   "source": [
    "from sklearn.metrics import precision_recall_curve\n",
    "import matplotlib.pyplot as plt\n",
    "from sklearn.utils.fixes import signature\n",
    "\n",
    "precision, recall, _ = precision_recall_curve(y_test, y_pred_rf)\n",
    "\n",
    "# In matplotlib < 1.5, plt.fill_between does not have a 'step' argument\n",
    "step_kwargs = ({'step': 'post'}\n",
    "               if 'step' in signature(plt.fill_between).parameters\n",
    "               else {})\n",
    "plt.step(recall, precision, color='b', alpha=0.2,\n",
    "         where='post')\n",
    "plt.fill_between(recall, precision, alpha=0.2, color='b', **step_kwargs)\n",
    "\n",
    "plt.xlabel('Recall')\n",
    "plt.ylabel('Precision')\n",
    "plt.ylim([0.0, 1.05])\n",
    "plt.xlim([0.0, 1.0])\n",
    "plt.title('2-class Precision-Recall curve: AP={0:0.2f}'.format(\n",
    "          average_precision))"
   ]
  },
  {
   "cell_type": "code",
   "execution_count": 91,
   "metadata": {},
   "outputs": [
    {
     "data": {
      "text/plain": [
       "array([[214807,      0],\n",
       "       [  6118,   1249]])"
      ]
     },
     "execution_count": 91,
     "metadata": {},
     "output_type": "execute_result"
    }
   ],
   "source": [
    "from sklearn.metrics import confusion_matrix\n",
    "confusion_matrix(y_test, y_pred_rf)"
   ]
  },
  {
   "cell_type": "code",
   "execution_count": 92,
   "metadata": {},
   "outputs": [
    {
     "name": "stdout",
     "output_type": "stream",
     "text": [
      "Average precision-recall score: 0.20\n"
     ]
    }
   ],
   "source": [
    "from sklearn.metrics import average_precision_score\n",
    "# from sklearn.metrics import average_recall_score\n",
    "average_precision = average_precision_score(y_test, y_pred_rf)\n",
    "# average_recall = average_recall_score(y_test, y_pred)\n",
    "\n",
    "print('Average precision-recall score: {0:0.2f}'.format(\n",
    "      average_precision))\n",
    "\n"
   ]
  },
  {
   "cell_type": "code",
   "execution_count": null,
   "metadata": {},
   "outputs": [],
   "source": []
  }
 ],
 "metadata": {
  "kernelspec": {
   "display_name": "Python 3",
   "language": "python",
   "name": "python3"
  },
  "language_info": {
   "codemirror_mode": {
    "name": "ipython",
    "version": 3
   },
   "file_extension": ".py",
   "mimetype": "text/x-python",
   "name": "python",
   "nbconvert_exporter": "python",
   "pygments_lexer": "ipython3",
   "version": "3.6.4"
  }
 },
 "nbformat": 4,
 "nbformat_minor": 2
}
