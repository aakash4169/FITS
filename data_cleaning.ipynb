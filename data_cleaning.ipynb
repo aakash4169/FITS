{
 "cells": [
  {
   "cell_type": "code",
   "execution_count": 1,
   "metadata": {},
   "outputs": [],
   "source": [
    "import pandas as pd\n",
    "import numpy as np"
   ]
  },
  {
   "cell_type": "code",
   "execution_count": 2,
   "metadata": {},
   "outputs": [
    {
     "name": "stderr",
     "output_type": "stream",
     "text": [
      "/Users/vedparanjape/anaconda3/lib/python3.6/site-packages/IPython/core/interactiveshell.py:2728: DtypeWarning: Columns (9,17) have mixed types. Specify dtype option on import or set low_memory=False.\n",
      "  interactivity=interactivity, compiler=compiler, result=result)\n"
     ]
    }
   ],
   "source": [
    "df = pd.read_csv('result.csv')"
   ]
  },
  {
   "cell_type": "code",
   "execution_count": 3,
   "metadata": {},
   "outputs": [
    {
     "data": {
      "text/html": [
       "<div>\n",
       "<style scoped>\n",
       "    .dataframe tbody tr th:only-of-type {\n",
       "        vertical-align: middle;\n",
       "    }\n",
       "\n",
       "    .dataframe tbody tr th {\n",
       "        vertical-align: top;\n",
       "    }\n",
       "\n",
       "    .dataframe thead th {\n",
       "        text-align: right;\n",
       "    }\n",
       "</style>\n",
       "<table border=\"1\" class=\"dataframe\">\n",
       "  <thead>\n",
       "    <tr style=\"text-align: right;\">\n",
       "      <th></th>\n",
       "      <th>unique_titd</th>\n",
       "      <th>tire.country_fk</th>\n",
       "      <th>section.section_fk</th>\n",
       "      <th>tiregroup.testplan_fk</th>\n",
       "      <th>mileage</th>\n",
       "      <th>date</th>\n",
       "      <th>tacho</th>\n",
       "      <th>td_min</th>\n",
       "      <th>td_mean</th>\n",
       "      <th>wheelposition</th>\n",
       "      <th>...</th>\n",
       "      <th>finding_1_(BD-06) Broken Bead</th>\n",
       "      <th>finding_1_(TR-13) Open Splice</th>\n",
       "      <th>finding_1_(TR-14) Tread Leaving Belt</th>\n",
       "      <th>finding_1_(TR-10) Worn Too Far</th>\n",
       "      <th>finding_1_(BD-03) Deformed Bead</th>\n",
       "      <th>finding_1_(TR-15) Belt Leaving Belt</th>\n",
       "      <th>finding_1_(IN-03) Circumferential Cracking</th>\n",
       "      <th>finding_1_(IN-02) Diagonal Cracking</th>\n",
       "      <th>finding_1_(IN-05) Damaged (Foreign Object)</th>\n",
       "      <th>finding_1_(BD-07) Chafer Edge Separation</th>\n",
       "    </tr>\n",
       "  </thead>\n",
       "  <tbody>\n",
       "    <tr>\n",
       "      <th>0</th>\n",
       "      <td>uh02480xxxxxg3poc3bg00b10_uh02480xxxxx4mrovkfg...</td>\n",
       "      <td>kaykxxxxxxxx2rsgrh2e00n00</td>\n",
       "      <td>uh02480xxxxxg3poc3bg00a10</td>\n",
       "      <td>uh02480xxxxxjnt47iag00000</td>\n",
       "      <td>0.0</td>\n",
       "      <td>7/1/2010</td>\n",
       "      <td>NaN</td>\n",
       "      <td>15.0</td>\n",
       "      <td>15.24000</td>\n",
       "      <td>NaN</td>\n",
       "      <td>...</td>\n",
       "      <td>0</td>\n",
       "      <td>0</td>\n",
       "      <td>0</td>\n",
       "      <td>0</td>\n",
       "      <td>0</td>\n",
       "      <td>0</td>\n",
       "      <td>0</td>\n",
       "      <td>0</td>\n",
       "      <td>0</td>\n",
       "      <td>0</td>\n",
       "    </tr>\n",
       "    <tr>\n",
       "      <th>1</th>\n",
       "      <td>uh02480xxxxxg3poc3bg00b10_uh06144xxxxx6o4fnpig...</td>\n",
       "      <td>kaykxxxxxxxx2rsgrh2e00n00</td>\n",
       "      <td>uh02480xxxxxg3poc3bg00a10</td>\n",
       "      <td>NaN</td>\n",
       "      <td>16937.0</td>\n",
       "      <td>1/9/2011</td>\n",
       "      <td>697268.0</td>\n",
       "      <td>13.7</td>\n",
       "      <td>NaN</td>\n",
       "      <td>NaN</td>\n",
       "      <td>...</td>\n",
       "      <td>0</td>\n",
       "      <td>0</td>\n",
       "      <td>0</td>\n",
       "      <td>0</td>\n",
       "      <td>0</td>\n",
       "      <td>0</td>\n",
       "      <td>0</td>\n",
       "      <td>0</td>\n",
       "      <td>0</td>\n",
       "      <td>0</td>\n",
       "    </tr>\n",
       "    <tr>\n",
       "      <th>2</th>\n",
       "      <td>uh02480xxxxxg3poc3bg00b10_uh06144xxxxx0uslnrlg...</td>\n",
       "      <td>kaykxxxxxxxx2rsgrh2e00n00</td>\n",
       "      <td>uh02480xxxxxg3poc3bg00a10</td>\n",
       "      <td>uh02480xxxxxjnt47iag00000</td>\n",
       "      <td>NaN</td>\n",
       "      <td>3/27/2011</td>\n",
       "      <td>NaN</td>\n",
       "      <td>12.8</td>\n",
       "      <td>13.20000</td>\n",
       "      <td>NaN</td>\n",
       "      <td>...</td>\n",
       "      <td>0</td>\n",
       "      <td>0</td>\n",
       "      <td>0</td>\n",
       "      <td>0</td>\n",
       "      <td>0</td>\n",
       "      <td>0</td>\n",
       "      <td>0</td>\n",
       "      <td>0</td>\n",
       "      <td>0</td>\n",
       "      <td>0</td>\n",
       "    </tr>\n",
       "    <tr>\n",
       "      <th>3</th>\n",
       "      <td>uh02480xxxxxg3poc3bg00b10_uh06144xxxxxzpqltxpg...</td>\n",
       "      <td>NaN</td>\n",
       "      <td>uh02480xxxxxg3poc3bg00a10</td>\n",
       "      <td>uh02480xxxxxjnt47iag00000</td>\n",
       "      <td>78229.0</td>\n",
       "      <td>7/10/2011</td>\n",
       "      <td>NaN</td>\n",
       "      <td>11.3</td>\n",
       "      <td>11.69500</td>\n",
       "      <td>NaN</td>\n",
       "      <td>...</td>\n",
       "      <td>0</td>\n",
       "      <td>0</td>\n",
       "      <td>0</td>\n",
       "      <td>0</td>\n",
       "      <td>0</td>\n",
       "      <td>0</td>\n",
       "      <td>0</td>\n",
       "      <td>0</td>\n",
       "      <td>0</td>\n",
       "      <td>0</td>\n",
       "    </tr>\n",
       "    <tr>\n",
       "      <th>4</th>\n",
       "      <td>uh02480xxxxxg3poc3bg00b10_uh06144xxxxx62epzusg...</td>\n",
       "      <td>NaN</td>\n",
       "      <td>uh02480xxxxxg3poc3bg00a10</td>\n",
       "      <td>uh02480xxxxxjnt47iag00000</td>\n",
       "      <td>104422.0</td>\n",
       "      <td>9/21/2011</td>\n",
       "      <td>784753.0</td>\n",
       "      <td>10.3</td>\n",
       "      <td>10.66875</td>\n",
       "      <td>NaN</td>\n",
       "      <td>...</td>\n",
       "      <td>0</td>\n",
       "      <td>0</td>\n",
       "      <td>0</td>\n",
       "      <td>0</td>\n",
       "      <td>0</td>\n",
       "      <td>0</td>\n",
       "      <td>0</td>\n",
       "      <td>0</td>\n",
       "      <td>0</td>\n",
       "      <td>0</td>\n",
       "    </tr>\n",
       "  </tbody>\n",
       "</table>\n",
       "<p>5 rows × 104 columns</p>\n",
       "</div>"
      ],
      "text/plain": [
       "                                         unique_titd  \\\n",
       "0  uh02480xxxxxg3poc3bg00b10_uh02480xxxxx4mrovkfg...   \n",
       "1  uh02480xxxxxg3poc3bg00b10_uh06144xxxxx6o4fnpig...   \n",
       "2  uh02480xxxxxg3poc3bg00b10_uh06144xxxxx0uslnrlg...   \n",
       "3  uh02480xxxxxg3poc3bg00b10_uh06144xxxxxzpqltxpg...   \n",
       "4  uh02480xxxxxg3poc3bg00b10_uh06144xxxxx62epzusg...   \n",
       "\n",
       "             tire.country_fk         section.section_fk  \\\n",
       "0  kaykxxxxxxxx2rsgrh2e00n00  uh02480xxxxxg3poc3bg00a10   \n",
       "1  kaykxxxxxxxx2rsgrh2e00n00  uh02480xxxxxg3poc3bg00a10   \n",
       "2  kaykxxxxxxxx2rsgrh2e00n00  uh02480xxxxxg3poc3bg00a10   \n",
       "3                        NaN  uh02480xxxxxg3poc3bg00a10   \n",
       "4                        NaN  uh02480xxxxxg3poc3bg00a10   \n",
       "\n",
       "       tiregroup.testplan_fk   mileage       date     tacho  td_min   td_mean  \\\n",
       "0  uh02480xxxxxjnt47iag00000       0.0   7/1/2010       NaN    15.0  15.24000   \n",
       "1                        NaN   16937.0   1/9/2011  697268.0    13.7       NaN   \n",
       "2  uh02480xxxxxjnt47iag00000       NaN  3/27/2011       NaN    12.8  13.20000   \n",
       "3  uh02480xxxxxjnt47iag00000   78229.0  7/10/2011       NaN    11.3  11.69500   \n",
       "4  uh02480xxxxxjnt47iag00000  104422.0  9/21/2011  784753.0    10.3  10.66875   \n",
       "\n",
       "  wheelposition                    ...                     \\\n",
       "0           NaN                    ...                      \n",
       "1           NaN                    ...                      \n",
       "2           NaN                    ...                      \n",
       "3           NaN                    ...                      \n",
       "4           NaN                    ...                      \n",
       "\n",
       "  finding_1_(BD-06) Broken Bead  finding_1_(TR-13) Open Splice  \\\n",
       "0                             0                              0   \n",
       "1                             0                              0   \n",
       "2                             0                              0   \n",
       "3                             0                              0   \n",
       "4                             0                              0   \n",
       "\n",
       "   finding_1_(TR-14) Tread Leaving Belt finding_1_(TR-10) Worn Too Far  \\\n",
       "0                                     0                              0   \n",
       "1                                     0                              0   \n",
       "2                                     0                              0   \n",
       "3                                     0                              0   \n",
       "4                                     0                              0   \n",
       "\n",
       "   finding_1_(BD-03) Deformed Bead  finding_1_(TR-15) Belt Leaving Belt  \\\n",
       "0                                0                                    0   \n",
       "1                                0                                    0   \n",
       "2                                0                                    0   \n",
       "3                                0                                    0   \n",
       "4                                0                                    0   \n",
       "\n",
       "  finding_1_(IN-03) Circumferential Cracking  \\\n",
       "0                                          0   \n",
       "1                                          0   \n",
       "2                                          0   \n",
       "3                                          0   \n",
       "4                                          0   \n",
       "\n",
       "  finding_1_(IN-02) Diagonal Cracking  \\\n",
       "0                                   0   \n",
       "1                                   0   \n",
       "2                                   0   \n",
       "3                                   0   \n",
       "4                                   0   \n",
       "\n",
       "  finding_1_(IN-05) Damaged (Foreign Object)  \\\n",
       "0                                          0   \n",
       "1                                          0   \n",
       "2                                          0   \n",
       "3                                          0   \n",
       "4                                          0   \n",
       "\n",
       "   finding_1_(BD-07) Chafer Edge Separation  \n",
       "0                                         0  \n",
       "1                                         0  \n",
       "2                                         0  \n",
       "3                                         0  \n",
       "4                                         0  \n",
       "\n",
       "[5 rows x 104 columns]"
      ]
     },
     "execution_count": 3,
     "metadata": {},
     "output_type": "execute_result"
    }
   ],
   "source": [
    "df.head()"
   ]
  },
  {
   "cell_type": "code",
   "execution_count": 4,
   "metadata": {},
   "outputs": [
    {
     "data": {
      "text/html": [
       "<div>\n",
       "<style scoped>\n",
       "    .dataframe tbody tr th:only-of-type {\n",
       "        vertical-align: middle;\n",
       "    }\n",
       "\n",
       "    .dataframe tbody tr th {\n",
       "        vertical-align: top;\n",
       "    }\n",
       "\n",
       "    .dataframe thead th {\n",
       "        text-align: right;\n",
       "    }\n",
       "</style>\n",
       "<table border=\"1\" class=\"dataframe\">\n",
       "  <thead>\n",
       "    <tr style=\"text-align: right;\">\n",
       "      <th></th>\n",
       "      <th>mileage</th>\n",
       "      <th>tacho</th>\n",
       "      <th>td_min</th>\n",
       "      <th>td_mean</th>\n",
       "      <th>tisize_rim</th>\n",
       "      <th>tisize_width</th>\n",
       "      <th>tisize_ratio</th>\n",
       "      <th>numspikes_na</th>\n",
       "      <th>mileage_1</th>\n",
       "      <th>tacho_1</th>\n",
       "      <th>...</th>\n",
       "      <th>finding_1_(BD-06) Broken Bead</th>\n",
       "      <th>finding_1_(TR-13) Open Splice</th>\n",
       "      <th>finding_1_(TR-14) Tread Leaving Belt</th>\n",
       "      <th>finding_1_(TR-10) Worn Too Far</th>\n",
       "      <th>finding_1_(BD-03) Deformed Bead</th>\n",
       "      <th>finding_1_(TR-15) Belt Leaving Belt</th>\n",
       "      <th>finding_1_(IN-03) Circumferential Cracking</th>\n",
       "      <th>finding_1_(IN-02) Diagonal Cracking</th>\n",
       "      <th>finding_1_(IN-05) Damaged (Foreign Object)</th>\n",
       "      <th>finding_1_(BD-07) Chafer Edge Separation</th>\n",
       "    </tr>\n",
       "  </thead>\n",
       "  <tbody>\n",
       "    <tr>\n",
       "      <th>count</th>\n",
       "      <td>6.641920e+05</td>\n",
       "      <td>5.547240e+05</td>\n",
       "      <td>666556.000000</td>\n",
       "      <td>666210.000000</td>\n",
       "      <td>666285.000000</td>\n",
       "      <td>666833.000000</td>\n",
       "      <td>666497.000000</td>\n",
       "      <td>666400.000000</td>\n",
       "      <td>7.405780e+05</td>\n",
       "      <td>7.405780e+05</td>\n",
       "      <td>...</td>\n",
       "      <td>740578.000000</td>\n",
       "      <td>740578.000000</td>\n",
       "      <td>740578.000000</td>\n",
       "      <td>740578.000000</td>\n",
       "      <td>740578.000000</td>\n",
       "      <td>740578.000000</td>\n",
       "      <td>740578.000000</td>\n",
       "      <td>740578.000000</td>\n",
       "      <td>740578.000000</td>\n",
       "      <td>740578.000000</td>\n",
       "    </tr>\n",
       "    <tr>\n",
       "      <th>mean</th>\n",
       "      <td>5.801917e+04</td>\n",
       "      <td>3.043679e+05</td>\n",
       "      <td>9.750815</td>\n",
       "      <td>10.713031</td>\n",
       "      <td>20.250947</td>\n",
       "      <td>285.188112</td>\n",
       "      <td>69.925273</td>\n",
       "      <td>0.934970</td>\n",
       "      <td>5.530967e+04</td>\n",
       "      <td>2.853887e+05</td>\n",
       "      <td>...</td>\n",
       "      <td>0.000005</td>\n",
       "      <td>0.000011</td>\n",
       "      <td>0.000034</td>\n",
       "      <td>0.000004</td>\n",
       "      <td>0.000018</td>\n",
       "      <td>0.000001</td>\n",
       "      <td>0.000001</td>\n",
       "      <td>0.000001</td>\n",
       "      <td>0.000004</td>\n",
       "      <td>0.000003</td>\n",
       "    </tr>\n",
       "    <tr>\n",
       "      <th>std</th>\n",
       "      <td>7.293494e+04</td>\n",
       "      <td>3.032992e+05</td>\n",
       "      <td>7.599536</td>\n",
       "      <td>7.352813</td>\n",
       "      <td>12.156476</td>\n",
       "      <td>76.952616</td>\n",
       "      <td>13.345511</td>\n",
       "      <td>0.246579</td>\n",
       "      <td>6.953176e+04</td>\n",
       "      <td>2.645369e+05</td>\n",
       "      <td>...</td>\n",
       "      <td>0.002324</td>\n",
       "      <td>0.003287</td>\n",
       "      <td>0.005810</td>\n",
       "      <td>0.002013</td>\n",
       "      <td>0.004190</td>\n",
       "      <td>0.001162</td>\n",
       "      <td>0.001162</td>\n",
       "      <td>0.001162</td>\n",
       "      <td>0.002013</td>\n",
       "      <td>0.001643</td>\n",
       "    </tr>\n",
       "    <tr>\n",
       "      <th>min</th>\n",
       "      <td>-2.309810e+05</td>\n",
       "      <td>0.000000e+00</td>\n",
       "      <td>0.000000</td>\n",
       "      <td>-0.100000</td>\n",
       "      <td>2.000000</td>\n",
       "      <td>100.000000</td>\n",
       "      <td>30.000000</td>\n",
       "      <td>0.000000</td>\n",
       "      <td>-2.309810e+05</td>\n",
       "      <td>0.000000e+00</td>\n",
       "      <td>...</td>\n",
       "      <td>0.000000</td>\n",
       "      <td>0.000000</td>\n",
       "      <td>0.000000</td>\n",
       "      <td>0.000000</td>\n",
       "      <td>0.000000</td>\n",
       "      <td>0.000000</td>\n",
       "      <td>0.000000</td>\n",
       "      <td>0.000000</td>\n",
       "      <td>0.000000</td>\n",
       "      <td>0.000000</td>\n",
       "    </tr>\n",
       "    <tr>\n",
       "      <th>25%</th>\n",
       "      <td>4.888000e+03</td>\n",
       "      <td>1.068600e+05</td>\n",
       "      <td>5.660000</td>\n",
       "      <td>6.802000</td>\n",
       "      <td>16.000000</td>\n",
       "      <td>225.000000</td>\n",
       "      <td>60.000000</td>\n",
       "      <td>1.000000</td>\n",
       "      <td>8.245000e+03</td>\n",
       "      <td>1.437462e+05</td>\n",
       "      <td>...</td>\n",
       "      <td>0.000000</td>\n",
       "      <td>0.000000</td>\n",
       "      <td>0.000000</td>\n",
       "      <td>0.000000</td>\n",
       "      <td>0.000000</td>\n",
       "      <td>0.000000</td>\n",
       "      <td>0.000000</td>\n",
       "      <td>0.000000</td>\n",
       "      <td>0.000000</td>\n",
       "      <td>0.000000</td>\n",
       "    </tr>\n",
       "    <tr>\n",
       "      <th>50%</th>\n",
       "      <td>3.175000e+04</td>\n",
       "      <td>2.287410e+05</td>\n",
       "      <td>8.500000</td>\n",
       "      <td>9.366667</td>\n",
       "      <td>22.500000</td>\n",
       "      <td>295.000000</td>\n",
       "      <td>65.000000</td>\n",
       "      <td>1.000000</td>\n",
       "      <td>3.175000e+04</td>\n",
       "      <td>2.287410e+05</td>\n",
       "      <td>...</td>\n",
       "      <td>0.000000</td>\n",
       "      <td>0.000000</td>\n",
       "      <td>0.000000</td>\n",
       "      <td>0.000000</td>\n",
       "      <td>0.000000</td>\n",
       "      <td>0.000000</td>\n",
       "      <td>0.000000</td>\n",
       "      <td>0.000000</td>\n",
       "      <td>0.000000</td>\n",
       "      <td>0.000000</td>\n",
       "    </tr>\n",
       "    <tr>\n",
       "      <th>75%</th>\n",
       "      <td>8.325575e+04</td>\n",
       "      <td>4.264660e+05</td>\n",
       "      <td>12.800000</td>\n",
       "      <td>13.565000</td>\n",
       "      <td>22.500000</td>\n",
       "      <td>315.000000</td>\n",
       "      <td>80.000000</td>\n",
       "      <td>1.000000</td>\n",
       "      <td>7.452700e+04</td>\n",
       "      <td>3.458170e+05</td>\n",
       "      <td>...</td>\n",
       "      <td>0.000000</td>\n",
       "      <td>0.000000</td>\n",
       "      <td>0.000000</td>\n",
       "      <td>0.000000</td>\n",
       "      <td>0.000000</td>\n",
       "      <td>0.000000</td>\n",
       "      <td>0.000000</td>\n",
       "      <td>0.000000</td>\n",
       "      <td>0.000000</td>\n",
       "      <td>0.000000</td>\n",
       "    </tr>\n",
       "    <tr>\n",
       "      <th>max</th>\n",
       "      <td>1.323980e+06</td>\n",
       "      <td>1.046440e+07</td>\n",
       "      <td>114.000000</td>\n",
       "      <td>114.000000</td>\n",
       "      <td>470.000000</td>\n",
       "      <td>1078.000000</td>\n",
       "      <td>305.000000</td>\n",
       "      <td>1.000000</td>\n",
       "      <td>1.323980e+06</td>\n",
       "      <td>1.046440e+07</td>\n",
       "      <td>...</td>\n",
       "      <td>1.000000</td>\n",
       "      <td>1.000000</td>\n",
       "      <td>1.000000</td>\n",
       "      <td>1.000000</td>\n",
       "      <td>1.000000</td>\n",
       "      <td>1.000000</td>\n",
       "      <td>1.000000</td>\n",
       "      <td>1.000000</td>\n",
       "      <td>1.000000</td>\n",
       "      <td>1.000000</td>\n",
       "    </tr>\n",
       "  </tbody>\n",
       "</table>\n",
       "<p>8 rows × 90 columns</p>\n",
       "</div>"
      ],
      "text/plain": [
       "            mileage         tacho         td_min        td_mean  \\\n",
       "count  6.641920e+05  5.547240e+05  666556.000000  666210.000000   \n",
       "mean   5.801917e+04  3.043679e+05       9.750815      10.713031   \n",
       "std    7.293494e+04  3.032992e+05       7.599536       7.352813   \n",
       "min   -2.309810e+05  0.000000e+00       0.000000      -0.100000   \n",
       "25%    4.888000e+03  1.068600e+05       5.660000       6.802000   \n",
       "50%    3.175000e+04  2.287410e+05       8.500000       9.366667   \n",
       "75%    8.325575e+04  4.264660e+05      12.800000      13.565000   \n",
       "max    1.323980e+06  1.046440e+07     114.000000     114.000000   \n",
       "\n",
       "          tisize_rim   tisize_width   tisize_ratio   numspikes_na  \\\n",
       "count  666285.000000  666833.000000  666497.000000  666400.000000   \n",
       "mean       20.250947     285.188112      69.925273       0.934970   \n",
       "std        12.156476      76.952616      13.345511       0.246579   \n",
       "min         2.000000     100.000000      30.000000       0.000000   \n",
       "25%        16.000000     225.000000      60.000000       1.000000   \n",
       "50%        22.500000     295.000000      65.000000       1.000000   \n",
       "75%        22.500000     315.000000      80.000000       1.000000   \n",
       "max       470.000000    1078.000000     305.000000       1.000000   \n",
       "\n",
       "          mileage_1       tacho_1                    ...                     \\\n",
       "count  7.405780e+05  7.405780e+05                    ...                      \n",
       "mean   5.530967e+04  2.853887e+05                    ...                      \n",
       "std    6.953176e+04  2.645369e+05                    ...                      \n",
       "min   -2.309810e+05  0.000000e+00                    ...                      \n",
       "25%    8.245000e+03  1.437462e+05                    ...                      \n",
       "50%    3.175000e+04  2.287410e+05                    ...                      \n",
       "75%    7.452700e+04  3.458170e+05                    ...                      \n",
       "max    1.323980e+06  1.046440e+07                    ...                      \n",
       "\n",
       "       finding_1_(BD-06) Broken Bead  finding_1_(TR-13) Open Splice  \\\n",
       "count                  740578.000000                  740578.000000   \n",
       "mean                        0.000005                       0.000011   \n",
       "std                         0.002324                       0.003287   \n",
       "min                         0.000000                       0.000000   \n",
       "25%                         0.000000                       0.000000   \n",
       "50%                         0.000000                       0.000000   \n",
       "75%                         0.000000                       0.000000   \n",
       "max                         1.000000                       1.000000   \n",
       "\n",
       "       finding_1_(TR-14) Tread Leaving Belt  finding_1_(TR-10) Worn Too Far  \\\n",
       "count                         740578.000000                   740578.000000   \n",
       "mean                               0.000034                        0.000004   \n",
       "std                                0.005810                        0.002013   \n",
       "min                                0.000000                        0.000000   \n",
       "25%                                0.000000                        0.000000   \n",
       "50%                                0.000000                        0.000000   \n",
       "75%                                0.000000                        0.000000   \n",
       "max                                1.000000                        1.000000   \n",
       "\n",
       "       finding_1_(BD-03) Deformed Bead  finding_1_(TR-15) Belt Leaving Belt  \\\n",
       "count                    740578.000000                        740578.000000   \n",
       "mean                          0.000018                             0.000001   \n",
       "std                           0.004190                             0.001162   \n",
       "min                           0.000000                             0.000000   \n",
       "25%                           0.000000                             0.000000   \n",
       "50%                           0.000000                             0.000000   \n",
       "75%                           0.000000                             0.000000   \n",
       "max                           1.000000                             1.000000   \n",
       "\n",
       "       finding_1_(IN-03) Circumferential Cracking  \\\n",
       "count                               740578.000000   \n",
       "mean                                     0.000001   \n",
       "std                                      0.001162   \n",
       "min                                      0.000000   \n",
       "25%                                      0.000000   \n",
       "50%                                      0.000000   \n",
       "75%                                      0.000000   \n",
       "max                                      1.000000   \n",
       "\n",
       "       finding_1_(IN-02) Diagonal Cracking  \\\n",
       "count                        740578.000000   \n",
       "mean                              0.000001   \n",
       "std                               0.001162   \n",
       "min                               0.000000   \n",
       "25%                               0.000000   \n",
       "50%                               0.000000   \n",
       "75%                               0.000000   \n",
       "max                               1.000000   \n",
       "\n",
       "       finding_1_(IN-05) Damaged (Foreign Object)  \\\n",
       "count                               740578.000000   \n",
       "mean                                     0.000004   \n",
       "std                                      0.002013   \n",
       "min                                      0.000000   \n",
       "25%                                      0.000000   \n",
       "50%                                      0.000000   \n",
       "75%                                      0.000000   \n",
       "max                                      1.000000   \n",
       "\n",
       "       finding_1_(BD-07) Chafer Edge Separation  \n",
       "count                             740578.000000  \n",
       "mean                                   0.000003  \n",
       "std                                    0.001643  \n",
       "min                                    0.000000  \n",
       "25%                                    0.000000  \n",
       "50%                                    0.000000  \n",
       "75%                                    0.000000  \n",
       "max                                    1.000000  \n",
       "\n",
       "[8 rows x 90 columns]"
      ]
     },
     "execution_count": 4,
     "metadata": {},
     "output_type": "execute_result"
    }
   ],
   "source": [
    "df.describe()"
   ]
  },
  {
   "cell_type": "code",
   "execution_count": 29,
   "metadata": {},
   "outputs": [
    {
     "data": {
      "text/plain": [
       "1917429"
      ]
     },
     "execution_count": 29,
     "metadata": {},
     "output_type": "execute_result"
    }
   ],
   "source": [
    "df.isnull().sum().sum()"
   ]
  },
  {
   "cell_type": "code",
   "execution_count": 11,
   "metadata": {},
   "outputs": [
    {
     "data": {
      "text/plain": [
       "740578"
      ]
     },
     "execution_count": 11,
     "metadata": {},
     "output_type": "execute_result"
    }
   ],
   "source": [
    "len(df)"
   ]
  },
  {
   "cell_type": "code",
   "execution_count": 5,
   "metadata": {},
   "outputs": [],
   "source": [
    "import seaborn as sns\n",
    "%matplotlib inline"
   ]
  },
  {
   "cell_type": "code",
   "execution_count": 28,
   "metadata": {},
   "outputs": [
    {
     "data": {
      "text/plain": [
       "<matplotlib.axes._subplots.AxesSubplot at 0x11b874c50>"
      ]
     },
     "execution_count": 28,
     "metadata": {},
     "output_type": "execute_result"
    },
    {
     "data": {
      "image/png": "[encoded data removed]",
      "text/plain": [
       "<matplotlib.figure.Figure at 0x11b874630>"
      ]
     },
     "metadata": {},
     "output_type": "display_data"
    }
   ],
   "source": [
    "sq = np.sqrt(df['td_min'].dropna())\n",
    "sq.hist(histtype='bar',range=(sq.min(), sq.max()))\n",
    "# df['td_min'].dropna().hist(histtype='bar',range=(df['td_min'].min(), df['td_min'].max()))"
   ]
  },
  {
   "cell_type": "code",
   "execution_count": 69,
   "metadata": {},
   "outputs": [
    {
     "data": {
      "text/plain": [
       "<matplotlib.axes._subplots.AxesSubplot at 0x118386668>"
      ]
     },
     "execution_count": 69,
     "metadata": {},
     "output_type": "execute_result"
    },
    {
     "data": {
      "image/png": "[encoded data removed]",
      "text/plain": [
       "<matplotlib.figure.Figure at 0x1183a46d8>"
      ]
     },
     "metadata": {},
     "output_type": "display_data"
    }
   ],
   "source": [
    "sns.boxplot(x=df['tisize_width'].dropna())"
   ]
  },
  {
   "cell_type": "code",
   "execution_count": 55,
   "metadata": {},
   "outputs": [
    {
     "data": {
      "text/plain": [
       "8"
      ]
     },
     "execution_count": 55,
     "metadata": {},
     "output_type": "execute_result"
    }
   ],
   "source": [
    "col = df['mileage'].dropna()\n",
    "count = 0\n",
    "for i in col:\n",
    "    if i < 0:\n",
    "        count += 1\n",
    "count\n",
    "# col.hist(histtype='bar',range=(-, 60000))"
   ]
  },
  {
   "cell_type": "code",
   "execution_count": 56,
   "metadata": {},
   "outputs": [
    {
     "data": {
      "text/plain": [
       "<matplotlib.axes._subplots.AxesSubplot at 0x12df120f0>"
      ]
     },
     "execution_count": 56,
     "metadata": {},
     "output_type": "execute_result"
    },
    {
     "data": {
      "image/png": "[encoded data removed]",
      "text/plain": [
       "<matplotlib.figure.Figure at 0x1321ceeb8>"
      ]
     },
     "metadata": {},
     "output_type": "display_data"
    }
   ],
   "source": [
    "col = df['mileage'].dropna()\n",
    "col.hist(histtype='bar',range=(0, 60000))"
   ]
  },
  {
   "cell_type": "code",
   "execution_count": null,
   "metadata": {},
   "outputs": [],
   "source": [
    "Variables to transform:\n",
    "    mileage\n",
    "Remove outliers from:\n",
    "    Negative side of mileage"
   ]
  },
  {
   "cell_type": "code",
   "execution_count": 10,
   "metadata": {},
   "outputs": [
    {
     "data": {
      "text/plain": [
       "<matplotlib.axes._subplots.AxesSubplot at 0x11ffa7cf8>"
      ]
     },
     "execution_count": 10,
     "metadata": {},
     "output_type": "execute_result"
    },
    {
     "data": {
      "image/png": "[encoded data removed]",
      "text/plain": [
       "<matplotlib.figure.Figure at 0x120069400>"
      ]
     },
     "metadata": {},
     "output_type": "display_data"
    }
   ],
   "source": [
    "col = df['td_mean']\n",
    "col.hist(histtype='bar',range=(0, 40))"
   ]
  },
  {
   "cell_type": "code",
   "execution_count": 8,
   "metadata": {},
   "outputs": [
    {
     "data": {
      "text/plain": [
       "<matplotlib.axes._subplots.AxesSubplot at 0x120168898>"
      ]
     },
     "execution_count": 8,
     "metadata": {},
     "output_type": "execute_result"
    },
    {
     "data": {
      "image/png": "[encoded data removed]",
      "text/plain": [
       "<matplotlib.figure.Figure at 0x11fe52438>"
      ]
     },
     "metadata": {},
     "output_type": "display_data"
    }
   ],
   "source": [
    "df['td_mean_1'].hist(histtype='bar',range=(0,40))"
   ]
  },
  {
   "cell_type": "code",
   "execution_count": 63,
   "metadata": {},
   "outputs": [
    {
     "data": {
      "text/plain": [
       "<matplotlib.axes._subplots.AxesSubplot at 0x126fd5da0>"
      ]
     },
     "execution_count": 63,
     "metadata": {},
     "output_type": "execute_result"
    },
    {
     "data": {
      "image/png": "[encoded data removed]",
      "text/plain": [
       "<matplotlib.figure.Figure at 0x127272518>"
      ]
     },
     "metadata": {},
     "output_type": "display_data"
    }
   ],
   "source": [
    "col = df['td_min'].dropna()\n",
    "col.hist(histtype='bar',range=(0, 100))"
   ]
  },
  {
   "cell_type": "code",
   "execution_count": 66,
   "metadata": {},
   "outputs": [
    {
     "data": {
      "text/plain": [
       "<matplotlib.axes._subplots.AxesSubplot at 0x12391f748>"
      ]
     },
     "execution_count": 66,
     "metadata": {},
     "output_type": "execute_result"
    },
    {
     "data": {
      "image/png": "[encoded data removed]",
      "text/plain": [
       "<matplotlib.figure.Figure at 0x117625ac8>"
      ]
     },
     "metadata": {},
     "output_type": "display_data"
    }
   ],
   "source": [
    "col = df['tisize_ratio'].dropna()\n",
    "col.hist(histtype='bar',range=(40, 100))"
   ]
  },
  {
   "cell_type": "code",
   "execution_count": 14,
   "metadata": {},
   "outputs": [
    {
     "data": {
      "text/plain": [
       "<matplotlib.axes._subplots.AxesSubplot at 0x11f32a9e8>"
      ]
     },
     "execution_count": 14,
     "metadata": {},
     "output_type": "execute_result"
    },
    {
     "data": {
      "image/png": "[encoded data removed]",
      "text/plain": [
       "<matplotlib.figure.Figure at 0x11bf72940>"
      ]
     },
     "metadata": {},
     "output_type": "display_data"
    }
   ],
   "source": [
    "import math\n",
    "col = df['tisize_width'].dropna()\n",
    "# col = np.sqrt(col)\n",
    "col.hist(histtype='bar',range=(100, 500))"
   ]
  },
  {
   "cell_type": "code",
   "execution_count": 1,
   "metadata": {},
   "outputs": [
    {
     "name": "stderr",
     "output_type": "stream",
     "text": [
      "/Users/vedparanjape/anaconda3/lib/python3.6/site-packages/IPython/core/interactiveshell.py:2728: DtypeWarning: Columns (10) have mixed types. Specify dtype option on import or set low_memory=False.\n",
      "  interactivity=interactivity, compiler=compiler, result=result)\n"
     ]
    },
    {
     "data": {
      "text/plain": [
       "Index(['Unnamed: 0', 'unique_titd', 'tire.country_fk', 'section.section_fk',\n",
       "       'tiregroup.testplan_fk', 'mileage', 'date', 'tacho', 'td_min',\n",
       "       'td_mean', 'wheelposition', 'rimtype', 'tisize_rim', 'tisize_width',\n",
       "       'tisize_radial', 'tisize_ratio', 'numspikes_na', 'finding', 'reason'],\n",
       "      dtype='object')"
      ]
     },
     "execution_count": 1,
     "metadata": {},
     "output_type": "execute_result"
    }
   ],
   "source": [
    "import pandas as pd\n",
    "import numpy as np\n",
    "\n",
    "\n",
    "df = pd.read_csv('tread_depth.csv')\n",
    "df.columns\n",
    "\n"
   ]
  },
  {
   "cell_type": "code",
   "execution_count": 10,
   "metadata": {},
   "outputs": [],
   "source": [
    "df_dummy = df"
   ]
  },
  {
   "cell_type": "code",
   "execution_count": 11,
   "metadata": {},
   "outputs": [],
   "source": [
    "jcols = ['mileage', 'tacho', 'td_min',\n",
    "       'td_mean', 'tisize_rim', 'tisize_width',\n",
    "       'tisize_ratio', 'numspikes_na']"
   ]
  },
  {
   "cell_type": "code",
   "execution_count": 12,
   "metadata": {},
   "outputs": [
    {
     "data": {
      "text/html": [
       "<div>\n",
       "<style scoped>\n",
       "    .dataframe tbody tr th:only-of-type {\n",
       "        vertical-align: middle;\n",
       "    }\n",
       "\n",
       "    .dataframe tbody tr th {\n",
       "        vertical-align: top;\n",
       "    }\n",
       "\n",
       "    .dataframe thead th {\n",
       "        text-align: right;\n",
       "    }\n",
       "</style>\n",
       "<table border=\"1\" class=\"dataframe\">\n",
       "  <thead>\n",
       "    <tr style=\"text-align: right;\">\n",
       "      <th></th>\n",
       "      <th>mileage</th>\n",
       "      <th>tacho</th>\n",
       "      <th>td_min</th>\n",
       "      <th>td_mean</th>\n",
       "      <th>tisize_rim</th>\n",
       "      <th>tisize_width</th>\n",
       "      <th>tisize_ratio</th>\n",
       "      <th>numspikes_na</th>\n",
       "    </tr>\n",
       "  </thead>\n",
       "  <tbody>\n",
       "    <tr>\n",
       "      <th>0</th>\n",
       "      <td>0.0</td>\n",
       "      <td>NaN</td>\n",
       "      <td>15.0</td>\n",
       "      <td>15.240000</td>\n",
       "      <td>22.5</td>\n",
       "      <td>315.0</td>\n",
       "      <td>80</td>\n",
       "      <td>1</td>\n",
       "    </tr>\n",
       "    <tr>\n",
       "      <th>1</th>\n",
       "      <td>16937.0</td>\n",
       "      <td>697268.0</td>\n",
       "      <td>13.7</td>\n",
       "      <td>13.841675</td>\n",
       "      <td>22.5</td>\n",
       "      <td>315.0</td>\n",
       "      <td>80</td>\n",
       "      <td>1</td>\n",
       "    </tr>\n",
       "    <tr>\n",
       "      <th>2</th>\n",
       "      <td>39463.0</td>\n",
       "      <td>719794.0</td>\n",
       "      <td>12.8</td>\n",
       "      <td>13.200000</td>\n",
       "      <td>22.5</td>\n",
       "      <td>315.0</td>\n",
       "      <td>80</td>\n",
       "      <td>1</td>\n",
       "    </tr>\n",
       "    <tr>\n",
       "      <th>3</th>\n",
       "      <td>78229.0</td>\n",
       "      <td>758560.0</td>\n",
       "      <td>11.3</td>\n",
       "      <td>11.695000</td>\n",
       "      <td>22.5</td>\n",
       "      <td>315.0</td>\n",
       "      <td>80</td>\n",
       "      <td>1</td>\n",
       "    </tr>\n",
       "    <tr>\n",
       "      <th>4</th>\n",
       "      <td>104422.0</td>\n",
       "      <td>784753.0</td>\n",
       "      <td>10.3</td>\n",
       "      <td>10.668750</td>\n",
       "      <td>22.5</td>\n",
       "      <td>315.0</td>\n",
       "      <td>80</td>\n",
       "      <td>1</td>\n",
       "    </tr>\n",
       "  </tbody>\n",
       "</table>\n",
       "</div>"
      ],
      "text/plain": [
       "    mileage     tacho  td_min    td_mean  tisize_rim  tisize_width  \\\n",
       "0       0.0       NaN    15.0  15.240000        22.5         315.0   \n",
       "1   16937.0  697268.0    13.7  13.841675        22.5         315.0   \n",
       "2   39463.0  719794.0    12.8  13.200000        22.5         315.0   \n",
       "3   78229.0  758560.0    11.3  11.695000        22.5         315.0   \n",
       "4  104422.0  784753.0    10.3  10.668750        22.5         315.0   \n",
       "\n",
       "   tisize_ratio  numspikes_na  \n",
       "0            80             1  \n",
       "1            80             1  \n",
       "2            80             1  \n",
       "3            80             1  \n",
       "4            80             1  "
      ]
     },
     "execution_count": 12,
     "metadata": {},
     "output_type": "execute_result"
    }
   ],
   "source": [
    "df = df[jcols]\n",
    "df.head()"
   ]
  },
  {
   "cell_type": "code",
   "execution_count": 20,
   "metadata": {},
   "outputs": [
    {
     "name": "stdout",
     "output_type": "stream",
     "text": [
      "614732\n"
     ]
    },
    {
     "name": "stderr",
     "output_type": "stream",
     "text": [
      "/Users/vedparanjape/anaconda3/lib/python3.6/site-packages/sklearn/model_selection/_split.py:2026: FutureWarning: From version 0.21, test_size will always complement train_size unless both are specified.\n",
      "  FutureWarning)\n"
     ]
    }
   ],
   "source": [
    "from sklearn.model_selection import train_test_split\n",
    "notnans = df[jcols].notnull().all(axis=1)\n",
    "df_notnans = df[notnans]\n",
    "print(len(df_notnans))\n",
    "\n",
    "# Split into 75% train and 25% test\n",
    "X_train, X_test, y_train, y_test = train_test_split(df_notnans[jcols], df_notnans[jcols],\n",
    "                                                    train_size=0.75,\n",
    "                                                    random_state=4)"
   ]
  },
  {
   "cell_type": "code",
   "execution_count": 21,
   "metadata": {},
   "outputs": [
    {
     "name": "stdout",
     "output_type": "stream",
     "text": [
      "The prediction score on the test data is 100.00%\n"
     ]
    }
   ],
   "source": [
    "from sklearn.ensemble import RandomForestRegressor\n",
    "from sklearn.multioutput import MultiOutputRegressor\n",
    "from sklearn.model_selection import train_test_split\n",
    "\n",
    "regr_multirf = MultiOutputRegressor(RandomForestRegressor(max_depth=10,\n",
    "                                                          random_state=0))\n",
    "\n",
    "# Fit on the train data\n",
    "regr_multirf.fit(X_train, y_train)\n",
    "\n",
    "# Check the prediction score\n",
    "score = regr_multirf.score(X_test, y_test)\n",
    "print(\"The prediction score on the test data is {:.2f}%\".format(score*100))\n"
   ]
  },
  {
   "cell_type": "code",
   "execution_count": 22,
   "metadata": {},
   "outputs": [
    {
     "ename": "ValueError",
     "evalue": "Input contains NaN, infinity or a value too large for dtype('float64').",
     "output_type": "error",
     "traceback": [
      "\u001b[0;31m---------------------------------------------------------------------------\u001b[0m",
      "\u001b[0;31mValueError\u001b[0m                                Traceback (most recent call last)",
      "\u001b[0;32m<ipython-input-22-90c9f801c6be>\u001b[0m in \u001b[0;36m<module>\u001b[0;34m()\u001b[0m\n\u001b[1;32m      1\u001b[0m \u001b[0;31m# df_nans = df_dummy.loc[~notnans].copy()\u001b[0m\u001b[0;34m\u001b[0m\u001b[0;34m\u001b[0m\u001b[0m\n\u001b[1;32m      2\u001b[0m \u001b[0;31m# print(df_nans[jcols].head())\u001b[0m\u001b[0;34m\u001b[0m\u001b[0;34m\u001b[0m\u001b[0m\n\u001b[0;32m----> 3\u001b[0;31m \u001b[0mdf_nans\u001b[0m\u001b[0;34m[\u001b[0m\u001b[0mjcols\u001b[0m\u001b[0;34m]\u001b[0m \u001b[0;34m=\u001b[0m \u001b[0mregr_multirf\u001b[0m\u001b[0;34m.\u001b[0m\u001b[0mpredict\u001b[0m\u001b[0;34m(\u001b[0m\u001b[0mdf_dummy\u001b[0m\u001b[0;34m[\u001b[0m\u001b[0mjcols\u001b[0m\u001b[0;34m]\u001b[0m\u001b[0;34m)\u001b[0m\u001b[0;34m\u001b[0m\u001b[0m\n\u001b[0m\u001b[1;32m      4\u001b[0m \u001b[0mdf_nans\u001b[0m\u001b[0;34m\u001b[0m\u001b[0m\n",
      "\u001b[0;32m~/anaconda3/lib/python3.6/site-packages/sklearn/multioutput.py\u001b[0m in \u001b[0;36mpredict\u001b[0;34m(self, X)\u001b[0m\n\u001b[1;32m    190\u001b[0m             \u001b[0;32mraise\u001b[0m \u001b[0mValueError\u001b[0m\u001b[0;34m(\u001b[0m\u001b[0;34m\"The base estimator should implement a predict method\"\u001b[0m\u001b[0;34m)\u001b[0m\u001b[0;34m\u001b[0m\u001b[0m\n\u001b[1;32m    191\u001b[0m \u001b[0;34m\u001b[0m\u001b[0m\n\u001b[0;32m--> 192\u001b[0;31m         \u001b[0mX\u001b[0m \u001b[0;34m=\u001b[0m \u001b[0mcheck_array\u001b[0m\u001b[0;34m(\u001b[0m\u001b[0mX\u001b[0m\u001b[0;34m,\u001b[0m \u001b[0maccept_sparse\u001b[0m\u001b[0;34m=\u001b[0m\u001b[0;32mTrue\u001b[0m\u001b[0;34m)\u001b[0m\u001b[0;34m\u001b[0m\u001b[0m\n\u001b[0m\u001b[1;32m    193\u001b[0m \u001b[0;34m\u001b[0m\u001b[0m\n\u001b[1;32m    194\u001b[0m         y = Parallel(n_jobs=self.n_jobs)(\n",
      "\u001b[0;32m~/anaconda3/lib/python3.6/site-packages/sklearn/utils/validation.py\u001b[0m in \u001b[0;36mcheck_array\u001b[0;34m(array, accept_sparse, dtype, order, copy, force_all_finite, ensure_2d, allow_nd, ensure_min_samples, ensure_min_features, warn_on_dtype, estimator)\u001b[0m\n\u001b[1;32m    451\u001b[0m                              % (array.ndim, estimator_name))\n\u001b[1;32m    452\u001b[0m         \u001b[0;32mif\u001b[0m \u001b[0mforce_all_finite\u001b[0m\u001b[0;34m:\u001b[0m\u001b[0;34m\u001b[0m\u001b[0m\n\u001b[0;32m--> 453\u001b[0;31m             \u001b[0m_assert_all_finite\u001b[0m\u001b[0;34m(\u001b[0m\u001b[0marray\u001b[0m\u001b[0;34m)\u001b[0m\u001b[0;34m\u001b[0m\u001b[0m\n\u001b[0m\u001b[1;32m    454\u001b[0m \u001b[0;34m\u001b[0m\u001b[0m\n\u001b[1;32m    455\u001b[0m     \u001b[0mshape_repr\u001b[0m \u001b[0;34m=\u001b[0m \u001b[0m_shape_repr\u001b[0m\u001b[0;34m(\u001b[0m\u001b[0marray\u001b[0m\u001b[0;34m.\u001b[0m\u001b[0mshape\u001b[0m\u001b[0;34m)\u001b[0m\u001b[0;34m\u001b[0m\u001b[0m\n",
      "\u001b[0;32m~/anaconda3/lib/python3.6/site-packages/sklearn/utils/validation.py\u001b[0m in \u001b[0;36m_assert_all_finite\u001b[0;34m(X)\u001b[0m\n\u001b[1;32m     42\u001b[0m             and not np.isfinite(X).all()):\n\u001b[1;32m     43\u001b[0m         raise ValueError(\"Input contains NaN, infinity\"\n\u001b[0;32m---> 44\u001b[0;31m                          \" or a value too large for %r.\" % X.dtype)\n\u001b[0m\u001b[1;32m     45\u001b[0m \u001b[0;34m\u001b[0m\u001b[0m\n\u001b[1;32m     46\u001b[0m \u001b[0;34m\u001b[0m\u001b[0m\n",
      "\u001b[0;31mValueError\u001b[0m: Input contains NaN, infinity or a value too large for dtype('float64')."
     ]
    }
   ],
   "source": [
    "# df_nans = df_dummy.loc[~notnans].copy()\n",
    "# print(df_nans[jcols].head())\n",
    "df_nans[jcols] = regr_multirf.predict(df_dummy[jcols])\n",
    "df_nans"
   ]
  },
  {
   "cell_type": "code",
   "execution_count": null,
   "metadata": {},
   "outputs": [],
   "source": []
  }
 ],
 "metadata": {
  "kernelspec": {
   "display_name": "Python 3",
   "language": "python",
   "name": "python3"
  },
  "language_info": {
   "codemirror_mode": {
    "name": "ipython",
    "version": 3
   },
   "file_extension": ".py",
   "mimetype": "text/x-python",
   "name": "python",
   "nbconvert_exporter": "python",
   "pygments_lexer": "ipython3",
   "version": "3.6.4"
  }
 },
 "nbformat": 4,
 "nbformat_minor": 2
}
